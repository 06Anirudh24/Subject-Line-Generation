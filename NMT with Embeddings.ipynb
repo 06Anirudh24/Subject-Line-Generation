{
 "cells": [
  {
   "cell_type": "markdown",
   "metadata": {},
   "source": [
    "# Subject Line Generation "
   ]
  },
  {
   "cell_type": "markdown",
   "metadata": {},
   "source": [
    "## Pacakges"
   ]
  },
  {
   "cell_type": "code",
   "execution_count": 2,
   "metadata": {},
   "outputs": [],
   "source": [
    "import numpy as np\n",
    "import pandas as pd\n",
    "import transformers\n",
    "# import tensorflow as tf\n",
    "import os"
   ]
  },
  {
   "cell_type": "code",
   "execution_count": 3,
   "metadata": {},
   "outputs": [],
   "source": [
    "from __future__ import unicode_literals, print_function, division\n",
    "from io import open\n",
    "import unicodedata\n",
    "import string\n",
    "import re\n",
    "import random\n",
    "\n",
    "import torch\n",
    "import torch.nn as nn\n",
    "from torch import optim\n",
    "import torch.nn.functional as F\n",
    "\n",
    "from nltk.tokenize import word_tokenize\n",
    "from gensim.models.doc2vec import Doc2Vec, TaggedDocument\n",
    "\n",
    "device = torch.device(\"cuda\" if torch.cuda.is_available() else \"cpu\")"
   ]
  },
  {
   "cell_type": "markdown",
   "metadata": {},
   "source": [
    "## Load Data "
   ]
  },
  {
   "cell_type": "code",
   "execution_count": 4,
   "metadata": {},
   "outputs": [
    {
     "name": "stdout",
     "output_type": "stream",
     "text": [
      "/home/mluser/users/data/subject_line\n"
     ]
    }
   ],
   "source": [
    "ROOT = '/home/mluser/users'\n",
    "data_subjects = os.path.join(ROOT, 'data', 'subject_line')\n",
    "print(data_subjects)"
   ]
  },
  {
   "cell_type": "code",
   "execution_count": 5,
   "metadata": {
    "scrolled": true
   },
   "outputs": [
    {
     "name": "stdout",
     "output_type": "stream",
     "text": [
      "30\n"
     ]
    }
   ],
   "source": [
    "result = []\n",
    "for (r, d, f) in os.walk(data_subjects):\n",
    "    df = pd.read_parquet(os.path.join(r, f[15]))\n",
    "    print(len(f))\n",
    "#     for i in f:\n",
    "#         result.append(pd.read_parquet(os.path.join(r, i)))"
   ]
  },
  {
   "cell_type": "code",
   "execution_count": 6,
   "metadata": {},
   "outputs": [],
   "source": [
    "data = list(set(df['subject'].dropna()))"
   ]
  },
  {
   "cell_type": "code",
   "execution_count": 7,
   "metadata": {},
   "outputs": [
    {
     "data": {
      "text/plain": [
       "135047"
      ]
     },
     "execution_count": 7,
     "metadata": {},
     "output_type": "execute_result"
    }
   ],
   "source": [
    "len(data)"
   ]
  },
  {
   "cell_type": "code",
   "execution_count": 8,
   "metadata": {},
   "outputs": [],
   "source": [
    "final = []\n",
    "for d in data:\n",
    "    k = [l for l in d if l==\"{\" or l==\"}\" or l==\"[\" or l==\"]\" or l==\"(\" or l==\")\"]\n",
    "    if len(k)<4:\n",
    "        if \"Lewisville\" not in d:\n",
    "            final.append(d)\n",
    "data = final"
   ]
  },
  {
   "cell_type": "code",
   "execution_count": 9,
   "metadata": {},
   "outputs": [],
   "source": [
    "MAX_LENGTH = 20\n",
    "\n",
    "def filterSubject(p):\n",
    "    return len(p.split(' ')) < MAX_LENGTH\n",
    "\n",
    "def filterSubjects(subs):\n",
    "    return [sub for sub in subs if filterSubject(sub)]"
   ]
  },
  {
   "cell_type": "code",
   "execution_count": 10,
   "metadata": {},
   "outputs": [
    {
     "name": "stdout",
     "output_type": "stream",
     "text": [
      "93660\n"
     ]
    }
   ],
   "source": [
    "print(len(data))\n",
    "data = filterSubjects(data)"
   ]
  },
  {
   "cell_type": "code",
   "execution_count": 11,
   "metadata": {},
   "outputs": [],
   "source": [
    "def normalizeString(s):\n",
    "    s = s.lower().strip()\n",
    "    s = re.sub(r\"([.!?])\", r\" \\1\", s)\n",
    "    s = re.sub(r\"[^a-zA-Z.!?]+\", r\" \", s)\n",
    "    return s"
   ]
  },
  {
   "cell_type": "code",
   "execution_count": 12,
   "metadata": {},
   "outputs": [],
   "source": [
    "data = [normalizeString(d) for d in data]"
   ]
  },
  {
   "cell_type": "code",
   "execution_count": 69,
   "metadata": {},
   "outputs": [
    {
     "data": {
      "text/plain": [
       "87823"
      ]
     },
     "execution_count": 69,
     "metadata": {},
     "output_type": "execute_result"
    }
   ],
   "source": [
    "len(data)"
   ]
  },
  {
   "cell_type": "markdown",
   "metadata": {},
   "source": [
    "## Install Glove word embeddings"
   ]
  },
  {
   "cell_type": "code",
   "execution_count": 5,
   "metadata": {
    "scrolled": true
   },
   "outputs": [
    {
     "name": "stdout",
     "output_type": "stream",
     "text": [
      "--2022-02-03 21:45:22--  http://nlp.stanford.edu/data/glove.6B.zip\n",
      "Resolving nlp.stanford.edu (nlp.stanford.edu)... 171.64.67.140\n",
      "Connecting to nlp.stanford.edu (nlp.stanford.edu)|171.64.67.140|:80... connected.\n",
      "HTTP request sent, awaiting response... 302 Found\n",
      "Location: https://nlp.stanford.edu/data/glove.6B.zip [following]\n",
      "--2022-02-03 21:45:23--  https://nlp.stanford.edu/data/glove.6B.zip\n",
      "Connecting to nlp.stanford.edu (nlp.stanford.edu)|171.64.67.140|:443... connected.\n",
      "HTTP request sent, awaiting response... 301 Moved Permanently\n",
      "Location: http://downloads.cs.stanford.edu/nlp/data/glove.6B.zip [following]\n",
      "--2022-02-03 21:45:23--  http://downloads.cs.stanford.edu/nlp/data/glove.6B.zip\n",
      "Resolving downloads.cs.stanford.edu (downloads.cs.stanford.edu)... 171.64.64.22\n",
      "Connecting to downloads.cs.stanford.edu (downloads.cs.stanford.edu)|171.64.64.22|:80... connected.\n",
      "HTTP request sent, awaiting response... 200 OK\n",
      "Length: 862182613 (822M) [application/zip]\n",
      "Saving to: ‘glove.6B.zip’\n",
      "\n",
      "100%[======================================>] 862,182,613 5.06MB/s   in 2m 41s \n",
      "\n",
      "2022-02-03 21:48:04 (5.12 MB/s) - ‘glove.6B.zip’ saved [862182613/862182613]\n",
      "\n"
     ]
    }
   ],
   "source": [
    "# !wget http://nlp.stanford.edu/data/glove.6B.zip"
   ]
  },
  {
   "cell_type": "code",
   "execution_count": 6,
   "metadata": {},
   "outputs": [
    {
     "name": "stdout",
     "output_type": "stream",
     "text": [
      "Archive:  glove.6B.zip\n",
      "  inflating: glove.6B.50d.txt        \n",
      "  inflating: glove.6B.100d.txt       \n",
      "  inflating: glove.6B.200d.txt       \n",
      "  inflating: glove.6B.300d.txt       \n"
     ]
    }
   ],
   "source": [
    "# !unzip glove.6B.zip"
   ]
  },
  {
   "cell_type": "markdown",
   "metadata": {},
   "source": [
    "## Training Data"
   ]
  },
  {
   "cell_type": "markdown",
   "metadata": {},
   "source": [
    "### Gensim Embeddings + Euclidean"
   ]
  },
  {
   "cell_type": "markdown",
   "metadata": {},
   "source": [
    "#### Text Preprocessing"
   ]
  },
  {
   "cell_type": "code",
   "execution_count": 70,
   "metadata": {},
   "outputs": [],
   "source": [
    "def w2v_tokenize_text(text):\n",
    "    tokens = []\n",
    "    for sent in nltk.sent_tokenize(text, language='english'):\n",
    "        for word in nltk.word_tokenize(sent, language='english'):\n",
    "            if len(word) < 2:\n",
    "                continue\n",
    "            tokens.append(word)\n",
    "    return tokens"
   ]
  },
  {
   "cell_type": "code",
   "execution_count": 71,
   "metadata": {},
   "outputs": [],
   "source": [
    "import nltk\n",
    "t = []\n",
    "for i in data:\n",
    "    t.append(w2v_tokenize_text(i))"
   ]
  },
  {
   "cell_type": "markdown",
   "metadata": {},
   "source": [
    "#### Glove Word Embeddings"
   ]
  },
  {
   "cell_type": "code",
   "execution_count": 72,
   "metadata": {},
   "outputs": [
    {
     "name": "stdout",
     "output_type": "stream",
     "text": [
      "Total number of words and corresponding vectors in word2vectors are 400000\n"
     ]
    }
   ],
   "source": [
    "import os\n",
    "import numpy as np\n",
    "\n",
    "# Create Empty dictionary\n",
    "word2vector = {}\n",
    "\n",
    "#Create a dictionary with word and corresponding vector\n",
    "with open(os.path.join('./glove.6B/glove.6B.300d.txt')) as file:\n",
    "  \n",
    "  for line in file:\n",
    "    list_of_values = line.split()    \t\n",
    "    word = list_of_values[0]\n",
    "    vector_of_word = np.asarray(list_of_values[1:], dtype='float32')\n",
    "    word2vector[word] = vector_of_word\n",
    "\n",
    "msg = f\"Total number of words and corresponding vectors in word2vectors are {len(word2vector)}\"\n",
    "print(msg)"
   ]
  },
  {
   "cell_type": "code",
   "execution_count": 74,
   "metadata": {},
   "outputs": [],
   "source": [
    "import gensim\n",
    "def wordprint(words,wv):\n",
    "    all_words, mean = set(), []\n",
    "    for word in words:\n",
    "        if isinstance(word, np.ndarray):\n",
    "            mean.append(word)\n",
    "        elif word in wv.keys():\n",
    "           a = np.array(wv.loc[word])\n",
    "           mean.append(a)\n",
    "    if not mean:\n",
    "        logging.warning(\"cannot compute similarity with no input %s\", words)\n",
    "        # FIXME: remove these examples in pre-processing\n",
    "        return np.zeros(300,)   \n",
    "    mean = gensim.matutils.unitvec(np.array(mean).mean(axis=0)).astype(np.float32)\n",
    "    return mean    \n",
    "\n",
    "def getMeanEmbeddings(subject, w2v):\n",
    "    mean = []\n",
    "    count = 0\n",
    "    for word in subject:\n",
    "        if word in w2v.keys():\n",
    "            mean.append(w2v[word])\n",
    "            count+=1\n",
    "#         else:\n",
    "#             print(word, ' not in vocabulary.')\n",
    "    if count>0:\n",
    "        mean = gensim.matutils.unitvec(np.array(mean).mean(axis=0)).astype(np.float32)\n",
    "        return mean\n",
    "    else:\n",
    "        return np.zeros(300,)\n",
    "\n",
    "def  word_averaging_listn(w2v, subjects):\n",
    "    return np.vstack([getMeanEmbeddings(subject, w2v) for subject in subjects ])"
   ]
  },
  {
   "cell_type": "code",
   "execution_count": 77,
   "metadata": {},
   "outputs": [],
   "source": [
    "avg_embeddings=word_averaging_listn(word2vector, t)"
   ]
  },
  {
   "cell_type": "code",
   "execution_count": 78,
   "metadata": {},
   "outputs": [
    {
     "data": {
      "text/plain": [
       "(87823, 300)"
      ]
     },
     "execution_count": 78,
     "metadata": {},
     "output_type": "execute_result"
    }
   ],
   "source": [
    "avg_embeddings.shape"
   ]
  },
  {
   "cell_type": "code",
   "execution_count": 79,
   "metadata": {
    "collapsed": true
   },
   "outputs": [
    {
     "data": {
      "text/plain": [
       "('consultez l activit de votre compte paypal',\n",
       " array([ 4.3665e-01,  1.8793e-01, -1.7022e-01, -1.0869e-01,  1.9476e-01,\n",
       "        -2.4502e-01, -7.7660e-01, -2.5813e-01,  4.3630e-01, -2.0884e+00,\n",
       "        -9.6794e-03,  1.4941e-01,  7.2166e-02, -6.5154e-01, -3.0189e-01,\n",
       "         8.5747e-01, -3.1906e-02, -4.5204e-01,  8.4932e-02, -4.1816e-01,\n",
       "         2.6820e-01, -4.5985e-02,  8.0586e-01, -1.3507e-01, -4.7616e-01,\n",
       "         1.4891e-01,  2.3255e-01,  3.2640e-01,  2.1525e-01, -4.9949e-01,\n",
       "         4.6968e-01,  1.5521e-01,  4.8574e-01,  3.3412e-01, -1.4695e+00,\n",
       "         6.2657e-02,  1.9865e-01, -2.9627e-01, -3.4174e-02, -3.9326e-01,\n",
       "         4.5055e-02,  2.7545e-01, -2.3320e-01, -4.9622e-02, -3.3297e-01,\n",
       "        -4.0912e-01, -2.4932e-01, -3.8237e-01,  8.8357e-02, -3.8397e-01,\n",
       "        -2.0878e-01,  1.2368e-03,  3.4651e-01,  1.0924e+00,  5.1525e-01,\n",
       "         2.9204e-01, -2.0349e-01,  4.0670e-01,  7.7727e-01, -7.7313e-02,\n",
       "        -2.3235e-02,  1.2527e-01,  4.2712e-01, -2.3133e-01,  4.2311e-01,\n",
       "        -4.6994e-01, -3.7960e-01,  6.0969e-01, -3.7170e-01, -1.3120e-01,\n",
       "         1.5344e-01,  1.6609e-01, -4.7717e-01,  3.4073e-01,  1.9271e-01,\n",
       "        -5.2350e-01, -1.0370e-01,  2.6739e-01, -6.5121e-02,  1.0389e-01,\n",
       "         7.4172e-03, -2.0989e-01,  1.0296e+00,  6.2499e-01,  1.0013e-01,\n",
       "         1.7658e-01, -5.4048e-01,  6.7968e-01, -1.6671e-01, -1.0488e-01,\n",
       "        -3.4262e-01, -5.8698e-01, -8.5952e-01,  8.8881e-02, -3.2902e-05,\n",
       "         7.5139e-02, -1.7108e-01,  5.6085e-01,  1.8821e-01, -2.1828e-01,\n",
       "         3.6976e-01, -6.3304e-01,  1.5313e-01,  3.8034e-01, -2.0838e-01,\n",
       "         4.0355e-01,  6.6327e-02, -6.2468e-01,  3.1332e-01,  1.7713e-02,\n",
       "         3.3675e-01,  7.3247e-02, -4.2814e-01,  2.2235e-01,  6.3945e-01,\n",
       "         2.2559e-01, -6.5049e-02, -7.2179e-01,  1.6574e-01, -9.9642e-02,\n",
       "        -2.5327e-01,  6.0604e-02, -1.5080e-02, -5.0173e-01,  1.0920e-01,\n",
       "        -2.8777e-01,  4.3032e-01,  2.5513e-01,  2.4696e-01,  5.2616e-01,\n",
       "        -1.0741e+00,  2.9500e-01, -1.8752e-01, -1.9558e-01, -9.7544e-02,\n",
       "        -1.2947e-01, -1.3892e-01, -9.6884e-02,  1.7863e-01,  1.3198e-01,\n",
       "        -2.2575e-01, -2.9770e-01,  4.5885e-02,  4.0300e-01, -2.1635e-01,\n",
       "         4.3531e-02, -1.0648e-01, -7.6258e-01, -5.0216e-01, -3.0577e-01,\n",
       "         1.2029e+00, -5.0100e-02,  5.2683e-01,  2.6516e-01,  5.1376e-01,\n",
       "        -2.2363e-01,  4.3115e-01,  7.9391e-02,  4.6038e-01, -1.3124e-01,\n",
       "         5.3734e-01,  5.7656e-01,  3.5664e-01,  5.0244e-01, -5.5748e-01,\n",
       "        -4.9756e-01, -2.0605e-01, -2.3667e-01,  1.2107e-01,  5.1437e-01,\n",
       "         9.7478e-02,  8.4950e-02, -9.9625e-01, -9.1041e-02,  4.2855e-01,\n",
       "         8.3959e-01, -9.2406e-03,  8.1366e-02, -4.3783e-01,  5.4968e-01,\n",
       "         2.8865e-01,  4.6515e-01,  4.3497e-01, -2.9785e-01, -4.0674e-01,\n",
       "         4.8918e-01, -8.5563e-01,  1.4251e-01, -2.5367e-01,  2.1165e-01,\n",
       "        -4.0318e-03, -2.3372e-01,  1.5675e-01, -7.1197e-01, -1.5919e-01,\n",
       "         1.0081e-01,  8.9967e-01, -7.7928e-02,  4.6789e-01,  3.1028e-01,\n",
       "         5.9796e-01, -4.9359e-01,  4.4960e-01, -1.8579e-01,  5.0421e-01,\n",
       "        -7.9484e-01,  6.4198e-01, -1.3685e-01, -1.6068e-02, -8.3894e-01,\n",
       "         5.9606e-01, -6.2083e-01,  5.7545e-01, -5.0092e-02,  4.4600e-01,\n",
       "        -2.5124e-02,  2.5411e-01, -6.8774e-01, -4.9954e-01, -3.8740e-01,\n",
       "         6.6048e-01, -3.0628e-02, -1.1134e-01,  1.0664e-01,  3.5612e-01,\n",
       "         4.3320e-03,  2.8770e-01,  1.0258e-01, -6.2883e-01,  2.3150e-01,\n",
       "         4.3142e-01,  2.3844e-02,  3.0490e-01,  7.3156e-01,  1.9849e-01,\n",
       "        -9.7109e-01, -1.5122e-01, -7.8800e-01,  4.1911e-01, -1.5073e-01,\n",
       "        -2.1868e-02,  4.0881e-01,  5.7548e-02, -3.2602e-01,  9.9069e-02,\n",
       "         3.4200e-02,  1.2749e-01, -5.7361e-01,  3.5564e-01, -2.0312e-01,\n",
       "         9.2886e-01, -1.8930e-01,  1.2403e-01, -3.1687e-01,  3.7841e-01,\n",
       "        -6.8967e-02,  1.5161e-01, -5.7127e-01,  3.2736e-01, -4.7846e-01,\n",
       "        -6.0216e-01, -6.9381e-02, -2.2023e-01, -4.1122e-01,  5.3483e-01,\n",
       "         3.8502e-01,  1.5791e-02,  7.8551e-01, -1.2136e-01, -9.8496e-02,\n",
       "         1.3987e-01,  1.3828e-01,  2.3389e-01, -3.7980e-01,  5.2184e-01,\n",
       "         3.0150e-01, -1.3715e+00, -2.3495e-02,  1.2326e+00, -6.5452e-01,\n",
       "        -2.1795e-01, -5.8907e-01,  2.0631e-01,  2.9072e-02,  8.4643e-02,\n",
       "         5.8652e-01, -1.3796e-01,  3.5852e-01,  7.5449e-02, -3.7824e-01,\n",
       "         2.6713e-01, -6.7144e-02,  5.2079e-01, -3.1357e-01, -4.5889e-01,\n",
       "         4.9779e-01,  7.4689e-02,  3.2894e-02, -5.2144e-01,  2.2295e-01],\n",
       "       dtype=float32))"
      ]
     },
     "execution_count": 79,
     "metadata": {},
     "output_type": "execute_result"
    }
   ],
   "source": [
    "data[90], embeddings[90]"
   ]
  },
  {
   "cell_type": "code",
   "execution_count": null,
   "metadata": {},
   "outputs": [],
   "source": []
  },
  {
   "cell_type": "markdown",
   "metadata": {},
   "source": [
    "# Subject 10"
   ]
  },
  {
   "cell_type": "markdown",
   "metadata": {},
   "source": [
    "## Euclidean Distance between Embeddings"
   ]
  },
  {
   "cell_type": "code",
   "execution_count": 31,
   "metadata": {},
   "outputs": [],
   "source": [
    "embeddings = list(word2vector.values())"
   ]
  },
  {
   "cell_type": "code",
   "execution_count": 88,
   "metadata": {},
   "outputs": [],
   "source": [
    "def get_top_ind_eu(num, top):\n",
    "    dist = {}\n",
    "    for (i,d) in enumerate(avg_embeddings):\n",
    "        dist[i] =  np.linalg.norm(d-avg_embeddings[num])\n",
    "    dist = dict(sorted(dist.items(),key= lambda x:x[1]))\n",
    "    return list(dist.keys())[:top]"
   ]
  },
  {
   "cell_type": "code",
   "execution_count": 89,
   "metadata": {},
   "outputs": [],
   "source": [
    "def get_top_subj_eu(d, ind, top, printOutput=False):\n",
    "    out = [d[i] for i in get_top_ind_eu(ind,top)]\n",
    "    if printOutput:\n",
    "        print('Input Subject: ', d[ind], '\\n')\n",
    "        for o in out:\n",
    "            print('Output Subject: ', o)\n",
    "    return out"
   ]
  },
  {
   "cell_type": "code",
   "execution_count": 82,
   "metadata": {},
   "outputs": [
    {
     "name": "stdout",
     "output_type": "stream",
     "text": [
      "Input Subject:  could once a day be the appropriate choice ? \n",
      "\n",
      "Output Subject:  could once a day be the appropriate choice ?\n",
      "Output Subject:  now this is serious spring saving\n",
      "Output Subject:  beste aussichten fu r ihren online shop mit paypal plus\n",
      "Output Subject:  who st . patrick really was ireland s most enchanting castle and why ireland is snakeless\n",
      "Output Subject:  testing click heat map please click around the header footer and main \n",
      "Output Subject:  summary report hold notice cie \n",
      "Output Subject:   banggood victoria s secret gymboree .\n",
      "Output Subject:   preseason is here grab a win in this week s fantasy slate contest !\n",
      "Output Subject:  because we truly appreciate your business\n",
      "Output Subject:  hasta un m s de ventas con las herramientas de paypal\n"
     ]
    },
    {
     "data": {
      "text/plain": [
       "['could once a day be the appropriate choice ?',\n",
       " 'now this is serious spring saving',\n",
       " 'beste aussichten fu r ihren online shop mit paypal plus',\n",
       " 'who st . patrick really was ireland s most enchanting castle and why ireland is snakeless',\n",
       " 'testing click heat map please click around the header footer and main ',\n",
       " 'summary report hold notice cie ',\n",
       " ' banggood victoria s secret gymboree .',\n",
       " ' preseason is here grab a win in this week s fantasy slate contest !',\n",
       " 'because we truly appreciate your business',\n",
       " 'hasta un m s de ventas con las herramientas de paypal']"
      ]
     },
     "execution_count": 82,
     "metadata": {},
     "output_type": "execute_result"
    }
   ],
   "source": [
    "get_top_subj_eu(data, 150, 10, True)"
   ]
  },
  {
   "cell_type": "code",
   "execution_count": null,
   "metadata": {},
   "outputs": [],
   "source": []
  },
  {
   "cell_type": "markdown",
   "metadata": {},
   "source": [
    "## Training and Testing data"
   ]
  },
  {
   "cell_type": "code",
   "execution_count": 153,
   "metadata": {},
   "outputs": [],
   "source": [
    "from tqdm import tqdm\n",
    "\n",
    "def prepareData(data, word2vec, top_k=5, subLen=1000):\n",
    "    print(\"Read %s subject lines\" % len(data))    \n",
    "    clean_subjects = data\n",
    "    word2vec['EOS'] = np.zeros((300,))\n",
    "    word2vec['SOS'] = np.zeros((300,))\n",
    "    for i in tqdm(clean_subjects):\n",
    "        for word in i.split(' '):\n",
    "            if word not in word2vec.keys():\n",
    "                word2vec[word] = np.zeros((300,))\n",
    "    print(\"Trimmed to %s subjects\" % len(clean_subjects))\n",
    "    \n",
    "    embeddings = list(word2vec.values())    \n",
    "    print(\"Generating Similar subject lines...\")\n",
    "    output_subjects = []\n",
    "    for i, clean_subject in enumerate(tqdm(clean_subjects)):\n",
    "        if i<subLen:\n",
    "            output = get_top_subj_eu(clean_subjects, i, top_k)  \n",
    "            output_subjects.append(output)\n",
    "        \n",
    "    print(\"Saved input-output data\")\n",
    "    \n",
    "    return clean_subjects, output_subjects, word2vec"
   ]
  },
  {
   "cell_type": "code",
   "execution_count": 85,
   "metadata": {},
   "outputs": [
    {
     "data": {
      "text/plain": [
       "87823"
      ]
     },
     "execution_count": 85,
     "metadata": {},
     "output_type": "execute_result"
    }
   ],
   "source": [
    "len(data)"
   ]
  },
  {
   "cell_type": "code",
   "execution_count": 90,
   "metadata": {
    "scrolled": false
   },
   "outputs": [
    {
     "name": "stdout",
     "output_type": "stream",
     "text": [
      "Read 87823 subject lines\n"
     ]
    },
    {
     "name": "stderr",
     "output_type": "stream",
     "text": [
      "100%|██████████████████████████████████████████████████████████████████████████████████████████████████████| 87823/87823 [00:00<00:00, 466022.58it/s]\n"
     ]
    },
    {
     "name": "stdout",
     "output_type": "stream",
     "text": [
      "Trimmed to 87823 subjects\n",
      "Generating Similar subject lines...\n"
     ]
    },
    {
     "name": "stderr",
     "output_type": "stream",
     "text": [
      "100%|█████████████████████████████████████████████████████████████████████████████████████████████████████████| 87823/87823 [12:02<00:00, 121.48it/s]"
     ]
    },
    {
     "name": "stdout",
     "output_type": "stream",
     "text": [
      "Saved input-output data\n"
     ]
    },
    {
     "name": "stderr",
     "output_type": "stream",
     "text": [
      "\n"
     ]
    }
   ],
   "source": [
    "input_subjects, output_subjects, word2vec = prepareData(data, word2vector,5, 1000)"
   ]
  },
  {
   "cell_type": "code",
   "execution_count": null,
   "metadata": {
    "scrolled": true
   },
   "outputs": [],
   "source": [
    "print(random.choice(input_subjects))\n",
    "print(random.choice(output_subjects))"
   ]
  },
  {
   "cell_type": "markdown",
   "metadata": {},
   "source": [
    "# Autoencoder + Decoder Models"
   ]
  },
  {
   "cell_type": "markdown",
   "metadata": {},
   "source": [
    "## Model"
   ]
  },
  {
   "cell_type": "code",
   "execution_count": 176,
   "metadata": {},
   "outputs": [],
   "source": [
    "class EncoderRNN(nn.Module):\n",
    "    def __init__(self, input_size, hidden_size, matrix_embeddings):\n",
    "        super(EncoderRNN, self).__init__()\n",
    "        self.hidden_size = hidden_size\n",
    "\n",
    "        self.embedding = nn.Embedding.from_pretrained(matrix_embeddings)\n",
    "        self.embedding.requires_grad = False\n",
    "        self.gru = nn.GRU(hidden_size, hidden_size)\n",
    "\n",
    "    def forward(self, input, hidden):\n",
    "        embedded = self.embedding(input)\n",
    "        embedded = embedded.view(1,1,-1)\n",
    "        output = embedded.float()\n",
    "        output, hidden = self.gru(output, hidden)\n",
    "        return output, hidden\n",
    "\n",
    "    def initHidden(self):\n",
    "        return torch.zeros(1, 1, self.hidden_size, device=device)"
   ]
  },
  {
   "cell_type": "code",
   "execution_count": 177,
   "metadata": {},
   "outputs": [],
   "source": [
    "class DecoderRNN(nn.Module):\n",
    "    def __init__(self, hidden_size, output_size, matrix_embeddings):\n",
    "        super(DecoderRNN, self).__init__()\n",
    "        self.hidden_size = hidden_size\n",
    "\n",
    "        self.embedding = nn.Embedding.from_pretrained(matrix_embeddings)\n",
    "#         .view(1, 1, -1)\n",
    "        self.embedding.requires_grad = False\n",
    "        self.gru = nn.GRU(hidden_size, hidden_size)\n",
    "        self.out = nn.Linear(hidden_size, output_size)\n",
    "        self.softmax = nn.LogSoftmax(dim=1)\n",
    "\n",
    "    def forward(self, input, hidden):\n",
    "        embedded = self.embedding(input)\n",
    "        # .view(1, 1, -1)\n",
    "        print(embedded.shape)\n",
    "        embedded = embedded.view(1,1,-1).float()\n",
    "        output = F.relu(output)\n",
    "        output, hidden = self.gru(output, hidden)\n",
    "        output = self.softmax(self.out(output[0]))\n",
    "        return output, hidden\n",
    "\n",
    "    def initHidden(self):\n",
    "        return torch.zeros(1, 1, self.hidden_size, device=device)"
   ]
  },
  {
   "cell_type": "code",
   "execution_count": 178,
   "metadata": {},
   "outputs": [],
   "source": [
    "class AttnDecoderRNN(nn.Module):\n",
    "    def __init__(self, hidden_size, output_size, matrix_embeddings, dropout_p=0.1, max_length=MAX_LENGTH):\n",
    "        super(AttnDecoderRNN, self).__init__()\n",
    "        self.hidden_size = hidden_size\n",
    "        self.output_size = output_size\n",
    "        self.dropout_p = dropout_p\n",
    "        self.max_length = max_length\n",
    "\n",
    "        self.embedding = nn.Embedding.from_pretrained(matrix_embeddings)\n",
    "        self.embedding.requires_grad = False\n",
    "        self.attn = nn.Linear(self.hidden_size * 2, self.max_length)\n",
    "        self.attn_combine = nn.Linear(self.hidden_size * 2, self.hidden_size)\n",
    "        self.dropout = nn.Dropout(self.dropout_p)\n",
    "        self.gru = nn.GRU(self.hidden_size, self.hidden_size)\n",
    "        self.out = nn.Linear(self.hidden_size, self.output_size)\n",
    "\n",
    "    def forward(self, input, hidden, encoder_outputs):\n",
    "        embedded = self.embedding(input)\n",
    "        # .view(1, 1, -1)\n",
    "        embedded = embedded.view(1,1,-1).float()\n",
    "        embedded = self.dropout(embedded)\n",
    "#         print('Decoder Embedded after reshape: ', embedded.shape)\n",
    "\n",
    "        attn_weights = F.softmax(\n",
    "            self.attn(torch.cat((embedded[0], hidden[0]), 1)), \n",
    "            dim=1\n",
    "        )\n",
    "#         print(attn_weights.shape)\n",
    "        attn_applied = torch.bmm(attn_weights.unsqueeze(0),\n",
    "                                 encoder_outputs.unsqueeze(0)\n",
    "                                )\n",
    "#         print(attn_applied.shape)\n",
    "\n",
    "        output = torch.cat((embedded[0], attn_applied[0]), 1)\n",
    "#         print(output.shape)\n",
    "        output = self.attn_combine(output).unsqueeze(0)\n",
    "#         print(output.shape)\n",
    "\n",
    "        output = F.relu(output)\n",
    "#         print(output.shape)\n",
    "        output, hidden = self.gru(output, hidden)\n",
    "#         print(output.shape, hidden.shape)\n",
    "\n",
    "        output = F.log_softmax(self.out(output[0]), dim=1)\n",
    "#         print('Decoder - Outputs: ', output.shape, ' Hidden: ', hidden.shape, ' Attn. Weights: ', attn_weights.shape)\n",
    "        return output, hidden, attn_weights\n",
    "\n",
    "    def initHidden(self):\n",
    "        return torch.zeros(1, 1, self.hidden_size, device=device)"
   ]
  },
  {
   "cell_type": "markdown",
   "metadata": {},
   "source": [
    "## Training"
   ]
  },
  {
   "cell_type": "markdown",
   "metadata": {},
   "source": [
    "### Autoencoder Training"
   ]
  },
  {
   "cell_type": "markdown",
   "metadata": {},
   "source": [
    "#### Preprocessing"
   ]
  },
  {
   "cell_type": "code",
   "execution_count": 93,
   "metadata": {},
   "outputs": [
    {
     "data": {
      "text/plain": [
       "(300,)"
      ]
     },
     "execution_count": 93,
     "metadata": {},
     "output_type": "execute_result"
    }
   ],
   "source": [
    "word2vec['life'].shape"
   ]
  },
  {
   "cell_type": "code",
   "execution_count": 94,
   "metadata": {},
   "outputs": [],
   "source": [
    "words = []\n",
    "embedded = []\n",
    "for i, (word, vector) in enumerate(word2vec.items()):\n",
    "    words.append(word)\n",
    "    embedded.append(vector)"
   ]
  },
  {
   "cell_type": "code",
   "execution_count": 95,
   "metadata": {},
   "outputs": [
    {
     "data": {
      "text/plain": [
       "400000"
      ]
     },
     "execution_count": 95,
     "metadata": {},
     "output_type": "execute_result"
    }
   ],
   "source": [
    "EOS_token = words.index('EOS')\n",
    "EOS_token"
   ]
  },
  {
   "cell_type": "code",
   "execution_count": 96,
   "metadata": {},
   "outputs": [
    {
     "data": {
      "text/plain": [
       "11033"
      ]
     },
     "execution_count": 96,
     "metadata": {},
     "output_type": "execute_result"
    }
   ],
   "source": [
    "len(words[400000:])\n",
    "# words[400000:]"
   ]
  },
  {
   "cell_type": "code",
   "execution_count": 264,
   "metadata": {},
   "outputs": [],
   "source": [
    "w_n, e_n = np.array(words), np.array(embedded)"
   ]
  },
  {
   "cell_type": "code",
   "execution_count": null,
   "metadata": {},
   "outputs": [],
   "source": [
    "w_n.tofile( 'words.csv',  sep = ',')\n",
    "e_n.tofile( 'embedded.csv',  sep = ',')"
   ]
  },
  {
   "cell_type": "code",
   "execution_count": 119,
   "metadata": {},
   "outputs": [],
   "source": [
    "## Customized\n",
    "def indexesFromSentence(sentence):\n",
    "    temp = []\n",
    "    for word in sentence.split(' '):\n",
    "        temp.append(words.index(word))\n",
    "    return temp\n",
    "\n",
    "def tensorFromSentence(sentence):\n",
    "    indexes = indexesFromSentence(sentence)\n",
    "    indexes.append(words.index('EOS'))\n",
    "    return torch.tensor(indexes, dtype=torch.long, device=device).view(-1, 1)\n",
    "\n",
    "def tensorsFromSubsTar1(input_subject, k=0):\n",
    "    input_tensor = tensorFromSentence(input_subject)\n",
    "    i = input_subjects.index(input_subject)\n",
    "    target_tensors= tensorFromSentence(output_subjects[i][k])\n",
    "    return (input_tensor, target_tensors)\n",
    "\n",
    "def tensorsFromInSub(input_subject):\n",
    "    input_tensor = tensorFromSentence(input_subject)\n",
    "    return (input_tensor, input_tensor)"
   ]
  },
  {
   "cell_type": "markdown",
   "metadata": {},
   "source": [
    "### Encoder"
   ]
  },
  {
   "cell_type": "code",
   "execution_count": 179,
   "metadata": {},
   "outputs": [],
   "source": [
    "# Original\n",
    "teacher_forcing_ratio = 0.5\n",
    "\n",
    "def train(input_tensor, target_tensor, encoder, decoder, encoder_optimizer, decoder_optimizer, criterion, max_length=MAX_LENGTH):\n",
    "    encoder_hidden = encoder.initHidden()\n",
    "    \n",
    "    encoder_optimizer.zero_grad()\n",
    "    decoder_optimizer.zero_grad()\n",
    "\n",
    "    input_length = input_tensor.size(0)\n",
    "    target_length = target_tensor.size(0)\n",
    "\n",
    "    encoder_outputs = torch.zeros(max_length, encoder.hidden_size, device=device)\n",
    "\n",
    "    loss = 0\n",
    "\n",
    "    # Encoder Training\n",
    "    for ei in range(input_length):\n",
    "        encoder_output, encoder_hidden = encoder(\n",
    "            input_tensor[ei], encoder_hidden)\n",
    "        encoder_outputs[ei] = encoder_output[0, 0]\n",
    "\n",
    "    decoder_input = torch.tensor([[SOS_token]], device=device)\n",
    "\n",
    "    decoder_hidden = encoder_hidden\n",
    "\n",
    "    use_teacher_forcing = True if random.random() < teacher_forcing_ratio else False\n",
    "\n",
    "    # Decoder Training\n",
    "    if use_teacher_forcing:\n",
    "        # Teacher forcing: Feed the target as the next input\n",
    "        for di in range(1,target_length):\n",
    "            decoder_output, decoder_hidden, decoder_attention = decoder(\n",
    "                decoder_input, decoder_hidden, encoder_outputs)\n",
    "            loss += criterion(decoder_output, target_tensor[di])\n",
    "            decoder_input = target_tensor[di]  # Teacher forcing\n",
    "\n",
    "    else:\n",
    "        # Without teacher forcing: use its own predictions as the next input\n",
    "        for di in range(target_length):\n",
    "            decoder_output, decoder_hidden, decoder_attention = decoder(\n",
    "                decoder_input, decoder_hidden, encoder_outputs)\n",
    "            topv, topi = decoder_output.topk(1)\n",
    "            decoder_input = topi.squeeze().detach()  # detach from history as input\n",
    "\n",
    "            loss += criterion(decoder_output, target_tensor[di])\n",
    "            if decoder_input.item() == EOS_token:\n",
    "                break\n",
    "\n",
    "    loss.backward()\n",
    "\n",
    "    encoder_optimizer.step()\n",
    "    decoder_optimizer.step()\n",
    "\n",
    "    return loss.item() / target_length"
   ]
  },
  {
   "cell_type": "code",
   "execution_count": 180,
   "metadata": {},
   "outputs": [],
   "source": [
    "import time\n",
    "import math\n",
    "\n",
    "def asMinutes(s):\n",
    "    m = math.floor(s / 60)\n",
    "    s -= m * 60\n",
    "    return '%dm %ds' % (m, s)\n",
    "\n",
    "def timeSince(since, percent):\n",
    "    now = time.time()\n",
    "    s = now - since\n",
    "    es = s / (percent)\n",
    "    rs = es - s\n",
    "    return '%s (- %s)' % (asMinutes(s), asMinutes(rs))"
   ]
  },
  {
   "cell_type": "code",
   "execution_count": 181,
   "metadata": {},
   "outputs": [],
   "source": [
    "import matplotlib.pyplot as plt\n",
    "plt.switch_backend('agg')\n",
    "import matplotlib.ticker as ticker\n",
    "import numpy as np\n",
    "\n",
    "def showPlot(points):\n",
    "    plt.figure()\n",
    "    fig, ax = plt.subplots()\n",
    "    # this locator puts ticks at regular intervals\n",
    "    loc = ticker.MultipleLocator(base=0.2)\n",
    "    ax.yaxis.set_major_locator(loc)\n",
    "    plt.plot(points)"
   ]
  },
  {
   "cell_type": "code",
   "execution_count": 182,
   "metadata": {},
   "outputs": [],
   "source": [
    "## Original\n",
    "def trainIters(encoder, decoder, words, n_iters, print_every=1000, plot_every=100, learning_rate=0.01, k=0):\n",
    "    start = time.time()\n",
    "    plot_losses = []\n",
    "    print_loss_total = 0  # Reset every print_every\n",
    "    plot_loss_total = 0  # Reset every plot_every\n",
    "\n",
    "    encoder_optimizer = optim.SGD(encoder.parameters(), lr=learning_rate)\n",
    "    decoder_optimizer = optim.SGD(decoder.parameters(), lr=learning_rate)\n",
    "    training_pairs = []\n",
    "    for i in tqdm(range(n_iters)):\n",
    "        inp = random.choice(input_subjects[:1000])\n",
    "        while len(inp)>20:\n",
    "            inp = random.choice(input_subjects[:1000])\n",
    "        training_pairs.append(tensorsFromInSub(inp))\n",
    "    criterion = nn.NLLLoss()\n",
    "\n",
    "    for iter in range(1, n_iters + 1):\n",
    "        training_pair = training_pairs[iter - 1]\n",
    "        input_tensor = training_pair[0]\n",
    "        target_tensor = training_pair[1]\n",
    "        \n",
    "        loss = train(input_tensor, target_tensor, encoder,\n",
    "                     decoder, encoder_optimizer, decoder_optimizer, criterion)\n",
    "        print_loss_total += loss\n",
    "        plot_loss_total += loss\n",
    "\n",
    "        if iter % print_every == 0:\n",
    "            print_loss_avg = print_loss_total / print_every\n",
    "            print_loss_total = 0\n",
    "            print('%s (%d %d%%) %.4f' % (timeSince(start, iter / n_iters),\n",
    "                                         iter, iter / n_iters * 100, print_loss_avg))\n",
    "\n",
    "        if iter % plot_every == 0:\n",
    "            plot_loss_avg = plot_loss_total / plot_every\n",
    "            plot_losses.append(plot_loss_avg)\n",
    "            plot_loss_total = 0\n",
    "\n",
    "    showPlot(plot_losses)"
   ]
  },
  {
   "cell_type": "markdown",
   "metadata": {},
   "source": [
    "### Training-1"
   ]
  },
  {
   "cell_type": "code",
   "execution_count": 183,
   "metadata": {},
   "outputs": [],
   "source": [
    "hidden_size = 300\n",
    "k=1\n",
    "EOS_token = words.index('EOS')\n",
    "SOS_token = words.index('SOS')\n",
    "input_size = len(words)\n",
    "encoder1 = EncoderRNN(input_size, hidden_size, torch.tensor(np.array(embedded))).to(device)\n",
    "attn_decoder1 = AttnDecoderRNN(hidden_size, input_size, torch.tensor(np.array(embedded)), dropout_p=0.1).to(device)\n",
    "# decoder1 = DecoderRNN(hidden_size, input_sub.n_words).to(device)"
   ]
  },
  {
   "cell_type": "code",
   "execution_count": 185,
   "metadata": {
    "scrolled": true
   },
   "outputs": [
    {
     "name": "stderr",
     "output_type": "stream",
     "text": [
      "100%|██████████████████████████████████████████████████████████████████████████████████████████████████████████████| 100/100 [00:01<00:00, 67.09it/s]\n"
     ]
    },
    {
     "name": "stdout",
     "output_type": "stream",
     "text": [
      "0m 5s (- 0m 52s) (10 10%) 3.4356\n",
      "0m 10s (- 0m 41s) (20 20%) 4.2649\n",
      "0m 14s (- 0m 34s) (30 30%) 3.3673\n",
      "0m 20s (- 0m 31s) (40 40%) 3.1730\n",
      "0m 25s (- 0m 25s) (50 50%) 3.3001\n",
      "0m 31s (- 0m 20s) (60 60%) 4.0578\n",
      "0m 36s (- 0m 15s) (70 70%) 3.8319\n",
      "0m 40s (- 0m 10s) (80 80%) 3.3825\n",
      "0m 46s (- 0m 5s) (90 90%) 4.7980\n",
      "0m 51s (- 0m 0s) (100 100%) 3.5222\n"
     ]
    }
   ],
   "source": [
    "trainIters(encoder1, attn_decoder1, words, 100, print_every=10, plot_every=10, k=k)"
   ]
  },
  {
   "cell_type": "code",
   "execution_count": 186,
   "metadata": {},
   "outputs": [],
   "source": [
    "def evaluate(encoder, decoder, sentence, max_length=MAX_LENGTH):\n",
    "    with torch.no_grad():\n",
    "        input_tensor = tensorFromSentence(sentence)\n",
    "        input_length = input_tensor.size()[0]\n",
    "        encoder_hidden = encoder.initHidden()\n",
    "\n",
    "        encoder_outputs = torch.zeros(max_length, encoder.hidden_size, device=device)\n",
    "\n",
    "        for ei in range(input_length):\n",
    "            encoder_output, encoder_hidden = encoder(input_tensor[ei],\n",
    "                                                     encoder_hidden)\n",
    "            encoder_outputs[ei] += encoder_output[0, 0]\n",
    "\n",
    "        decoder_input = torch.tensor([[words.index(sentence[1])]], device=device)  # SOS\n",
    "\n",
    "        decoder_hidden = encoder_hidden\n",
    "\n",
    "        decoded_words = []\n",
    "        decoder_attentions = torch.zeros(max_length, max_length)\n",
    "\n",
    "        for di in range(max_length):\n",
    "            decoder_output, decoder_hidden, decoder_attention = decoder(\n",
    "                decoder_input, decoder_hidden, encoder_outputs)\n",
    "            decoder_attentions[di] = decoder_attention.data\n",
    "            topv, topi = decoder_output.data.topk(1)\n",
    "            if topi.item() == EOS_token:\n",
    "                decoded_words.append('<EOS>')\n",
    "                break\n",
    "            else:\n",
    "                decoded_words.append(words[topi.item()])\n",
    "\n",
    "            decoder_input = topi.squeeze().detach()\n",
    "\n",
    "        return decoded_words, decoder_attentions[:di + 1]"
   ]
  },
  {
   "cell_type": "code",
   "execution_count": 187,
   "metadata": {},
   "outputs": [],
   "source": [
    "def evaluateRandomly(encoder, decoder, n=10):\n",
    "    for i in range(n):\n",
    "        inp = random.choice(input_subjects[:1000])\n",
    "        \n",
    "        pair = (inp, inp)\n",
    "        print('>', pair[0])\n",
    "        print('=', pair[1])\n",
    "        output_words, attentions = evaluate(encoder, decoder, pair[0])\n",
    "        output_sentence = ' '.join(output_words)\n",
    "        print('<', output_sentence)\n",
    "        print('')"
   ]
  },
  {
   "cell_type": "code",
   "execution_count": 188,
   "metadata": {
    "scrolled": false
   },
   "outputs": [
    {
     "name": "stdout",
     "output_type": "stream",
     "text": [
      "> there s still time for up to off !\n",
      "= there s still time for up to off !\n",
      "< paypal paypal paypal <EOS>\n",
      "\n",
      "> best way to use your points january s new rewards\n",
      "= best way to use your points january s new rewards\n",
      "< paypal paypal paypal paypal <EOS>\n",
      "\n",
      "> thank you for staying with us but you are missing out on rewards !\n",
      "= thank you for staying with us but you are missing out on rewards !\n",
      "< paypal paypal paypal paypal <EOS>\n",
      "\n",
      "> save over on centrum and other brands you trust .\n",
      "= save over on centrum and other brands you trust .\n",
      "< paypal paypal paypal paypal <EOS>\n",
      "\n",
      "> notice of important account update\n",
      "= notice of important account update\n",
      "< paypal paypal paypal paypal <EOS>\n",
      "\n",
      "> summary report wealth management letter c client list\n",
      "= summary report wealth management letter c client list\n",
      "< paypal paypal paypal paypal <EOS>\n",
      "\n",
      "> preparations for your next financial steps\n",
      "= preparations for your next financial steps\n",
      "< paypal paypal paypal <EOS>\n",
      "\n",
      "> start the new year off with huge savings !\n",
      "= start the new year off with huge savings !\n",
      "< paypal paypal paypal <EOS>\n",
      "\n",
      "> you ve been chosen first nm ?capitalize earn bonus stars\n",
      "= you ve been chosen first nm ?capitalize earn bonus stars\n",
      "< paypal paypal paypal paypal <EOS>\n",
      "\n",
      "> the water s perfect at the mtn dew kickstart pool series !\n",
      "= the water s perfect at the mtn dew kickstart pool series !\n",
      "< paypal paypal paypal paypal <EOS>\n",
      "\n"
     ]
    }
   ],
   "source": [
    "evaluateRandomly(encoder1, attn_decoder1)"
   ]
  },
  {
   "cell_type": "code",
   "execution_count": 173,
   "metadata": {
    "scrolled": false
   },
   "outputs": [
    {
     "name": "stdout",
     "output_type": "stream",
     "text": [
      ">  cj \n",
      "=  cj \n",
      "<  <EOS>\n",
      "\n",
      "> trans alps f .k .t . ii utmb schuh\n",
      "= trans alps f .k .t . ii utmb schuh\n",
      "<   <EOS>\n",
      "\n",
      "> testing pros yahoo fix\n",
      "= testing pros yahoo fix\n",
      "<  a <EOS>\n",
      "\n",
      "> welcome ! save with your card today !\n",
      "= welcome ! save with your card today !\n",
      "< a ! ! ! <EOS>\n",
      "\n",
      "> lendingspace reprice issue\n",
      "= lendingspace reprice issue\n",
      "<  <EOS>\n",
      "\n",
      "> this hair saver just landed and everyone s obsessed\n",
      "= this hair saver just landed and everyone s obsessed\n",
      "< a ! ! <EOS>\n",
      "\n",
      ">  son gunler eksta i ndirim ve ampuan hediyenizi ka rmay n !\n",
      "=  son gunler eksta i ndirim ve ampuan hediyenizi ka rmay n !\n",
      "< ! ! ! <EOS>\n",
      "\n",
      "> this week s hunt deals bogo off winchester usa ammo !\n",
      "= this week s hunt deals bogo off winchester usa ammo !\n",
      "< ! ! ! <EOS>\n",
      "\n",
      "> let dealer name ?trim put winter in your rearview mirror\n",
      "= let dealer name ?trim put winter in your rearview mirror\n",
      "< a a ! <EOS>\n",
      "\n",
      "> black friday ist jetzt ! bis rabatt\n",
      "= black friday ist jetzt ! bis rabatt\n",
      "<  ! ! <EOS>\n",
      "\n"
     ]
    }
   ],
   "source": [
    "evaluateRandomly(encoder1, attn_decoder1)"
   ]
  },
  {
   "cell_type": "code",
   "execution_count": 174,
   "metadata": {},
   "outputs": [
    {
     "data": {
      "text/plain": [
       "<matplotlib.image.AxesImage at 0x7f6e82bf9b50>"
      ]
     },
     "execution_count": 174,
     "metadata": {},
     "output_type": "execute_result"
    }
   ],
   "source": [
    "output_words, attentions = evaluate(\n",
    "    encoder1, attn_decoder1, data[10])\n",
    "plt.matshow(attentions.numpy())"
   ]
  },
  {
   "cell_type": "code",
   "execution_count": 150,
   "metadata": {},
   "outputs": [],
   "source": [
    "def showAttention(input_sentence, output_words, attentions):\n",
    "    # Set up figure with colorbar\n",
    "    fig = plt.figure()\n",
    "    ax = fig.add_subplot(111)\n",
    "    cax = ax.matshow(attentions.numpy(), cmap='bone')\n",
    "    fig.colorbar(cax)\n",
    "\n",
    "    # Set up axes\n",
    "    ax.set_xticklabels([''] + input_sentence.split(' ') +\n",
    "                       ['<EOS>'], rotation=90)\n",
    "    ax.set_yticklabels([''] + output_words)\n",
    "\n",
    "    # Show label at every tick\n",
    "    ax.xaxis.set_major_locator(ticker.MultipleLocator(1))\n",
    "    ax.yaxis.set_major_locator(ticker.MultipleLocator(1))\n",
    "\n",
    "    plt.show()\n",
    "\n",
    "\n",
    "def evaluateAndShowAttention(input_sentence):\n",
    "    output_words, attentions = evaluate(\n",
    "        encoder1, attn_decoder1, input_sentence)\n",
    "    print('input =', input_sentence)\n",
    "    print('output =', ' '.join(output_words))\n",
    "    showAttention(input_sentence, output_words, attentions)"
   ]
  },
  {
   "cell_type": "code",
   "execution_count": 151,
   "metadata": {
    "scrolled": true
   },
   "outputs": [
    {
     "name": "stdout",
     "output_type": "stream",
     "text": [
      "input =  paypal \n",
      "output =    <EOS>\n"
     ]
    },
    {
     "name": "stderr",
     "output_type": "stream",
     "text": [
      "/tmp/ipykernel_3097/3159908345.py:9: UserWarning: FixedFormatter should only be used together with FixedLocator\n",
      "  ax.set_xticklabels([''] + input_sentence.split(' ') +\n",
      "/tmp/ipykernel_3097/3159908345.py:11: UserWarning: FixedFormatter should only be used together with FixedLocator\n",
      "  ax.set_yticklabels([''] + output_words)\n"
     ]
    },
    {
     "name": "stdout",
     "output_type": "stream",
     "text": [
      "input = we know this is your favorite special offer . . . .\n",
      "output = off th th th <EOS>\n",
      "input =  march petronas picks agency for btl duties public trust in boeing remains in question\n",
      "output = paypal    <EOS>\n",
      "input = send money directly to bank accounts abroad !\n",
      "output = paypal    <EOS>\n"
     ]
    }
   ],
   "source": [
    "evaluateAndShowAttention(data[10])\n",
    "evaluateAndShowAttention(data[244])\n",
    "evaluateAndShowAttention(data[345])\n",
    "evaluateAndShowAttention(data[543])"
   ]
  },
  {
   "cell_type": "markdown",
   "metadata": {},
   "source": [
    "### Decoder Training"
   ]
  },
  {
   "cell_type": "code",
   "execution_count": 276,
   "metadata": {},
   "outputs": [],
   "source": [
    "# Original\n",
    "\n",
    "teacher_forcing_ratio = 0.5\n",
    "\n",
    "def trainDecoder(input_tensor, target_tensor, encoder, decoder, decoder_optimizer, criterion, max_length=MAX_LENGTH):\n",
    "    encoder_hidden = encoder.initHidden()\n",
    "    decoder_optimizer.zero_grad()\n",
    "\n",
    "    input_length = input_tensor.size(0)\n",
    "    target_length = target_tensor.size(0)\n",
    "\n",
    "    encoder_outputs = torch.zeros(max_length, encoder.hidden_size, device=device)\n",
    "\n",
    "    loss = 0\n",
    "\n",
    "    for ei in range(input_length):\n",
    "        encoder_output, encoder_hidden = encoder(\n",
    "            input_tensor[ei], encoder_hidden)\n",
    "        encoder_outputs[ei] = encoder_output[0, 0]\n",
    "\n",
    "    decoder_input = torch.tensor([[SOS_token]], device=device)\n",
    "\n",
    "    decoder_hidden = encoder_hidden\n",
    "\n",
    "    use_teacher_forcing = True if random.random() < teacher_forcing_ratio else False\n",
    "\n",
    "    if use_teacher_forcing:\n",
    "        # Teacher forcing: Feed the target as the next input\n",
    "        for di in range(target_length):\n",
    "            decoder_output, decoder_hidden, decoder_attention = decoder(\n",
    "                decoder_input, decoder_hidden, encoder_outputs)\n",
    "            loss += criterion(decoder_output, target_tensor[di])\n",
    "            decoder_input = target_tensor[di]  # Teacher forcing\n",
    "\n",
    "    else:\n",
    "        # Without teacher forcing: use its own predictions as the next input\n",
    "        for di in range(target_length):\n",
    "            decoder_output, decoder_hidden, decoder_attention = decoder(\n",
    "                decoder_input, decoder_hidden, encoder_outputs)\n",
    "            topv, topi = decoder_output.topk(1)\n",
    "            decoder_input = topi.squeeze().detach()  # detach from history as input\n",
    "\n",
    "            loss += criterion(decoder_output, target_tensor[di])\n",
    "            if decoder_input.item() == EOS_token:\n",
    "                break\n",
    "\n",
    "    loss.backward()\n",
    "\n",
    "    decoder_optimizer.step()\n",
    "\n",
    "    return loss.item() / target_length"
   ]
  },
  {
   "cell_type": "code",
   "execution_count": 280,
   "metadata": {},
   "outputs": [],
   "source": [
    "## Original\n",
    "def trainItersDecoder(encoder, decoder, n_iters, print_every=1000, plot_every=100, learning_rate=0.01, k=0):\n",
    "    start = time.time()\n",
    "    plot_losses = []\n",
    "    print_loss_total = 0  # Reset every print_every\n",
    "    plot_loss_total = 0  # Reset every plot_every\n",
    "\n",
    "    decoder_optimizer = optim.SGD(decoder.parameters(), lr=learning_rate)\n",
    "    training_pairs = []\n",
    "    for i in range(n_iters):\n",
    "        inp = random.choice(input_subjects[:1000])\n",
    "        while len(inp)>20:\n",
    "            inp = random.choice(input_subjects[:1000])\n",
    "        training_pairs.append(tensorsFromSubsTar1(inp, k))\n",
    "    criterion = nn.NLLLoss()\n",
    "\n",
    "    for iter in tqdm(range(1, n_iters + 1)):\n",
    "        training_pair = training_pairs[iter - 1]\n",
    "        input_tensor = training_pair[0]\n",
    "        target_tensor = training_pair[1]\n",
    "\n",
    "        loss = trainDecoder(input_tensor, target_tensor, encoder,\n",
    "                     decoder, decoder_optimizer, criterion)\n",
    "        print_loss_total += loss\n",
    "        plot_loss_total += loss\n",
    "\n",
    "        if iter % print_every == 0:\n",
    "            print_loss_avg = print_loss_total / print_every\n",
    "            print_loss_total = 0\n",
    "            print('%s (%d %d%%) %.4f' % (timeSince(start, iter / n_iters),\n",
    "                                         iter, iter / n_iters * 100, print_loss_avg))\n",
    "\n",
    "        if iter % plot_every == 0:\n",
    "            plot_loss_avg = plot_loss_total / plot_every\n",
    "            plot_losses.append(plot_loss_avg)\n",
    "            plot_loss_total = 0\n",
    "\n",
    "    showPlot(plot_losses)"
   ]
  },
  {
   "cell_type": "code",
   "execution_count": 281,
   "metadata": {},
   "outputs": [],
   "source": [
    "hidden_size = 256\n",
    "k=1\n",
    "attn_decoder = [ AttnDecoderRNN(hidden_size, output_sub[i].n_words, dropout_p=0.1).to(device) \n",
    "                for i in range(5) ]\n",
    "# decoder1 = DecoderRNN(hidden_size, input_sub.n_words).to(device)"
   ]
  },
  {
   "cell_type": "code",
   "execution_count": 282,
   "metadata": {},
   "outputs": [
    {
     "name": "stderr",
     "output_type": "stream",
     "text": [
      "100%|████████████████████████████████████████████████████████████████████████████████████████████████████████████| 1000/1000 [00:16<00:00, 61.46it/s]\n"
     ]
    },
    {
     "name": "stdout",
     "output_type": "stream",
     "text": [
      "0m 16s (- 0m 0s) (1000 100%) 1.6988\n"
     ]
    },
    {
     "name": "stderr",
     "output_type": "stream",
     "text": [
      "100%|████████████████████████████████████████████████████████████████████████████████████████████████████████████| 1000/1000 [00:12<00:00, 77.92it/s]\n"
     ]
    },
    {
     "name": "stdout",
     "output_type": "stream",
     "text": [
      "0m 12s (- 0m 0s) (1000 100%) 1.6652\n"
     ]
    },
    {
     "name": "stderr",
     "output_type": "stream",
     "text": [
      "100%|████████████████████████████████████████████████████████████████████████████████████████████████████████████| 1000/1000 [00:16<00:00, 58.98it/s]\n"
     ]
    },
    {
     "name": "stdout",
     "output_type": "stream",
     "text": [
      "0m 17s (- 0m 0s) (1000 100%) 1.7846\n"
     ]
    },
    {
     "name": "stderr",
     "output_type": "stream",
     "text": [
      "100%|████████████████████████████████████████████████████████████████████████████████████████████████████████████| 1000/1000 [00:18<00:00, 54.39it/s]\n"
     ]
    },
    {
     "name": "stdout",
     "output_type": "stream",
     "text": [
      "0m 18s (- 0m 0s) (1000 100%) 1.8099\n"
     ]
    },
    {
     "name": "stderr",
     "output_type": "stream",
     "text": [
      "100%|████████████████████████████████████████████████████████████████████████████████████████████████████████████| 1000/1000 [00:15<00:00, 62.54it/s]"
     ]
    },
    {
     "name": "stdout",
     "output_type": "stream",
     "text": [
      "0m 16s (- 0m 0s) (1000 100%) 1.7547\n"
     ]
    },
    {
     "name": "stderr",
     "output_type": "stream",
     "text": [
      "\n"
     ]
    },
    {
     "data": {
      "text/plain": [
       "<Figure size 432x288 with 0 Axes>"
      ]
     },
     "metadata": {},
     "output_type": "display_data"
    },
    {
     "data": {
      "image/png": "[encoded data removed]",
      "text/plain": [
       "<Figure size 432x288 with 1 Axes>"
      ]
     },
     "metadata": {
      "needs_background": "light"
     },
     "output_type": "display_data"
    },
    {
     "data": {
      "text/plain": [
       "<Figure size 432x288 with 0 Axes>"
      ]
     },
     "metadata": {},
     "output_type": "display_data"
    },
    {
     "data": {
      "image/png": "[encoded data removed]",
      "text/plain": [
       "<Figure size 432x288 with 1 Axes>"
      ]
     },
     "metadata": {
      "needs_background": "light"
     },
     "output_type": "display_data"
    },
    {
     "data": {
      "text/plain": [
       "<Figure size 432x288 with 0 Axes>"
      ]
     },
     "metadata": {},
     "output_type": "display_data"
    },
    {
     "data": {
      "image/png": "[encoded data removed]",
      "text/plain": [
       "<Figure size 432x288 with 1 Axes>"
      ]
     },
     "metadata": {
      "needs_background": "light"
     },
     "output_type": "display_data"
    },
    {
     "data": {
      "text/plain": [
       "<Figure size 432x288 with 0 Axes>"
      ]
     },
     "metadata": {},
     "output_type": "display_data"
    },
    {
     "data": {
      "image/png": "[encoded data removed]",
      "text/plain": [
       "<Figure size 432x288 with 1 Axes>"
      ]
     },
     "metadata": {
      "needs_background": "light"
     },
     "output_type": "display_data"
    },
    {
     "data": {
      "text/plain": [
       "<Figure size 432x288 with 0 Axes>"
      ]
     },
     "metadata": {},
     "output_type": "display_data"
    },
    {
     "data": {
      "image/png": "[encoded data removed]",
      "text/plain": [
       "<Figure size 432x288 with 1 Axes>"
      ]
     },
     "metadata": {
      "needs_background": "light"
     },
     "output_type": "display_data"
    }
   ],
   "source": [
    "for i in range(5):\n",
    "    trainItersDecoder(encoder1, attn_decoder[i], 1000, print_every=1000, plot_every=10, k=i)"
   ]
  },
  {
   "cell_type": "code",
   "execution_count": 283,
   "metadata": {},
   "outputs": [],
   "source": [
    "def evaluateDecoder(encoder, decoder, sentence, max_length=MAX_LENGTH):\n",
    "    with torch.no_grad():\n",
    "        input_tensor = tensorFromSentence(input_sub, sentence)\n",
    "        input_length = input_tensor.size()[0]\n",
    "        encoder_hidden = encoder.initHidden()\n",
    "\n",
    "        encoder_outputs = torch.zeros(max_length, encoder.hidden_size, device=device)\n",
    "\n",
    "        for ei in range(input_length):\n",
    "            encoder_output, encoder_hidden = encoder(input_tensor[ei],\n",
    "                                                     encoder_hidden)\n",
    "            encoder_outputs[ei] += encoder_output[0, 0]\n",
    "\n",
    "        decoder_input = torch.tensor([[SOS_token]], device=device)  # SOS\n",
    "\n",
    "        decoder_hidden = encoder_hidden\n",
    "\n",
    "        decoded_words = []\n",
    "        decoder_attentions = torch.zeros(max_length, max_length)\n",
    "\n",
    "        for di in range(max_length):\n",
    "            decoder_output, decoder_hidden, decoder_attention = decoder(\n",
    "                decoder_input, decoder_hidden, encoder_outputs)\n",
    "            decoder_attentions[di] = decoder_attention.data\n",
    "            topv, topi = decoder_output.data.topk(1)\n",
    "            if topi.item() == EOS_token:\n",
    "                decoded_words.append('<EOS>')\n",
    "                break\n",
    "            else:\n",
    "                decoded_words.append(input_sub.index2word[topi.item()])\n",
    "\n",
    "            decoder_input = topi.squeeze().detach()\n",
    "\n",
    "        return decoded_words, decoder_attentions[:di + 1]"
   ]
  },
  {
   "cell_type": "code",
   "execution_count": 286,
   "metadata": {},
   "outputs": [],
   "source": [
    "def evaluateRandomlyDecoder(encoder, decoder, k=0):\n",
    "    for i in range(n):\n",
    "        inp = random.choice(input_subjects[:1000])\n",
    "        ind = input_subjects.index(inp)\n",
    "        out = output_subjects[ind][k]\n",
    "        pair = (inp, out)\n",
    "        print('>', pair[0])\n",
    "        print('=', pair[1])\n",
    "        output_words, attentions = evaluateDecoder(encoder, decoder, pair[0])\n",
    "        output_sentence = ' '.join(output_words)\n",
    "        print('<', output_sentence)\n",
    "        print('')"
   ]
  },
  {
   "cell_type": "code",
   "execution_count": null,
   "metadata": {},
   "outputs": [],
   "source": []
  },
  {
   "cell_type": "code",
   "execution_count": 306,
   "metadata": {
    "scrolled": false
   },
   "outputs": [
    {
     "name": "stdout",
     "output_type": "stream",
     "text": [
      "\n",
      "\n",
      "Part  0 \n",
      "\n",
      "> get to know your new essential portfolio\n",
      "= get to know your new essential portfolio\n",
      "< summary report rs rollover ira acceptance service  <EOS>\n",
      "\n",
      "> tips to help your gassy . month old .\n",
      "= tips to help your gassy . month old .\n",
      "< success scott off com limited <EOS>\n",
      "\n",
      "> time to shop ! to off almost everything online earn place ca h !\n",
      "= time to shop ! to off almost everything online earn place ca h !\n",
      "< summary report rs rollover ira acceptance service  <EOS>\n",
      "\n",
      "> enjoy these money saving service specials\n",
      "= enjoy these money saving service specials\n",
      "< summary report rs rollover ira acceptance service  <EOS>\n",
      "\n",
      "> come along to our next wedding fayre and find out how you could win your wedding !\n",
      "= come along to our next wedding fayre and find out how you could win your wedding !\n",
      "< summary report rs rollover ira acceptance service  <EOS>\n",
      "\n",
      "> handpicked black friday offers just for you .\n",
      "= handpicked black friday offers just for you .\n",
      "< success scott off com limited <EOS>\n",
      "\n",
      "> box office madea family funeral overperforms green book surges after best picture win\n",
      "= box office madea family funeral overperforms green book surges after best picture win\n",
      "< summary report rs rollover ira acceptance service  <EOS>\n",
      "\n",
      ">  subject line ! gale sayers personal collection is available on nfl auction \n",
      "=  subject line ! gale sayers personal collection is available on nfl auction \n",
      "< summary report rs rollover ira acceptance service  <EOS>\n",
      "\n",
      "> this sale s got it all or at least more than before \n",
      "= this sale s got it all or at least more than before \n",
      "< summary report rs rollover ira acceptance service  <EOS>\n",
      "\n",
      "> summary report post event or referral request for appointment \n",
      "= summary report post event or referral request for appointment \n",
      "< summary report rs rollover ira acceptance service  <EOS>\n",
      "\n",
      "\n",
      "\n",
      "Part  1 \n",
      "\n",
      "> your cardholder benefits are waiting for you\n",
      "= your cardholder benefits are waiting for you\n",
      "< paypal add some <EOS>\n",
      "\n",
      "> env a tu primer formato de pago\n",
      "= env a tu primer formato de pago\n",
      "< paypal add some <EOS>\n",
      "\n",
      "> reminder use your fan mobile pass tomorrow !\n",
      "= reminder use your fan mobile pass tomorrow !\n",
      "< paypal add some <EOS>\n",
      "\n",
      "> your account review is pending\n",
      "= your account review is pending\n",
      "< paypal add some <EOS>\n",
      "\n",
      ">  online exclusive enjoy free months when you recontract to gbps fibre broadband today !\n",
      "=  online exclusive enjoy free months when you recontract to gbps fibre broadband today !\n",
      "< paypal add some <EOS>\n",
      "\n",
      "> watch live track tropical storm henri\n",
      "= watch live track tropical storm henri\n",
      "< paypal add some <EOS>\n",
      "\n",
      "> make a difference in local schools at retailer \n",
      "= make a difference in local schools at retailer \n",
      "< paypal add some <EOS>\n",
      "\n",
      "> great news ! your credit limit has increased !\n",
      "= great news ! your credit limit has increased !\n",
      "< paypal add some <EOS>\n",
      "\n",
      "> time to shop ! to off almost everything online earn place ca h !\n",
      "= time to shop ! to off almost everything online earn place ca h !\n",
      "< paypal add some <EOS>\n",
      "\n",
      ">  enter now for a chance to win in prizes and much more \n",
      "=  enter now for a chance to win in prizes and much more \n",
      "< paypal add some <EOS>\n",
      "\n",
      "\n",
      "\n",
      "Part  2 \n",
      "\n",
      "> it s memorial day ! our sale ends today . . .don t miss out !\n",
      "= it s memorial day ! our sale ends today . . .don t miss out !\n",
      "< sparkle christmas offerts outfits meet into <EOS>\n",
      "\n",
      "> instant savings before tax day\n",
      "= instant savings before tax day\n",
      "< sparkle christmas offerts outfits meet into <EOS>\n",
      "\n",
      "> special offers to get you ready for fall !\n",
      "= special offers to get you ready for fall !\n",
      "< sparkle christmas offerts outfits meet into <EOS>\n",
      "\n",
      "> temporary hotel closure radisson hotel zurich airport\n",
      "= temporary hotel closure radisson hotel zurich airport\n",
      "< sparkle christmas offerts outfits meet into <EOS>\n",
      "\n",
      ">  august agencies vying for u mobile s social account mcdonald s embraces mekdi nickname\n",
      "=  august agencies vying for u mobile s social account mcdonald s embraces mekdi nickname\n",
      "< boots test .don with confirm into <EOS>\n",
      "\n",
      "> melanoma clinical trial opportunity for io na ve post braf inhibitor patients\n",
      "= melanoma clinical trial opportunity for io na ve post braf inhibitor patients\n",
      "< boots test .don with confirm into <EOS>\n",
      "\n",
      ">  fusion \n",
      "=  fusion \n",
      "< sparkle christmas offerts outfits meet into <EOS>\n",
      "\n",
      "> an easy way to pay has arrived .\n",
      "= an easy way to pay has arrived .\n",
      "< appointment for acumulando reembolso <EOS>\n",
      "\n",
      "> dealer name campaign name campaign id carter toyota has submitted an e strike campaign successfully .\n",
      "= dealer name campaign name campaign id carter toyota has submitted an e strike campaign successfully .\n",
      "< appointment for acumulando reembolso <EOS>\n",
      "\n",
      ">  . up fleece sitebuster ! \n",
      "=  . up fleece sitebuster ! \n",
      "< sparkle christmas offerts outfits meet into <EOS>\n",
      "\n",
      "\n",
      "\n",
      "Part  3 \n",
      "\n",
      "> fwd our popular in handheld massager only . \n",
      "= fwd our popular in handheld massager only . \n",
      "< christmas outfits meet johnson family acceptance coupon are <EOS>\n",
      "\n",
      "> je hebt nog maar dagen \n",
      "= je hebt nog maar dagen \n",
      "< christmas outfits meet johnson family acceptance coupon are <EOS>\n",
      "\n",
      "> schedule service your way\n",
      "= schedule service your way\n",
      "< christmas outfits meet johnson family acceptance coupon are <EOS>\n",
      "\n",
      "> ongoing support for your empliciti elotuzumab patients\n",
      "= ongoing support for your empliciti elotuzumab patients\n",
      "< christmas outfits meet johnson family acceptance coupon are <EOS>\n",
      "\n",
      "> ongoing support for your empliciti elotuzumab patients\n",
      "= ongoing support for your empliciti elotuzumab patients\n",
      "< christmas outfits meet johnson family acceptance coupon are <EOS>\n",
      "\n",
      "> summary report journal transfer request\n",
      "= summary report journal transfer request\n",
      "< christmas outfits meet johnson family acceptance coupon are <EOS>\n",
      "\n",
      "> test wen member exclusive . . . .mousse buy one get one free !\n",
      "= test wen member exclusive . . . .mousse buy one get one free !\n",
      "< are acceptance <EOS>\n",
      "\n",
      "> that sound you hear is savings slipping away .\n",
      "= that sound you hear is savings slipping away .\n",
      "< offerts leaked is <EOS>\n",
      "\n",
      "> help your adult child with type diabetes move forward\n",
      "= help your adult child with type diabetes move forward\n",
      "< christmas outfits meet johnson family acceptance coupon are <EOS>\n",
      "\n",
      "> max out your fusion\n",
      "= max out your fusion\n",
      "< owner audio offerts foot panasonic is <EOS>\n",
      "\n",
      "\n",
      "\n",
      "Part  4 \n",
      "\n",
      "> these hot deals will keep you warm all winter\n",
      "= these hot deals will keep you warm all winter\n",
      "< olhos don olhos <EOS>\n",
      "\n",
      "> confirmed you re a meal planner !\n",
      "= confirmed you re a meal planner !\n",
      "< oauth cdsdt op ! bags some <EOS>\n",
      "\n",
      "> takk !\n",
      "= takk !\n",
      "< meet johnson family coupon template olhos <EOS>\n",
      "\n",
      "> taco thursday virtual cooking course with executive military chefs and the first ladies of football\n",
      "= taco thursday virtual cooking course with executive military chefs and the first ladies of football\n",
      "< meet johnson family coupon template olhos <EOS>\n",
      "\n",
      "> score this week s golf deals ! save on irons golf balls apparel more\n",
      "= score this week s golf deals ! save on irons golf balls apparel more\n",
      "< meet johnson family coupon template olhos <EOS>\n",
      "\n",
      "> dealer name campaign name campaign id carter toyota has submitted an e strike campaign successfully .\n",
      "= dealer name campaign name campaign id carter toyota has submitted an e strike campaign successfully .\n",
      "< para some bags new women pro <EOS>\n",
      "\n",
      "> during milan s fashion week and climate week nyc let s consider the fashion industry s emissions\n",
      "= during milan s fashion week and climate week nyc let s consider the fashion industry s emissions\n",
      "< ?capitalize city lax edition online equipment lax edition online equipment lax milh features olhos <EOS>\n",
      "\n",
      "> earn x place ca h off sale going on now !\n",
      "= earn x place ca h off sale going on now !\n",
      "< meet johnson family coupon template olhos <EOS>\n",
      "\n",
      "> congrats firstname you ve earned enough points for free nights or more\n",
      "= congrats firstname you ve earned enough points for free nights or more\n",
      "< para some bags new women pro <EOS>\n",
      "\n",
      "> earn x place ca h off sale going on now !\n",
      "= earn x place ca h off sale going on now !\n",
      "< meet johnson family coupon template olhos <EOS>\n",
      "\n"
     ]
    }
   ],
   "source": [
    "for i in range(5):\n",
    "    print('\\n\\nPart ', i, '\\n')\n",
    "    evaluateRandomly(encoder1, attn_decoder[i])"
   ]
  },
  {
   "cell_type": "code",
   "execution_count": 287,
   "metadata": {
    "scrolled": true
   },
   "outputs": [
    {
     "name": "stdout",
     "output_type": "stream",
     "text": [
      "\n",
      "\n",
      "Part  0 \n",
      "\n",
      "> news and events from newcastle marriott hotel gosforth park\n",
      "= news and events from newcastle marriott hotel gosforth park\n",
      "< summary report rs rollover ira acceptance service  <EOS>\n",
      "\n",
      "> it s possible to manage your condition\n",
      "= it s possible to manage your condition\n",
      "< summary report rs rollover ira acceptance service  <EOS>\n",
      "\n",
      "> watchdog week attorney seeks criminal investigation into edison s handling of nuclear waste at san onofre\n",
      "= watchdog week attorney seeks criminal investigation into edison s handling of nuclear waste at san onofre\n",
      "< summary report rs rollover ira acceptance service  <EOS>\n",
      "\n",
      "> offers in beverly hills approval \n",
      "= offers in beverly hills approval \n",
      "< summary report rs rollover ira acceptance service  <EOS>\n",
      "\n",
      "> get special early access to our super weekend sale !\n",
      "= get special early access to our super weekend sale !\n",
      "< summary report rs rollover ira acceptance service  <EOS>\n",
      "\n",
      "> new features to help you stay connected .\n",
      "= new features to help you stay connected .\n",
      "< success scott off com limited <EOS>\n",
      "\n",
      "> new features to help you stay connected .\n",
      "= new features to help you stay connected .\n",
      "< success scott off com limited <EOS>\n",
      "\n",
      "> see what s in your january ford enewsletter\n",
      "= see what s in your january ford enewsletter\n",
      "< summary report rs rollover ira acceptance service  <EOS>\n",
      "\n",
      "> best of hartford voting ends soon\n",
      "= best of hartford voting ends soon\n",
      "< summary report rs rollover ira acceptance service  <EOS>\n",
      "\n",
      ">  fire blood coming soon from a game of thrones author george r . r . martin\n",
      "=  fire blood coming soon from a game of thrones author george r . r . martin\n",
      "< summary report rs rollover ira acceptance service  <EOS>\n",
      "\n",
      "\n",
      "\n",
      "Part  1 \n",
      "\n",
      "> supression\n",
      "= supression\n",
      "< from dallas pasca melahirkan ya <EOS>\n",
      "\n",
      "> jetzt ausprobieren den sommer genie en und kosten per paypal teilen .\n",
      "= jetzt ausprobieren den sommer genie en und kosten per paypal teilen .\n",
      "< bank factory acumulando got new deep confirm <EOS>\n",
      "\n",
      "> final sale clearance from just . \n",
      "= final sale clearance from just . \n",
      "< paypal add some <EOS>\n",
      "\n",
      "> family banner with richmond family true english a a\n",
      "= family banner with richmond family true english a a\n",
      "< paypal add some <EOS>\n",
      "\n",
      ">  firstname ?capitalize seize new growth opportunities with a card that puts money back into your business .\n",
      "=  firstname ?capitalize seize new growth opportunities with a card that puts money back into your business .\n",
      "< bank factory acumulando got new deep confirm <EOS>\n",
      "\n",
      ">  enkel online de little marcel tas x yves rocher is terug\n",
      "=  enkel online de little marcel tas x yves rocher is terug\n",
      "< paypal add some <EOS>\n",
      "\n",
      "> covid self employed guidance effective with december th applications for agency and portfolio loans\n",
      "= covid self employed guidance effective with december th applications for agency and portfolio loans\n",
      "< paypal add some <EOS>\n",
      "\n",
      "> see inside for code triple off .\n",
      "= see inside for code triple off .\n",
      "< bank factory acumulando got new deep confirm <EOS>\n",
      "\n",
      ">  siguen las ofertas de paypal fest ! \n",
      "=  siguen las ofertas de paypal fest ! \n",
      "< paypal add some <EOS>\n",
      "\n",
      "> a b testing touch subject line \n",
      "= a b testing touch subject line \n",
      "< paypal add some <EOS>\n",
      "\n",
      "\n",
      "\n",
      "Part  2 \n",
      "\n",
      "> strengthen your investment strategy with powerful tools and research .\n",
      "= strengthen your investment strategy with powerful tools and research .\n",
      "< appointment for acumulando reembolso <EOS>\n",
      "\n",
      "> tu noveno mes de embarazo\n",
      "= tu noveno mes de embarazo\n",
      "< boots christmas offerts outfits meet into <EOS>\n",
      "\n",
      "> save . avoid fomo .\n",
      "= save . avoid fomo .\n",
      "< appointment for acumulando for <EOS>\n",
      "\n",
      ">  firstname get to spend at starbucks when you refer a friend .\n",
      "=  firstname get to spend at starbucks when you refer a friend .\n",
      "< appointment for acumulando into <EOS>\n",
      "\n",
      "> posibles reembolsos con las compras aptas \n",
      "= posibles reembolsos con las compras aptas \n",
      "< sparkle christmas offerts outfits meet into <EOS>\n",
      "\n",
      "> ice cream shop tracking test\n",
      "= ice cream shop tracking test\n",
      "< sparkle christmas offerts outfits meet into <EOS>\n",
      "\n",
      "> offer upgrade ! an extra off \n",
      "= offer upgrade ! an extra off \n",
      "< sparkle christmas offerts outfits meet into <EOS>\n",
      "\n",
      "> rumors confirmed see what s under \n",
      "= rumors confirmed see what s under \n",
      "< ! christmas offerts outfits meet into <EOS>\n",
      "\n",
      "> introducing our latest must try scrub\n",
      "= introducing our latest must try scrub\n",
      "< sparkle christmas offerts outfits meet into <EOS>\n",
      "\n",
      ">  off almost everything ! summer style is on !\n",
      "=  off almost everything ! summer style is on !\n",
      "< sparkle christmas offerts outfits meet into <EOS>\n",
      "\n",
      "\n",
      "\n",
      "Part  3 \n",
      "\n",
      "> we re moving ! see the new location of your charter spectrum store\n",
      "= we re moving ! see the new location of your charter spectrum store\n",
      "< christmas outfits meet johnson family acceptance coupon are <EOS>\n",
      "\n",
      "> trade in trade up with month financing on qualifying purchases for a limited time !\n",
      "= trade in trade up with month financing on qualifying purchases for a limited time !\n",
      "< christmas outfits meet johnson family acceptance coupon are <EOS>\n",
      "\n",
      "> xfl gear is here !\n",
      "= xfl gear is here !\n",
      "< christmas outfits meet johnson family acceptance coupon are <EOS>\n",
      "\n",
      "> an invitation from york ford\n",
      "= an invitation from york ford\n",
      "< christmas outfits meet johnson family acceptance coupon are <EOS>\n",
      "\n",
      ">  year data in r m scchn\n",
      "=  year data in r m scchn\n",
      "< christmas outfits meet johnson family acceptance coupon are <EOS>\n",
      "\n",
      "> family banner with richmond family true english a a\n",
      "= family banner with richmond family true english a a\n",
      "< christmas outfits meet johnson family acceptance coupon are <EOS>\n",
      "\n",
      "> free single deluxe butterburger\n",
      "= free single deluxe butterburger\n",
      "< christmas outfits meet johnson family acceptance coupon are <EOS>\n",
      "\n",
      "> there s only days left\n",
      "= there s only days left\n",
      "< christmas outfits meet johnson family acceptance coupon are <EOS>\n",
      "\n",
      "> helping optum bank customers get answers faster\n",
      "= helping optum bank customers get answers faster\n",
      "< christmas outfits meet johnson family acceptance coupon are <EOS>\n",
      "\n",
      "> se vores vejledning til h ndtering af chargebacks\n",
      "= se vores vejledning til h ndtering af chargebacks\n",
      "< christmas outfits meet johnson family acceptance coupon are <EOS>\n",
      "\n",
      "\n",
      "\n",
      "Part  4 \n",
      "\n",
      "> go ahead show off !\n",
      "= go ahead show off !\n",
      "< ex cop arrived opportunity io olhos <EOS>\n",
      "\n",
      "> garnissez la votre fa on nouvelle recette de p te biscuit tout usage base de plantes !\n",
      "= garnissez la votre fa on nouvelle recette de p te biscuit tout usage base de plantes !\n",
      "< meet johnson family coupon template olhos <EOS>\n",
      "\n",
      "> we want to know how your lessons are going\n",
      "= we want to know how your lessons are going\n",
      "< olhos don olhos <EOS>\n",
      "\n",
      "> protect your sales at no extra cost\n",
      "= protect your sales at no extra cost\n",
      "< earn x some <EOS>\n",
      "\n",
      "> it . has . returned .\n",
      "= it . has . returned .\n",
      "< para some bags new women pro <EOS>\n",
      "\n",
      "> hoe betaal jij jouw vrienden het liefst met paypal ?\n",
      "= hoe betaal jij jouw vrienden het liefst met paypal ?\n",
      "< meet johnson family coupon template olhos <EOS>\n",
      "\n",
      "> dealer name campaign name campaign id mccluskey chevrolet has submitted an e strike campaign successfully .\n",
      "= dealer name campaign name campaign id mccluskey chevrolet has submitted an e strike campaign successfully .\n",
      "< para some bags new women pro <EOS>\n",
      "\n",
      "> excel dashboard learn time saving tactics live webinar \n",
      "= excel dashboard learn time saving tactics live webinar \n",
      "< meet johnson family coupon template olhos <EOS>\n",
      "\n",
      ">  off almost everything ! summer style is on !\n",
      "=  off almost everything ! summer style is on !\n",
      "< ex cop arrived opportunity ! bags some <EOS>\n",
      "\n",
      "> incentives percent off welcome series\n",
      "= incentives percent off welcome series\n",
      "< olhos lineup score ! bags some <EOS>\n",
      "\n"
     ]
    }
   ],
   "source": [
    "for i in range(5):\n",
    "    print('\\n\\nPart ', i, '\\n')\n",
    "    evaluateRandomly(encoder1, attn_decoder[i])"
   ]
  },
  {
   "cell_type": "code",
   "execution_count": 273,
   "metadata": {},
   "outputs": [
    {
     "data": {
      "text/plain": [
       "<matplotlib.image.AxesImage at 0x7faea7082b80>"
      ]
     },
     "execution_count": 273,
     "metadata": {},
     "output_type": "execute_result"
    },
    {
     "data": {
      "image/png": "[encoded data removed]",
      "text/plain": [
       "<Figure size 1152x230.4 with 1 Axes>"
      ]
     },
     "metadata": {
      "needs_background": "light"
     },
     "output_type": "display_data"
    }
   ],
   "source": [
    "output_words, attentions = evaluate(\n",
    "    encoder1, attn_decoder1, data[10])\n",
    "plt.matshow(attentions.numpy())"
   ]
  },
  {
   "cell_type": "code",
   "execution_count": 274,
   "metadata": {},
   "outputs": [],
   "source": [
    "def showAttention(input_sentence, output_words, attentions):\n",
    "    # Set up figure with colorbar\n",
    "    fig = plt.figure()\n",
    "    ax = fig.add_subplot(111)\n",
    "    cax = ax.matshow(attentions.numpy(), cmap='bone')\n",
    "    fig.colorbar(cax)\n",
    "\n",
    "    # Set up axes\n",
    "    ax.set_xticklabels([''] + input_sentence.split(' ') +\n",
    "                       ['<EOS>'], rotation=90)\n",
    "    ax.set_yticklabels([''] + output_words)\n",
    "\n",
    "    # Show label at every tick\n",
    "    ax.xaxis.set_major_locator(ticker.MultipleLocator(1))\n",
    "    ax.yaxis.set_major_locator(ticker.MultipleLocator(1))\n",
    "\n",
    "    plt.show()\n",
    "\n",
    "\n",
    "def evaluateAndShowAttention(input_sentence):\n",
    "    output_words, attentions = evaluate(\n",
    "        encoder1, attn_decoder1, input_sentence)\n",
    "    print('input =', input_sentence)\n",
    "    print('output =', ' '.join(output_words))\n",
    "    showAttention(input_sentence, output_words, attentions)"
   ]
  },
  {
   "cell_type": "code",
   "execution_count": 275,
   "metadata": {},
   "outputs": [
    {
     "name": "stdout",
     "output_type": "stream",
     "text": [
      "input = summary report new coupon template \n",
      "output =  today only <EOS>\n",
      "input = test jm military dtv \n",
      "output = keep fresh in style  <EOS>\n",
      "input = celebrate a magical moment with a star map from the night sky\n",
      "output = connecting the dots <EOS>\n",
      "input = willkommen zur ck mit exklusiven angeboten f r\n",
      "output = connecting the dots <EOS>\n"
     ]
    },
    {
     "name": "stderr",
     "output_type": "stream",
     "text": [
      "/tmp/ipykernel_31400/3159908345.py:9: UserWarning: FixedFormatter should only be used together with FixedLocator\n",
      "  ax.set_xticklabels([''] + input_sentence.split(' ') +\n",
      "/tmp/ipykernel_31400/3159908345.py:11: UserWarning: FixedFormatter should only be used together with FixedLocator\n",
      "  ax.set_yticklabels([''] + output_words)\n"
     ]
    },
    {
     "data": {
      "image/png": "[encoded data removed]",
      "text/plain": [
       "<Figure size 432x288 with 2 Axes>"
      ]
     },
     "metadata": {
      "needs_background": "light"
     },
     "output_type": "display_data"
    },
    {
     "data": {
      "image/png": "[encoded data removed]",
      "text/plain": [
       "<Figure size 432x288 with 2 Axes>"
      ]
     },
     "metadata": {
      "needs_background": "light"
     },
     "output_type": "display_data"
    },
    {
     "data": {
      "image/png": "[encoded data removed]",
      "text/plain": [
       "<Figure size 432x288 with 2 Axes>"
      ]
     },
     "metadata": {
      "needs_background": "light"
     },
     "output_type": "display_data"
    },
    {
     "data": {
      "image/png": "[encoded data removed]",
      "text/plain": [
       "<Figure size 432x288 with 2 Axes>"
      ]
     },
     "metadata": {
      "needs_background": "light"
     },
     "output_type": "display_data"
    }
   ],
   "source": [
    "evaluateAndShowAttention(data[10])\n",
    "evaluateAndShowAttention(data[244])\n",
    "evaluateAndShowAttention(data[345])\n",
    "evaluateAndShowAttention(data[543])"
   ]
  },
  {
   "cell_type": "markdown",
   "metadata": {},
   "source": [
    "## Save Models"
   ]
  },
  {
   "cell_type": "code",
   "execution_count": 288,
   "metadata": {},
   "outputs": [],
   "source": [
    "import pickle"
   ]
  },
  {
   "cell_type": "code",
   "execution_count": 294,
   "metadata": {},
   "outputs": [],
   "source": [
    "f = open('encoder','wb')\n",
    "pickle.dump(encoder1,f)\n",
    "f.close()\n",
    "f = open('decoder','wb')\n",
    "pickle.dump(attn_decoder, f)\n",
    "f.close()"
   ]
  },
  {
   "cell_type": "code",
   "execution_count": 298,
   "metadata": {},
   "outputs": [],
   "source": [
    "f = open('encoder','rb')\n",
    "e = pickle.load(f)\n",
    "f.close()"
   ]
  },
  {
   "cell_type": "code",
   "execution_count": 299,
   "metadata": {},
   "outputs": [
    {
     "data": {
      "text/plain": [
       "[AttnDecoderRNN(\n",
       "   (embedding): Embedding(2370, 256)\n",
       "   (attn): Linear(in_features=512, out_features=20, bias=True)\n",
       "   (attn_combine): Linear(in_features=512, out_features=256, bias=True)\n",
       "   (dropout): Dropout(p=0.1, inplace=False)\n",
       "   (gru): GRU(256, 256)\n",
       "   (out): Linear(in_features=256, out_features=2370, bias=True)\n",
       " ),\n",
       " AttnDecoderRNN(\n",
       "   (embedding): Embedding(2194, 256)\n",
       "   (attn): Linear(in_features=512, out_features=20, bias=True)\n",
       "   (attn_combine): Linear(in_features=512, out_features=256, bias=True)\n",
       "   (dropout): Dropout(p=0.1, inplace=False)\n",
       "   (gru): GRU(256, 256)\n",
       "   (out): Linear(in_features=256, out_features=2194, bias=True)\n",
       " ),\n",
       " AttnDecoderRNN(\n",
       "   (embedding): Embedding(2135, 256)\n",
       "   (attn): Linear(in_features=512, out_features=20, bias=True)\n",
       "   (attn_combine): Linear(in_features=512, out_features=256, bias=True)\n",
       "   (dropout): Dropout(p=0.1, inplace=False)\n",
       "   (gru): GRU(256, 256)\n",
       "   (out): Linear(in_features=256, out_features=2135, bias=True)\n",
       " ),\n",
       " AttnDecoderRNN(\n",
       "   (embedding): Embedding(2137, 256)\n",
       "   (attn): Linear(in_features=512, out_features=20, bias=True)\n",
       "   (attn_combine): Linear(in_features=512, out_features=256, bias=True)\n",
       "   (dropout): Dropout(p=0.1, inplace=False)\n",
       "   (gru): GRU(256, 256)\n",
       "   (out): Linear(in_features=256, out_features=2137, bias=True)\n",
       " ),\n",
       " AttnDecoderRNN(\n",
       "   (embedding): Embedding(2095, 256)\n",
       "   (attn): Linear(in_features=512, out_features=20, bias=True)\n",
       "   (attn_combine): Linear(in_features=512, out_features=256, bias=True)\n",
       "   (dropout): Dropout(p=0.1, inplace=False)\n",
       "   (gru): GRU(256, 256)\n",
       "   (out): Linear(in_features=256, out_features=2095, bias=True)\n",
       " )]"
      ]
     },
     "execution_count": 299,
     "metadata": {},
     "output_type": "execute_result"
    }
   ],
   "source": [
    "d"
   ]
  },
  {
   "cell_type": "code",
   "execution_count": 297,
   "metadata": {},
   "outputs": [],
   "source": [
    "f = open('decoder','rb')\n",
    "d = pickle.load(f)\n",
    "f.close()"
   ]
  },
  {
   "cell_type": "code",
   "execution_count": null,
   "metadata": {},
   "outputs": [],
   "source": []
  },
  {
   "cell_type": "code",
   "execution_count": null,
   "metadata": {},
   "outputs": [],
   "source": []
  }
 ],
 "metadata": {
  "kernelspec": {
   "display_name": "Python 3 (ipykernel)",
   "language": "python",
   "name": "python3"
  },
  "language_info": {
   "codemirror_mode": {
    "name": "ipython",
    "version": 3
   },
   "file_extension": ".py",
   "mimetype": "text/x-python",
   "name": "python",
   "nbconvert_exporter": "python",
   "pygments_lexer": "ipython3",
   "version": "3.8.5"
  }
 },
 "nbformat": 4,
 "nbformat_minor": 4
}
