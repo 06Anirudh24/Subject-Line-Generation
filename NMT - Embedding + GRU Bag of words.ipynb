{
 "cells": [
  {
   "cell_type": "markdown",
   "metadata": {},
   "source": [
    "# Subject Line Generation "
   ]
  },
  {
   "cell_type": "markdown",
   "metadata": {},
   "source": [
    "## Pacakges"
   ]
  },
  {
   "cell_type": "code",
   "execution_count": 57,
   "metadata": {},
   "outputs": [],
   "source": [
    "import numpy as np\n",
    "import pandas as pd\n",
    "import transformers\n",
    "# import tensorflow as tf\n",
    "import os"
   ]
  },
  {
   "cell_type": "code",
   "execution_count": 4,
   "metadata": {},
   "outputs": [],
   "source": [
    "from __future__ import unicode_literals, print_function, division\n",
    "from io import open\n",
    "import unicodedata\n",
    "import string\n",
    "import re\n",
    "import random\n",
    "\n",
    "import torch\n",
    "import torch.nn as nn\n",
    "from torch import optim\n",
    "import torch.nn.functional as F\n",
    "\n",
    "from nltk.tokenize import word_tokenize\n",
    "from gensim.models.doc2vec import Doc2Vec, TaggedDocument\n",
    "\n",
    "device = torch.device(\"cuda\" if torch.cuda.is_available() else \"cpu\")"
   ]
  },
  {
   "cell_type": "markdown",
   "metadata": {},
   "source": [
    "## Load Data "
   ]
  },
  {
   "cell_type": "code",
   "execution_count": 5,
   "metadata": {},
   "outputs": [
    {
     "name": "stdout",
     "output_type": "stream",
     "text": [
      "/home/mluser/users/data/subject_line\n"
     ]
    }
   ],
   "source": [
    "ROOT = '/home/mluser/users'\n",
    "data_subjects = os.path.join(ROOT, 'data', 'subject_line')\n",
    "print(data_subjects)"
   ]
  },
  {
   "cell_type": "code",
   "execution_count": 6,
   "metadata": {
    "scrolled": true
   },
   "outputs": [
    {
     "name": "stdout",
     "output_type": "stream",
     "text": [
      "30\n"
     ]
    }
   ],
   "source": [
    "result = []\n",
    "for (r, d, f) in os.walk(data_subjects):\n",
    "    df = pd.read_parquet(os.path.join(r, f[10]))\n",
    "    print(len(f))\n",
    "#     for i in f:\n",
    "#         result.append(pd.read_parquet(os.path.join(r, i)))"
   ]
  },
  {
   "cell_type": "code",
   "execution_count": 103,
   "metadata": {},
   "outputs": [],
   "source": [
    "data = list(set(df['subject'].dropna()))"
   ]
  },
  {
   "cell_type": "code",
   "execution_count": 105,
   "metadata": {},
   "outputs": [
    {
     "data": {
      "text/plain": [
       "130453"
      ]
     },
     "execution_count": 105,
     "metadata": {},
     "output_type": "execute_result"
    }
   ],
   "source": [
    "len(data)"
   ]
  },
  {
   "cell_type": "code",
   "execution_count": 106,
   "metadata": {},
   "outputs": [],
   "source": [
    "final = []\n",
    "for d in data:\n",
    "    k = [l for l in d if l==\"{\" or l==\"}\" or l==\"[\" or l==\"]\" or l==\"(\" or l==\")\"]\n",
    "    if len(k)<4:\n",
    "        if \"Lewisville\" not in d:\n",
    "            final.append(d)\n",
    "data = final"
   ]
  },
  {
   "cell_type": "code",
   "execution_count": 107,
   "metadata": {},
   "outputs": [],
   "source": [
    "MAX_LENGTH = 20\n",
    "\n",
    "def filterSubject(p):\n",
    "    return len(p.split(' ')) < MAX_LENGTH\n",
    "\n",
    "\n",
    "def filterSubjects(subs):\n",
    "    return [sub for sub in subs if filterSubject(sub)]"
   ]
  },
  {
   "cell_type": "code",
   "execution_count": 108,
   "metadata": {},
   "outputs": [
    {
     "name": "stdout",
     "output_type": "stream",
     "text": [
      "90431\n"
     ]
    }
   ],
   "source": [
    "print(len(data))\n",
    "data = filterSubjects(data)"
   ]
  },
  {
   "cell_type": "code",
   "execution_count": 196,
   "metadata": {},
   "outputs": [],
   "source": [
    "def normalizeString(s):\n",
    "    s = s.lower().strip()\n",
    "    s = re.sub(r\"([.!?])\", r\" \\1\", s)\n",
    "    s = re.sub(r\"[^a-zA-Z.!?]+\", r\" \", s)\n",
    "    return s"
   ]
  },
  {
   "cell_type": "code",
   "execution_count": 197,
   "metadata": {},
   "outputs": [],
   "source": [
    "data = [normalizeString(d) for d in data]"
   ]
  },
  {
   "cell_type": "code",
   "execution_count": 109,
   "metadata": {},
   "outputs": [
    {
     "data": {
      "text/plain": [
       "85004"
      ]
     },
     "execution_count": 109,
     "metadata": {},
     "output_type": "execute_result"
    }
   ],
   "source": [
    "len(data)"
   ]
  },
  {
   "cell_type": "markdown",
   "metadata": {},
   "source": [
    "## Install Glove word embeddings"
   ]
  },
  {
   "cell_type": "code",
   "execution_count": 5,
   "metadata": {
    "scrolled": true
   },
   "outputs": [
    {
     "name": "stdout",
     "output_type": "stream",
     "text": [
      "--2022-02-03 21:45:22--  http://nlp.stanford.edu/data/glove.6B.zip\n",
      "Resolving nlp.stanford.edu (nlp.stanford.edu)... 171.64.67.140\n",
      "Connecting to nlp.stanford.edu (nlp.stanford.edu)|171.64.67.140|:80... connected.\n",
      "HTTP request sent, awaiting response... 302 Found\n",
      "Location: https://nlp.stanford.edu/data/glove.6B.zip [following]\n",
      "--2022-02-03 21:45:23--  https://nlp.stanford.edu/data/glove.6B.zip\n",
      "Connecting to nlp.stanford.edu (nlp.stanford.edu)|171.64.67.140|:443... connected.\n",
      "HTTP request sent, awaiting response... 301 Moved Permanently\n",
      "Location: http://downloads.cs.stanford.edu/nlp/data/glove.6B.zip [following]\n",
      "--2022-02-03 21:45:23--  http://downloads.cs.stanford.edu/nlp/data/glove.6B.zip\n",
      "Resolving downloads.cs.stanford.edu (downloads.cs.stanford.edu)... 171.64.64.22\n",
      "Connecting to downloads.cs.stanford.edu (downloads.cs.stanford.edu)|171.64.64.22|:80... connected.\n",
      "HTTP request sent, awaiting response... 200 OK\n",
      "Length: 862182613 (822M) [application/zip]\n",
      "Saving to: ‘glove.6B.zip’\n",
      "\n",
      "100%[======================================>] 862,182,613 5.06MB/s   in 2m 41s \n",
      "\n",
      "2022-02-03 21:48:04 (5.12 MB/s) - ‘glove.6B.zip’ saved [862182613/862182613]\n",
      "\n"
     ]
    }
   ],
   "source": [
    "# !wget http://nlp.stanford.edu/data/glove.6B.zip"
   ]
  },
  {
   "cell_type": "code",
   "execution_count": 6,
   "metadata": {},
   "outputs": [
    {
     "name": "stdout",
     "output_type": "stream",
     "text": [
      "Archive:  glove.6B.zip\n",
      "  inflating: glove.6B.50d.txt        \n",
      "  inflating: glove.6B.100d.txt       \n",
      "  inflating: glove.6B.200d.txt       \n",
      "  inflating: glove.6B.300d.txt       \n"
     ]
    }
   ],
   "source": [
    "# !unzip glove.6B.zip"
   ]
  },
  {
   "cell_type": "markdown",
   "metadata": {},
   "source": [
    "## Training Data"
   ]
  },
  {
   "cell_type": "markdown",
   "metadata": {},
   "source": [
    "### Gensim Embeddings + Euclidean"
   ]
  },
  {
   "cell_type": "markdown",
   "metadata": {},
   "source": [
    "#### Text Preprocessing"
   ]
  },
  {
   "cell_type": "code",
   "execution_count": 110,
   "metadata": {},
   "outputs": [],
   "source": [
    "def w2v_tokenize_text(text):\n",
    "    tokens = []\n",
    "    for sent in nltk.sent_tokenize(text, language='english'):\n",
    "        for word in nltk.word_tokenize(sent, language='english'):\n",
    "            if len(word) < 2:\n",
    "                continue\n",
    "            tokens.append(word)\n",
    "    return tokens"
   ]
  },
  {
   "cell_type": "code",
   "execution_count": 111,
   "metadata": {},
   "outputs": [],
   "source": [
    "import nltk\n",
    "t = []\n",
    "for i in data:\n",
    "    t.append(w2v_tokenize_text(i))"
   ]
  },
  {
   "cell_type": "markdown",
   "metadata": {},
   "source": [
    "#### Glove Word Embeddings"
   ]
  },
  {
   "cell_type": "code",
   "execution_count": 112,
   "metadata": {},
   "outputs": [
    {
     "name": "stdout",
     "output_type": "stream",
     "text": [
      "Total number of words and corresponding vectors in word2vectors are 400000\n"
     ]
    }
   ],
   "source": [
    "import os\n",
    "import numpy as np\n",
    "\n",
    "# Create Empty dictionary\n",
    "word2vector = {}\n",
    "\n",
    "#Create a dictionary with word and corresponding vector\n",
    "with open(os.path.join('./glove.6B/glove.6B.300d.txt')) as file:\n",
    "  \n",
    "  for line in file:\n",
    "    list_of_values = line.split()    \t\n",
    "    word = list_of_values[0]\n",
    "    vector_of_word = np.asarray(list_of_values[1:], dtype='float32')\n",
    "    word2vector[word] = vector_of_word\n",
    "\n",
    "msg = f\"Total number of words and corresponding vectors in word2vectors are {len(word2vector)}\"\n",
    "print(msg)"
   ]
  },
  {
   "cell_type": "code",
   "execution_count": 113,
   "metadata": {},
   "outputs": [],
   "source": [
    "import gensim\n",
    "def wordprint(words,wv):\n",
    "    all_words, mean = set(), []\n",
    "    for word in words:\n",
    "        if isinstance(word, np.ndarray):\n",
    "            mean.append(word)\n",
    "        elif word in wv.keys():\n",
    "           a = np.array(wv.loc[word])\n",
    "           mean.append(a)\n",
    "    if not mean:\n",
    "        logging.warning(\"cannot compute similarity with no input %s\", words)\n",
    "        # FIXME: remove these examples in pre-processing\n",
    "        return np.zeros(300,)   \n",
    "    mean = gensim.matutils.unitvec(np.array(mean).mean(axis=0)).astype(np.float32)\n",
    "    return mean    \n",
    "\n",
    "def getMeanEmbeddings(subject, w2v):\n",
    "    mean = []\n",
    "    count = 0\n",
    "    for word in subject:\n",
    "        if word in w2v.keys():\n",
    "            mean.append(w2v[word])\n",
    "            count+=1\n",
    "#         else:\n",
    "#             print(word, ' not in vocabulary.')\n",
    "    if count>0:\n",
    "        mean = gensim.matutils.unitvec(np.array(mean).mean(axis=0)).astype(np.float32)\n",
    "        return mean\n",
    "    else:\n",
    "        return np.zeros(300,)\n",
    "\n",
    "def  word_averaging_listn(w2v, subjects):\n",
    "    return np.vstack([getMeanEmbeddings(subject, w2v) for subject in subjects ])"
   ]
  },
  {
   "cell_type": "code",
   "execution_count": 114,
   "metadata": {},
   "outputs": [],
   "source": [
    "embeddings=word_averaging_listn(word2vector, t)"
   ]
  },
  {
   "cell_type": "code",
   "execution_count": 115,
   "metadata": {},
   "outputs": [
    {
     "data": {
      "text/plain": [
       "(85004, 300)"
      ]
     },
     "execution_count": 115,
     "metadata": {},
     "output_type": "execute_result"
    }
   ],
   "source": [
    "embeddings.shape"
   ]
  },
  {
   "cell_type": "code",
   "execution_count": 117,
   "metadata": {},
   "outputs": [
    {
     "data": {
      "text/plain": [
       "'Olhos postos no seu dinheiro'"
      ]
     },
     "execution_count": 117,
     "metadata": {},
     "output_type": "execute_result"
    }
   ],
   "source": [
    "data[0]"
   ]
  },
  {
   "cell_type": "code",
   "execution_count": 307,
   "metadata": {
    "scrolled": true
   },
   "outputs": [
    {
     "data": {
      "image/png": "[encoded data removed]",
      "text/plain": [
       "<Figure size 1008x576 with 1 Axes>"
      ]
     },
     "metadata": {
      "needs_background": "light"
     },
     "output_type": "display_data"
    }
   ],
   "source": [
    "from sklearn.manifold import TSNE\n",
    "import matplotlib.pyplot as plt\n",
    "emmbed_dict = word2vector\n",
    "distri = TSNE(n_components=2)\n",
    "words = list(emmbed_dict.keys())\n",
    "vectors = [emmbed_dict[word] for word in words]\n",
    "y = distri.fit_transform(vectors[700:850])\n",
    "plt.figure(figsize=(14,8))\n",
    "plt.scatter(y[:, 0],y[:,1])\n",
    "for label,x,y in zip(words,y[:, 0],y[:,1]):\n",
    "  plt.annotate(label,xy=(x,y),xytext=(0,0),textcoords='offset points')\n",
    "plt.show()"
   ]
  },
  {
   "cell_type": "markdown",
   "metadata": {},
   "source": [
    "# Subject 10"
   ]
  },
  {
   "cell_type": "markdown",
   "metadata": {},
   "source": [
    "## Text Preprocessing"
   ]
  },
  {
   "cell_type": "markdown",
   "metadata": {},
   "source": [
    "## Euclidean Distance between Embeddings"
   ]
  },
  {
   "cell_type": "code",
   "execution_count": null,
   "metadata": {},
   "outputs": [],
   "source": []
  },
  {
   "cell_type": "code",
   "execution_count": 118,
   "metadata": {},
   "outputs": [],
   "source": [
    "def get_top_ind_eu(num, top):\n",
    "    dist = {}\n",
    "    for (i,d) in enumerate(embeddings):\n",
    "        dist[i] =  np.linalg.norm(d-embeddings[num])\n",
    "    dist = dict(sorted(dist.items(),key= lambda x:x[1]))\n",
    "    return list(dist.keys())[:top]"
   ]
  },
  {
   "cell_type": "code",
   "execution_count": 134,
   "metadata": {},
   "outputs": [],
   "source": [
    "def get_top_subj_eu(d, ind, top, printOutput=False):\n",
    "    out = [d[i] for i in get_top_ind_eu(ind,top)]\n",
    "    if printOutput:\n",
    "        print('Input Subject: ', d[ind], '\\n')\n",
    "        for o in out:\n",
    "            print('Output Subject: ', o)\n",
    "    return out"
   ]
  },
  {
   "cell_type": "code",
   "execution_count": 135,
   "metadata": {},
   "outputs": [
    {
     "name": "stdout",
     "output_type": "stream",
     "text": [
      "Input Subject:  Urgent: Immediate payment is required \n",
      "\n",
      "Output Subject:  Urgent: Immediate payment is required\n",
      "Output Subject:  Account Alert: Your payment is due\n",
      "Output Subject:  A payment is required on your account\n",
      "Output Subject:  Account Alert: Your payment is scheduled\n",
      "Output Subject:  Your QCard payment is due soon.\n",
      "Output Subject:   Your payment is due soon!\n",
      "Output Subject:  Your payment is due soon!\n",
      "Output Subject:  Your next card payment is due ${MIN_PYMT_DUE_DT}. Here are easier ways to pay.\n",
      "Output Subject:  Your account still needs a payment method…\n",
      "Output Subject:  Your COVID-19 Payment Assistance Program has ended-your next payment is due ${PYMNT_DUE_DATE}.\n"
     ]
    },
    {
     "data": {
      "text/plain": [
       "['Urgent: Immediate payment is required',\n",
       " 'Account Alert: Your payment is due',\n",
       " 'A payment is required on your account',\n",
       " 'Account Alert: Your payment is scheduled',\n",
       " 'Your QCard payment is due soon.',\n",
       " ' Your payment is due soon!',\n",
       " 'Your payment is due soon!',\n",
       " 'Your next card payment is due ${MIN_PYMT_DUE_DT}. Here are easier ways to pay.',\n",
       " 'Your account still needs a payment method…',\n",
       " 'Your COVID-19 Payment Assistance Program has ended-your next payment is due ${PYMNT_DUE_DATE}.']"
      ]
     },
     "execution_count": 135,
     "metadata": {},
     "output_type": "execute_result"
    }
   ],
   "source": [
    "get_top_subj_eu(data, 150, 10, True)"
   ]
  },
  {
   "cell_type": "markdown",
   "metadata": {},
   "source": [
    "## Cosine Similarity"
   ]
  },
  {
   "cell_type": "code",
   "execution_count": 2,
   "metadata": {},
   "outputs": [],
   "source": [
    "from sklearn.metrics.pairwise import cosine_similarity\n",
    "def cosine_sim(a, b):\n",
    "    return np.dot(a, b)/(np.linalg.norm(a)*np.linalg.norm(b))"
   ]
  },
  {
   "cell_type": "code",
   "execution_count": 54,
   "metadata": {},
   "outputs": [],
   "source": [
    "def get_top_ind_cos(num, top):\n",
    "    dist = {}\n",
    "    for (i,d) in enumerate(embeddings):\n",
    "        dist[i] =  cosine_similarity(d.reshape(1,-1), embeddings[num].reshape(1,-1))[0][0]\n",
    "    dist = dict(sorted(dist.items(),key= lambda x:x[1], reverse=True))\n",
    "    return list(dist.keys())[:top]"
   ]
  },
  {
   "cell_type": "code",
   "execution_count": 55,
   "metadata": {},
   "outputs": [],
   "source": [
    "def get_top_subj_cos(d, ind, top):\n",
    "    \n",
    "    print('Input Subject: ', d[ind], '\\n')\n",
    "    out = [d[i] for i in get_top_ind_cos(ind,top)]\n",
    "    for o in out:\n",
    "        print('Output Subject: ', o)"
   ]
  },
  {
   "cell_type": "code",
   "execution_count": 56,
   "metadata": {
    "scrolled": true
   },
   "outputs": [
    {
     "name": "stdout",
     "output_type": "stream",
     "text": [
      "CPU times: user 5 µs, sys: 1 µs, total: 6 µs\n",
      "Wall time: 10.7 µs\n",
      "Input Subject:  It's a special summertime offer for ${dynamic1} employees. \n",
      "\n",
      "Output Subject:  It's a special summertime offer for ${dynamic1} employees.\n",
      "Output Subject:   It's a special summertime offer for ${dynamic1}  employees.\n",
      "Output Subject:  Thank you for being a customer. Here's a special offer.\n",
      "Output Subject:  ${FirstName}, Here’s a special PayPal offer for you\n",
      "Output Subject:  A special offer for you\n",
      "Output Subject:  Just for you: A special DVR offer \n",
      "Output Subject:  Just for you: A special WiFi offer!\n",
      "Output Subject:  Synchrony Bank has a special offer for Synchrony HOME Credit Cardholders.\n",
      "Output Subject:  A special offer from Overstock for our best customers!\n",
      "Output Subject:  Just for you: A special offer on the best services\n"
     ]
    }
   ],
   "source": [
    "get_top_subj_cos(data, 1000, 10)"
   ]
  },
  {
   "cell_type": "code",
   "execution_count": null,
   "metadata": {},
   "outputs": [],
   "source": []
  },
  {
   "cell_type": "markdown",
   "metadata": {},
   "source": [
    "## K Means Clustering"
   ]
  },
  {
   "cell_type": "code",
   "execution_count": null,
   "metadata": {},
   "outputs": [],
   "source": []
  },
  {
   "cell_type": "code",
   "execution_count": null,
   "metadata": {},
   "outputs": [],
   "source": []
  },
  {
   "cell_type": "markdown",
   "metadata": {},
   "source": [
    "## Other Distance Metrics"
   ]
  },
  {
   "cell_type": "code",
   "execution_count": 159,
   "metadata": {},
   "outputs": [],
   "source": [
    "from scipy.spatial.distance import cdist"
   ]
  },
  {
   "cell_type": "code",
   "execution_count": 162,
   "metadata": {},
   "outputs": [],
   "source": [
    "d=cdist(data[:10000],data[:10000])"
   ]
  },
  {
   "cell_type": "code",
   "execution_count": 163,
   "metadata": {},
   "outputs": [],
   "source": [
    "similarity_indexes = np.argsort(d,axis=0)"
   ]
  },
  {
   "cell_type": "code",
   "execution_count": 164,
   "metadata": {},
   "outputs": [],
   "source": [
    "top10_similar=a[:,0:10]"
   ]
  },
  {
   "cell_type": "code",
   "execution_count": 165,
   "metadata": {},
   "outputs": [
    {
     "data": {
      "text/plain": [
       "array([ 6674,   299, 11258, 10219,  4938,  6524,  7603,   362,  4206,\n",
       "        9989])"
      ]
     },
     "execution_count": 165,
     "metadata": {},
     "output_type": "execute_result"
    }
   ],
   "source": [
    "top10_similar[10,:]"
   ]
  },
  {
   "cell_type": "code",
   "execution_count": 170,
   "metadata": {
    "scrolled": true
   },
   "outputs": [
    {
     "name": "stdout",
     "output_type": "stream",
     "text": [
      "\n",
      "\n",
      "Input Subject:  Thank you for contacting Pagemodo \n",
      "\n",
      "\n",
      "Output Subject  0 :  Fall savings available at Victorville Chevrolet \n",
      "\n",
      "Output Subject  1 :  Ravens vs. Titans: Baltimore is the heavy favorite, still Tennessee is a 'real threat'  |  Many PG lawmakers won’t back Pimlico deal without Bowie track | Two arrested in shooting of 13-year-old girl \n",
      "\n",
      "Output Subject  2 :  Message created by RestApiSeriesTask TriggerMessage Series 1  \n",
      "\n",
      "Output Subject  3 :  ${FirstName}, empieza a usar tu cuenta de PayPal \n",
      "\n",
      "Output Subject  4 :  Rate Limit Exceeded Alert in messages_v3 proxy \n",
      "\n",
      "Output Subject  5 :  ${TRU_SUNDAY_DYNAMIC_MAI_BCQ_219.OZ1.SUBJECTLINE} \n",
      "\n",
      "Output Subject  6 :  ${SubjectLine!'default'} \n",
      "\n",
      "Output Subject  7 :  Keep the birthday party going 🎈 \n",
      "\n",
      "Output Subject  8 :  Get up to 50% off GoPro Gear \n",
      "\n",
      "Output Subject  9 :  Summary Report - Cashiering Request Needs Additional Information 2018-03-14 \n",
      "\n",
      "\n",
      "\n",
      "Input Subject:  Pagemodo Tip: How to Keep Fans Coming Back \n",
      "\n",
      "\n",
      "Output Subject  0 :  [#assign LETTER_NUM = \"${LETTER_NUM001}\"][#if LETTER_NUM == \"CO9902\"] Lower your Citi payments today [#elseif LETTER_NUM == \"CO9903\"] You can still set up your online payment [#elseif LETTER_NUM == \"CO9904\"] You're just steps away from completing your pro \n",
      "\n",
      "Output Subject  1 :  Could XTANDI® (enzalutamide) Be Right for Your Loved One? \n",
      "\n",
      "Output Subject  2 :  Создавайте и отправляйте индивидуально настроенные счета на оплату бесплатно \n",
      "\n",
      "Output Subject  3 :  1.5 months: Tips for a new routine and feeding plans \n",
      "\n",
      "Output Subject  4 :  ${LastName} ${FirstName}，隨時隨地使用 PayPal 購物 \n",
      "\n",
      "Output Subject  5 :  Fatal Error Alert : Server Error in messages_v5 proxy \n",
      "\n",
      "Output Subject  6 :  Explore the lighter side. \n",
      "\n",
      "Output Subject  7 :  The Big Day is Almost Here! Update Your Child's Wish List Today! \n",
      "\n",
      "Output Subject  8 :  Don't Forget to Publish Your Site \n",
      "\n",
      "Output Subject  9 :   sub \n",
      "\n",
      "\n",
      "\n",
      "Input Subject:  Pagemodo Tip: How Many Tabs Can You Create? \n",
      "\n",
      "\n",
      "Output Subject  0 :  Get More Flexibility with +Posts Bookmarklet \n",
      "\n",
      "Output Subject  1 :  Lewisville- Failed synthetic benchmark 01/07/2020 11:11:49 \n",
      "\n",
      "Output Subject  2 :  Message created by RestApiSeriesTask TriggerMessage Series 1  \n",
      "\n",
      "Output Subject  3 :  You're invited to lunch with us. \n",
      "\n",
      "Output Subject  4 :  Discover the difference in an ADHD treatment option \n",
      "\n",
      "Output Subject  5 :  ${(FIRST_NM!'Account Owner')?capitalize}, need a loan for your new home? \n",
      "\n",
      "Output Subject  6 :  Your order ${OrderNumber} was canceled \n",
      "\n",
      "Output Subject  7 :  mab4rji4_Black Friday is All-Inclusive (TEST) \n",
      "\n",
      "Output Subject  8 :  Your Sephora.com email address \n",
      "\n",
      "Output Subject  9 :  Action Plan summary and next steps \n",
      "\n",
      "\n",
      "\n",
      "Input Subject:   Pagemodo Tip: Turn Likes into Leads \n",
      "\n",
      "\n",
      "Output Subject  0 :  [#if GameFavTeam1001?has_content]Stream the ${GameFavTeam1001} for free on Yahoo Sports[#else]You could be watching football. 🏈[/#if] \n",
      "\n",
      "Output Subject  1 :  Message created by RestApiSeriesTask TriggerMessage Series 1  \n",
      "\n",
      "Output Subject  2 :  Mejoras a las transferencias bancarias en chase.com \n",
      "\n",
      "Output Subject  3 :  ¡Ya solo faltan 2 trimestres! \n",
      "\n",
      "Output Subject  4 :  Xbox One is Now Starting at $399.99! Get Yours Today \n",
      "\n",
      "Output Subject  5 :  EM082614F - Don't Miss the Chance to Get $10 Off By Completing Our Survey! \n",
      "\n",
      "Output Subject  6 :  Banking online with Truist is almost here. \n",
      "\n",
      "Output Subject  7 :  Birth control that is in rhythm with your life \n",
      "\n",
      "Output Subject  8 :  Congratulations, Your Cover Photo is Published \n",
      "\n",
      "Output Subject  9 :  A friendly reminder of what's in your cart. \n",
      "\n",
      "\n",
      "\n",
      "Input Subject:  Custom Tab, Published - Day 8: Pagemodo Tip: Grow Your Audience with a Like Gate \n",
      "\n",
      "\n",
      "Output Subject  0 :  ${(FIRST_NM!'[FIRST_NM]')?capitalize}, a reminder: You can stay on top of your account with Chase.com \n",
      "\n",
      "Output Subject  1 :  Une étape supplémentaire et votre compte sera prêt \n",
      "\n",
      "Output Subject  2 :  Listemail_Seglist_LV_5/16 \n",
      "\n",
      "Output Subject  3 :  Nous sommes enchantés de pouvoir vous compter parmi les nôtres \n",
      "\n",
      "Output Subject  4 :  Message created by RestApiSeriesTask TriggerMessage Series 1  \n",
      "\n",
      "Output Subject  5 :  ${FIRST_NAME?capitalize}, you’re going to ♥ your new ShopHQ Credit Card. \n",
      "\n",
      "Output Subject  6 :  [#if SOURCE_CODE = \"1186NR\"]Another Chance to Make This Summer Count![#else]Make This Summer Count![/#if] \n",
      "\n",
      "Output Subject  7 :   [#-- Belk / ATD_2700105_Belk_EMOB_2021_Renewal_SubjectLine_V1 --][@trackcontent ID='7a7be16f-84ce-44d1-a633-0e68799c5c3e'][/@trackcontent][#if (COMM_CODE)==(\"BLKE11DC\")]${FIRST_NAME?capitalize}, have you activated your Belk Rewards Mastercard?[#elseif (C \n",
      "\n",
      "Output Subject  8 :  Pagemodo Tip: Grow Your Audience with a Like Gate \n",
      "\n",
      "Output Subject  9 :  Update on your order #${OrderNumber} \n",
      "\n",
      "\n",
      "\n",
      "Input Subject:  Custom Tab, Published - Day 2: Pagemodo Tip: Make a Statement with a Cover Photo \n",
      "\n",
      "\n",
      "Output Subject  0 :  Rate Limit Exceeded Alert in messages_v3 proxy \n",
      "\n",
      "Output Subject  1 :  Test RTM Message \n",
      "\n",
      "Output Subject  2 :  Ravens vs. Titans: Baltimore is the heavy favorite, still Tennessee is a 'real threat'  |  Many PG lawmakers won’t back Pimlico deal without Bowie track | Two arrested in shooting of 13-year-old girl \n",
      "\n",
      "Output Subject  3 :  Your order #${OrderNumber} was received \n",
      "\n",
      "Output Subject  4 :  Your Sephora.com email address \n",
      "\n",
      "Output Subject  5 :  50% OFF OUTERWEAR, ACTIVEWEAR & LONG SLEEVE GRAPHIC TEES + FREE SHIPPING TOO! \n",
      "\n",
      "Output Subject  6 :  Se, hvordan PayPal har hjulpet virksomheder med at opnå stor succes \n",
      "\n",
      "Output Subject  7 :  Cindy’s story about screening. \n",
      "\n",
      "Output Subject  8 :  ${FIRST_NM}, reciba un crédito de $${STM} en el estado de su cuenta Chase \n",
      "\n",
      "Output Subject  9 :  LV_MDM_Api_Nonce_listOp2_05-28 00:49:50 \n",
      "\n",
      "\n",
      "\n",
      "Input Subject:   Custom Tab, Published - Day 6: Pagemodo Tip: Turn Likes into Leads \n",
      "\n",
      "\n",
      "Output Subject  0 :  Account Alert: ${SUBJECT} Payment Request \n",
      "\n",
      "Output Subject  1 :  Our Sale Ends with a Splash Soon \n",
      "\n",
      "Output Subject  2 :  Let your portfolio spread its wings and fly with you.  \n",
      "\n",
      "Output Subject  3 :  Quick Tip: Get More Insight with Webs Stats- Prem Welcome Starter D14IR \n",
      "\n",
      "Output Subject  4 :  SAT Time To Register \n",
      "\n",
      "Output Subject  5 :  ${LISTID_FirstName}, it's time to check in! \n",
      "\n",
      "Output Subject  6 :  Your first deposit is required to complete your account activation. Here are your options. \n",
      "\n",
      "Output Subject  7 :  Get It Now - Coupon Or Promo Code For 20% Off Britax and BOB! \n",
      "\n",
      "Output Subject  8 :  MikeB5MDM \n",
      "\n",
      "Output Subject  9 :  ${FIRST_NM!'[FIRST_NM]'}, turn your bills into rewards \n",
      "\n",
      "\n",
      "\n",
      "Input Subject:  Quick Tip: Build a Great Homepage in 5 Steps-Free Pub Day 1 \n",
      "\n",
      "\n",
      "Output Subject  0 :  Your Sephora.com email address \n",
      "\n",
      "Output Subject  1 :  Message created by RestApiSeriesTask TriggerMessage Series 1  \n",
      "\n",
      "Output Subject  2 :  Rate Limit Exceeded Alert in messages_v3 proxy \n",
      "\n",
      "Output Subject  3 :  Final Notice: Update Your Webs Account Now \n",
      "\n",
      "Output Subject  4 :  Quick Tip: Generate Leads with a Contact Form \n",
      "\n",
      "Output Subject  5 :  [PayPal] ペイパルが使える人気のお店のご紹介 ${MERCHANT_NAME}  \n",
      "\n",
      "Output Subject  6 :  ¡Listo para hacer nuevos amigos! Mes 8. \n",
      "\n",
      "Output Subject  7 :  ${FirstName} ${LastName}, 3 beneficios que puedes disfrutar con tu cuenta PayPal. \n",
      "\n",
      "Output Subject  8 :  Your Sephora.com email address \n",
      "\n",
      "Output Subject  9 :  Message created by RestApiSeriesTask TriggerMessage Series 1  \n",
      "\n",
      "\n",
      "\n",
      "Input Subject:  Get Design Inspiration for Your Website-Free not Pub Day 3 \n",
      "\n",
      "\n",
      "Output Subject  0 :  Message created by RestApiSeriesTask TriggerMessage Series 1  \n",
      "\n",
      "Output Subject  1 :  <ADV> ${FIRST_NAME} ${LAST_NAME}, we can help you establish good client relationships \n",
      "\n",
      "Output Subject  2 :  72 Hours of Saving Starts Now \n",
      "\n",
      "Output Subject  3 :  Activate your Houzz Credit Card today to start earning rewards \n",
      "\n",
      "Output Subject  4 :  Your password has been reset  \n",
      "\n",
      "Output Subject  5 :  Quick Tip: 4 Steps to a Winning Website \n",
      "\n",
      "Output Subject  6 :  ${FIRST_NAME} ${LAST_NAME}, Improve cashflow with PayPal and QuickBooks \n",
      "\n",
      "Output Subject  7 :  Ideas for talking to your doctor about treatment \n",
      "\n",
      "Output Subject  8 :   Dürfen wir uns vorstellen? \n",
      "\n",
      "Output Subject  9 :  Message created by RestApiSeriesTask TriggerMessage Series 1  \n",
      "\n",
      "\n",
      "\n",
      "Input Subject:  Get Design Inspiration for Your Website-Free not Pub Day 3 \n",
      "\n",
      "\n",
      "Output Subject  0 :  ${(CUSTOMER_FIRST_NAME!'valued customer')?capitalize}, Your Changes are Confirmed \n",
      "\n",
      "Output Subject  1 :  ${SubjectLine!'default'} \n",
      "\n",
      "Output Subject  2 :  [#assign FF03 = \"${FLEXFIELD03}\"][#assign FF04 = \"${FLEXFIELD04}\"][#if FF04?has_content && FF04 == \"PRECLOSET1\"][#if FirstName001?has_content]${FirstName001?capitalize}, [#else][/#if]An *EXCLUSIVE OFFER* for YOU!📎[#elseif FF04?has_content && FF04 == \"PRE \n",
      "\n",
      "Output Subject  3 :  ${firstname!'Amica Customer'}, see why more people choose Amica. \n",
      "\n",
      "Output Subject  4 :  ${SubjectLine!'default'} \n",
      "\n",
      "Output Subject  5 :  ${SubjectLine!'default'} \n",
      "\n",
      "Output Subject  6 :  Woo-hoo! Your Limit has Been Increased! \n",
      "\n",
      "Output Subject  7 :  ${SubjectLine!'default'} \n",
      "\n",
      "Output Subject  8 :  Your Sephora.com email address \n",
      "\n",
      "Output Subject  9 :  Message created by RestApiSeriesTask TriggerMessage Series 1  \n",
      "\n"
     ]
    }
   ],
   "source": [
    "for i, ranks in enumerate(top10_similar[90:100,:]):\n",
    "    print('\\n\\nInput Subject: ', data[i], '\\n\\n')\n",
    "    for k, j in enumerate(ranks):\n",
    "        print('Output Subject ', k, ': ', data[j], '\\n')"
   ]
  },
  {
   "cell_type": "markdown",
   "metadata": {},
   "source": [
    "##  GRU Implementation"
   ]
  },
  {
   "cell_type": "code",
   "execution_count": 199,
   "metadata": {},
   "outputs": [],
   "source": [
    "SOS_token = 0\n",
    "EOS_token = 1\n",
    "\n",
    "class SubjectLines:\n",
    "    def __init__(self):\n",
    "        self.word2index = {}\n",
    "        self.word2count = {}\n",
    "        self.index2word = {0: \"SOS\", 1: \"EOS\"}\n",
    "        self.n_words = 2  # Count SOS and EOS\n",
    "\n",
    "    def addSentence(self, sentence):\n",
    "        for word in sentence.split(' '):\n",
    "            self.addWord(word)\n",
    "\n",
    "    def addWord(self, word):\n",
    "        if word not in self.word2index.keys():\n",
    "            self.word2index[word] = self.n_words\n",
    "            self.word2count[word] = 1\n",
    "            self.index2word[self.n_words] = word\n",
    "            self.n_words += 1\n",
    "        else:\n",
    "            self.word2count[word] += 1"
   ]
  },
  {
   "cell_type": "code",
   "execution_count": 200,
   "metadata": {},
   "outputs": [],
   "source": [
    "def init_subjects(n):\n",
    "    print(\"Creating subject classes...\")\n",
    "    \n",
    "    input_subjects = SubjectLines()\n",
    "    output_subjects = [SubjectLines() for i in range(n)]\n",
    "\n",
    "    print(\"Done creating subject classes...\")\n",
    "\n",
    "    return input_subjects, output_subjects"
   ]
  },
  {
   "cell_type": "code",
   "execution_count": 201,
   "metadata": {},
   "outputs": [],
   "source": [
    "from tqdm import tqdm\n",
    "\n",
    "def prepareData(data, top_k=5, subLen=1000):\n",
    "    \n",
    "    input_sub, output_sub = init_subjects(top_k)   \n",
    "    print(\"Read %s subjects\" % len(data))\n",
    "    clean_subjects = data\n",
    "    print(\"Trimmed to %s subjects\" % len(clean_subjects))\n",
    "    \n",
    "    print(\"Counting words...\")\n",
    "    output_subjects = []\n",
    "    for i, clean_subject in enumerate(tqdm(clean_subjects)):\n",
    "        if i<subLen:\n",
    "            input_sub.addSentence(clean_subject)\n",
    "            output = get_top_subj_eu(clean_subjects, i, top_k)  \n",
    "            output_subjects.append(output)\n",
    "            for i, _d in enumerate(output):\n",
    "                output_sub[i].addSentence(_d)\n",
    "        \n",
    "    print(\"Counted words and saved input-output data\")\n",
    "    \n",
    "    print(input_sub.n_words)\n",
    "    for output_s in output_sub:\n",
    "        print(output_s.n_words)\n",
    "    \n",
    "    return input_sub, output_sub, clean_subjects, output_subjects"
   ]
  },
  {
   "cell_type": "code",
   "execution_count": 202,
   "metadata": {},
   "outputs": [
    {
     "data": {
      "text/plain": [
       "85004"
      ]
     },
     "execution_count": 202,
     "metadata": {},
     "output_type": "execute_result"
    }
   ],
   "source": [
    "len(data)"
   ]
  },
  {
   "cell_type": "code",
   "execution_count": 203,
   "metadata": {
    "scrolled": true
   },
   "outputs": [
    {
     "name": "stdout",
     "output_type": "stream",
     "text": [
      "Creating subject classes...\n",
      "Done creating subject classes...\n",
      "Read 85004 subjects\n",
      "Trimmed to 85004 subjects\n",
      "Counting words...\n"
     ]
    },
    {
     "name": "stderr",
     "output_type": "stream",
     "text": [
      "100%|█████████████████████████████████████████████████████████████████████████████████████████████████████████| 85004/85004 [11:33<00:00, 122.61it/s]"
     ]
    },
    {
     "name": "stdout",
     "output_type": "stream",
     "text": [
      "Counted words and saved input-output data\n",
      "2827\n",
      "2370\n",
      "2194\n",
      "2135\n",
      "2137\n",
      "2095\n"
     ]
    },
    {
     "name": "stderr",
     "output_type": "stream",
     "text": [
      "\n"
     ]
    }
   ],
   "source": [
    "input_sub, output_sub, input_subjects, output_subjects = prepareData(data, 5, 1000)"
   ]
  },
  {
   "cell_type": "code",
   "execution_count": 223,
   "metadata": {},
   "outputs": [
    {
     "data": {
      "text/plain": [
       "True"
      ]
     },
     "execution_count": 223,
     "metadata": {},
     "output_type": "execute_result"
    }
   ],
   "source": [
    "\"under\" in input_sub.word2index.keys()"
   ]
  },
  {
   "cell_type": "code",
   "execution_count": 204,
   "metadata": {
    "scrolled": true
   },
   "outputs": [
    {
     "name": "stdout",
     "output_type": "stream",
     "text": [
      "barstools under ship free !\n",
      "['quality lasts longer .', ' style that lasts forever classic !', 'naturally pretty flush of color that lasts lasts ', 'cyber monday lasts all week long', 'marriott executive apartments for longer stays']\n"
     ]
    }
   ],
   "source": [
    "print(random.choice(input_subjects))\n",
    "print(random.choice(output_subjects))"
   ]
  },
  {
   "cell_type": "code",
   "execution_count": 172,
   "metadata": {
    "scrolled": true
   },
   "outputs": [
    {
     "name": "stdout",
     "output_type": "stream",
     "text": [
      "\n",
      "\n",
      "Input Subject:  Publish Your Website Today- Free not Pub Day 8 \n",
      "\n",
      "Output Subject  0 :  Your Sephora.com email address \n",
      "\n",
      "Output Subject  1 :  Quick Tip: Don't Forget Your Custom Domain - Prem Welcome - Enh D3 \n",
      "\n",
      "Output Subject  2 :  [#assign NAMELIST = PatientName] [#assign NAMELIST = NAMELIST?split(\",\")] [#assign NAMEFIRST=NAMELIST[1]] [#assign NAMELAST=NAMELIST[0]]${NAMEFIRST?capitalize}, a smarter smile is still waiting. \n",
      "\n",
      "Output Subject  3 :  [#if UUID_Subject_Line?has_content]${UUID_Subject_Line}[#else]Your Daily Yahoo Stories for ${.now?date?string(\"EEEE\")} [/#if] \n",
      "\n",
      "Output Subject  4 :  NEW Warrior & CCM Hockey Sticks! \n",
      "\n",
      "Output Subject  5 :  Your Sephora.com email address \n",
      "\n",
      "Output Subject  6 :  ${FIRST_NAME} ${LAST_NAME}, Update your business information so we can serve you better \n",
      "\n",
      "Output Subject  7 :  testdhyan \n",
      "\n",
      "Output Subject  8 :  Cuidando sus pasos. Mes 12. \n",
      "\n",
      "Output Subject  9 :  Dealer Name / Campaign Name / Campaign Id : Hometown Motors Volvo Test Account B / 5258544 has submitted an e-Strike campaign successfully. \n",
      "\n"
     ]
    }
   ],
   "source": [
    "print('\\n\\nInput Subject: ', data[10], '\\n')\n",
    "ranks = top10_similar[10,:]\n",
    "for k, j in enumerate(ranks):\n",
    "    print('Output Subject ', k, ': ', data[j], '\\n')"
   ]
  },
  {
   "cell_type": "markdown",
   "metadata": {},
   "source": [
    "# Autoencoder + Decoder Models"
   ]
  },
  {
   "cell_type": "markdown",
   "metadata": {},
   "source": [
    "## Model"
   ]
  },
  {
   "cell_type": "code",
   "execution_count": 146,
   "metadata": {},
   "outputs": [],
   "source": [
    "class EncoderRNN(nn.Module):\n",
    "    def __init__(self, input_size, hidden_size):\n",
    "        super(EncoderRNN, self).__init__()\n",
    "        self.hidden_size = hidden_size\n",
    "\n",
    "        self.embedding = nn.Embedding(input_size, hidden_size)\n",
    "        self.gru = nn.GRU(hidden_size, hidden_size)\n",
    "\n",
    "    def forward(self, input, hidden):\n",
    "        embedded = self.embedding(input).view(1, 1, -1)\n",
    "        output = embedded\n",
    "        output, hidden = self.gru(output, hidden)\n",
    "        return output, hidden\n",
    "\n",
    "    def initHidden(self):\n",
    "        return torch.zeros(1, 1, self.hidden_size, device=device)"
   ]
  },
  {
   "cell_type": "code",
   "execution_count": 147,
   "metadata": {},
   "outputs": [],
   "source": [
    "class DecoderRNN(nn.Module):\n",
    "    def __init__(self, hidden_size, output_size):\n",
    "        super(DecoderRNN, self).__init__()\n",
    "        self.hidden_size = hidden_size\n",
    "\n",
    "        self.embedding = nn.Embedding(output_size, hidden_size)\n",
    "        self.gru = nn.GRU(hidden_size, hidden_size)\n",
    "        self.out = nn.Linear(hidden_size, output_size)\n",
    "        self.softmax = nn.LogSoftmax(dim=1)\n",
    "\n",
    "    def forward(self, input, hidden):\n",
    "        output = self.embedding(input).view(1, 1, -1)\n",
    "        output = F.relu(output)\n",
    "        output, hidden = self.gru(output, hidden)\n",
    "        output = self.softmax(self.out(output[0]))\n",
    "        return output, hidden\n",
    "\n",
    "    def initHidden(self):\n",
    "        return torch.zeros(1, 1, self.hidden_size, device=device)"
   ]
  },
  {
   "cell_type": "code",
   "execution_count": 148,
   "metadata": {},
   "outputs": [],
   "source": [
    "class AttnDecoderRNN(nn.Module):\n",
    "    def __init__(self, hidden_size, output_size, dropout_p=0.1, max_length=MAX_LENGTH):\n",
    "        super(AttnDecoderRNN, self).__init__()\n",
    "        self.hidden_size = hidden_size\n",
    "        self.output_size = output_size\n",
    "        self.dropout_p = dropout_p\n",
    "        self.max_length = max_length\n",
    "\n",
    "        self.embedding = nn.Embedding(self.output_size, self.hidden_size)\n",
    "        self.attn = nn.Linear(self.hidden_size * 2, self.max_length)\n",
    "        self.attn_combine = nn.Linear(self.hidden_size * 2, self.hidden_size)\n",
    "        self.dropout = nn.Dropout(self.dropout_p)\n",
    "        self.gru = nn.GRU(self.hidden_size, self.hidden_size)\n",
    "        self.out = nn.Linear(self.hidden_size, self.output_size)\n",
    "\n",
    "    def forward(self, input, hidden, encoder_outputs):\n",
    "        embedded = self.embedding(input).view(1, 1, -1)\n",
    "        embedded = self.dropout(embedded)\n",
    "\n",
    "        attn_weights = F.softmax(\n",
    "            self.attn(torch.cat((embedded[0], hidden[0]), 1)), dim=1)\n",
    "        attn_applied = torch.bmm(attn_weights.unsqueeze(0),\n",
    "                                 encoder_outputs.unsqueeze(0))\n",
    "\n",
    "        output = torch.cat((embedded[0], attn_applied[0]), 1)\n",
    "        output = self.attn_combine(output).unsqueeze(0)\n",
    "\n",
    "        output = F.relu(output)\n",
    "        output, hidden = self.gru(output, hidden)\n",
    "\n",
    "        output = F.log_softmax(self.out(output[0]), dim=1)\n",
    "        return output, hidden, attn_weights\n",
    "\n",
    "    def initHidden(self):\n",
    "        return torch.zeros(1, 1, self.hidden_size, device=device)"
   ]
  },
  {
   "cell_type": "markdown",
   "metadata": {},
   "source": [
    "## Training-2"
   ]
  },
  {
   "cell_type": "markdown",
   "metadata": {},
   "source": [
    "### Autoencoder Training"
   ]
  },
  {
   "cell_type": "code",
   "execution_count": 309,
   "metadata": {},
   "outputs": [],
   "source": [
    "## Customized\n",
    "def indexesFromSentence(sub, sentence):\n",
    "    return [sub.word2count[word] for word in sentence.split(' ')]\n",
    "\n",
    "\n",
    "def tensorFromSentence(sub, sentence):\n",
    "    indexes = indexesFromSentence(sub, sentence)\n",
    "    indexes.append(EOS_token)\n",
    "    return torch.tensor(indexes, dtype=torch.long, device=device).view(-1, 1)\n",
    "\n",
    "\n",
    "def tensorsFromSubs(input_subject, output, n):\n",
    "    input_tensor = tensorFromSentence(input_sub, input_subject)\n",
    "    target_tensors= [] \n",
    "    for i in range(n):\n",
    "        target_tensors.append( tensorFromSentence( output_sub[i], output[i]) )\n",
    "    return (input_tensor, target_tensors )\n",
    "\n",
    "def tensorsFromSubsTar1(input_subject, k=0):\n",
    "    input_tensor = tensorFromSentence(input_sub, input_subject)\n",
    "    i = input_subjects.index(input_subject)\n",
    "    target_tensors= tensorFromSentence(output_sub[k], output_subjects[i][k])\n",
    "    return (input_tensor, target_tensors)\n",
    "\n",
    "def tensorsFromInSub(input_subject):\n",
    "    input_tensor = tensorFromSentence(input_sub, input_subject)\n",
    "    return (input_tensor, input_tensor)"
   ]
  },
  {
   "cell_type": "code",
   "execution_count": 310,
   "metadata": {},
   "outputs": [],
   "source": [
    "# Original\n",
    "teacher_forcing_ratio = 0.5\n",
    "\n",
    "def train(input_tensor, target_tensor, encoder, decoder, encoder_optimizer, decoder_optimizer, criterion, max_length=MAX_LENGTH):\n",
    "    encoder_hidden = encoder.initHidden()\n",
    "\n",
    "    encoder_optimizer.zero_grad()\n",
    "    decoder_optimizer.zero_grad()\n",
    "\n",
    "    input_length = input_tensor.size(0)\n",
    "    target_length = target_tensor.size(0)\n",
    "\n",
    "    encoder_outputs = torch.zeros(max_length, encoder.hidden_size, device=device)\n",
    "\n",
    "    loss = 0\n",
    "\n",
    "    for ei in range(input_length):\n",
    "        encoder_output, encoder_hidden = encoder(\n",
    "            input_tensor[ei], encoder_hidden)\n",
    "        encoder_outputs[ei] = encoder_output[0, 0]\n",
    "\n",
    "    decoder_input = torch.tensor([[SOS_token]], device=device)\n",
    "\n",
    "    decoder_hidden = encoder_hidden\n",
    "\n",
    "    use_teacher_forcing = True if random.random() < teacher_forcing_ratio else False\n",
    "\n",
    "    if use_teacher_forcing:\n",
    "        # Teacher forcing: Feed the target as the next input\n",
    "        for di in range(target_length):\n",
    "            decoder_output, decoder_hidden, decoder_attention = decoder(\n",
    "                decoder_input, decoder_hidden, encoder_outputs)\n",
    "            loss += criterion(decoder_output, target_tensor[di])\n",
    "            decoder_input = target_tensor[di]  # Teacher forcing\n",
    "\n",
    "    else:\n",
    "        # Without teacher forcing: use its own predictions as the next input\n",
    "        for di in range(target_length):\n",
    "            decoder_output, decoder_hidden, decoder_attention = decoder(\n",
    "                decoder_input, decoder_hidden, encoder_outputs)\n",
    "            topv, topi = decoder_output.topk(1)\n",
    "            decoder_input = topi.squeeze().detach()  # detach from history as input\n",
    "\n",
    "            loss += criterion(decoder_output, target_tensor[di])\n",
    "            if decoder_input.item() == EOS_token:\n",
    "                break\n",
    "\n",
    "    loss.backward()\n",
    "\n",
    "    encoder_optimizer.step()\n",
    "    decoder_optimizer.step()\n",
    "\n",
    "    return loss.item() / target_length"
   ]
  },
  {
   "cell_type": "code",
   "execution_count": 311,
   "metadata": {},
   "outputs": [],
   "source": [
    "import time\n",
    "import math\n",
    "\n",
    "def asMinutes(s):\n",
    "    m = math.floor(s / 60)\n",
    "    s -= m * 60\n",
    "    return '%dm %ds' % (m, s)\n",
    "\n",
    "def timeSince(since, percent):\n",
    "    now = time.time()\n",
    "    s = now - since\n",
    "    es = s / (percent)\n",
    "    rs = es - s\n",
    "    return '%s (- %s)' % (asMinutes(s), asMinutes(rs))"
   ]
  },
  {
   "cell_type": "code",
   "execution_count": 312,
   "metadata": {},
   "outputs": [],
   "source": [
    "import matplotlib.pyplot as plt\n",
    "plt.switch_backend('agg')\n",
    "import matplotlib.ticker as ticker\n",
    "import numpy as np\n",
    "\n",
    "def showPlot(points):\n",
    "    plt.figure()\n",
    "    fig, ax = plt.subplots()\n",
    "    # this locator puts ticks at regular intervals\n",
    "    loc = ticker.MultipleLocator(base=0.2)\n",
    "    ax.yaxis.set_major_locator(loc)\n",
    "    plt.plot(points)"
   ]
  },
  {
   "cell_type": "code",
   "execution_count": 313,
   "metadata": {},
   "outputs": [],
   "source": [
    "## Original\n",
    "def trainIters(encoder, decoder, n_iters, print_every=1000, plot_every=100, learning_rate=0.01, k=0):\n",
    "    start = time.time()\n",
    "    plot_losses = []\n",
    "    print_loss_total = 0  # Reset every print_every\n",
    "    plot_loss_total = 0  # Reset every plot_every\n",
    "\n",
    "    encoder_optimizer = optim.SGD(encoder.parameters(), lr=learning_rate)\n",
    "    decoder_optimizer = optim.SGD(decoder.parameters(), lr=learning_rate)\n",
    "    training_pairs = []\n",
    "    for i in range(n_iters):\n",
    "        inp = random.choice(input_subjects[:1000])\n",
    "        while len(inp)>20:\n",
    "            inp = random.choice(input_subjects[:1000])\n",
    "        training_pairs.append(tensorsFromInSub(inp))\n",
    "    criterion = nn.NLLLoss()\n",
    "\n",
    "    for iter in tqdm(range(1, n_iters + 1)):\n",
    "        training_pair = training_pairs[iter - 1]\n",
    "        input_tensor = training_pair[0]\n",
    "        target_tensor = training_pair[1]\n",
    "\n",
    "        loss = train(input_tensor, target_tensor, encoder,\n",
    "                     decoder, encoder_optimizer, decoder_optimizer, criterion)\n",
    "        print_loss_total += loss\n",
    "        plot_loss_total += loss\n",
    "\n",
    "        if iter % print_every == 0:\n",
    "            print_loss_avg = print_loss_total / print_every\n",
    "            print_loss_total = 0\n",
    "            print('%s (%d %d%%) %.4f' % (timeSince(start, iter / n_iters),\n",
    "                                         iter, iter / n_iters * 100, print_loss_avg))\n",
    "\n",
    "        if iter % plot_every == 0:\n",
    "            plot_loss_avg = plot_loss_total / plot_every\n",
    "            plot_losses.append(plot_loss_avg)\n",
    "            plot_loss_total = 0\n",
    "\n",
    "    showPlot(plot_losses)"
   ]
  },
  {
   "cell_type": "code",
   "execution_count": 315,
   "metadata": {},
   "outputs": [],
   "source": [
    "hidden_size = 256\n",
    "k=1\n",
    "encoder2 = EncoderRNN(input_sub.n_words, hidden_size).to(device)\n",
    "attn_decoder2 = AttnDecoderRNN(hidden_size, input_sub.n_words, dropout_p=0.1).to(device)\n",
    "# decoder1 = DecoderRNN(hidden_size, input_sub.n_words).to(device)"
   ]
  },
  {
   "cell_type": "markdown",
   "metadata": {},
   "source": [
    "#### Training-1"
   ]
  },
  {
   "cell_type": "code",
   "execution_count": 316,
   "metadata": {},
   "outputs": [
    {
     "name": "stderr",
     "output_type": "stream",
     "text": [
      "100%|██████████████████████████████████████████████████████████████████████████████████████████████████████████| 10000/10000 [02:31<00:00, 65.99it/s]"
     ]
    },
    {
     "name": "stdout",
     "output_type": "stream",
     "text": [
      "2m 32s (- 0m 0s) (10000 100%) 0.1222\n"
     ]
    },
    {
     "name": "stderr",
     "output_type": "stream",
     "text": [
      "\n"
     ]
    },
    {
     "data": {
      "text/plain": [
       "<Figure size 432x288 with 0 Axes>"
      ]
     },
     "metadata": {},
     "output_type": "display_data"
    },
    {
     "data": {
      "image/png": "[encoded data removed]",
      "text/plain": [
       "<Figure size 432x288 with 1 Axes>"
      ]
     },
     "metadata": {
      "needs_background": "light"
     },
     "output_type": "display_data"
    }
   ],
   "source": [
    "trainIters(encoder1, attn_decoder1, 10000, print_every=10000, plot_every=10, k=k)"
   ]
  },
  {
   "cell_type": "code",
   "execution_count": 317,
   "metadata": {},
   "outputs": [],
   "source": [
    "def evaluate(encoder, decoder, sentence, max_length=MAX_LENGTH):\n",
    "    with torch.no_grad():\n",
    "        input_tensor = tensorFromSentence(input_sub, sentence)\n",
    "        input_length = input_tensor.size()[0]\n",
    "        encoder_hidden = encoder.initHidden()\n",
    "\n",
    "        encoder_outputs = torch.zeros(max_length, encoder.hidden_size, device=device)\n",
    "\n",
    "        for ei in range(input_length):\n",
    "            encoder_output, encoder_hidden = encoder(input_tensor[ei],\n",
    "                                                     encoder_hidden)\n",
    "            encoder_outputs[ei] += encoder_output[0, 0]\n",
    "\n",
    "        decoder_input = torch.tensor([[SOS_token]], device=device)  # SOS\n",
    "\n",
    "        decoder_hidden = encoder_hidden\n",
    "\n",
    "        decoded_words = []\n",
    "        decoder_attentions = torch.zeros(max_length, max_length)\n",
    "\n",
    "        for di in range(max_length):\n",
    "            decoder_output, decoder_hidden, decoder_attention = decoder(\n",
    "                decoder_input, decoder_hidden, encoder_outputs)\n",
    "            decoder_attentions[di] = decoder_attention.data\n",
    "            topv, topi = decoder_output.data.topk(1)\n",
    "            if topi.item() == EOS_token:\n",
    "                decoded_words.append('<EOS>')\n",
    "                break\n",
    "            else:\n",
    "                decoded_words.append(input_sub.index2word[topi.item()])\n",
    "\n",
    "            decoder_input = topi.squeeze().detach()\n",
    "\n",
    "        return decoded_words, decoder_attentions[:di + 1]"
   ]
  },
  {
   "cell_type": "code",
   "execution_count": 318,
   "metadata": {},
   "outputs": [],
   "source": [
    "def evaluateRandomly(encoder, decoder, n=10):\n",
    "    for i in range(n):\n",
    "        inp = random.choice(input_subjects[:1000])\n",
    "        \n",
    "        pair = (inp, inp)\n",
    "        print('>', pair[0])\n",
    "        print('=', pair[1])\n",
    "        output_words, attentions = evaluate(encoder, decoder, pair[0])\n",
    "        output_sentence = ' '.join(output_words)\n",
    "        print('<', output_sentence)\n",
    "        print('')"
   ]
  },
  {
   "cell_type": "code",
   "execution_count": 319,
   "metadata": {
    "scrolled": true
   },
   "outputs": [
    {
     "name": "stdout",
     "output_type": "stream",
     "text": [
      ">  dealbuster alert ! . fleece . xmas pjs !\n",
      "=  dealbuster alert ! . fleece . xmas pjs !\n",
      "< <EOS>\n",
      "\n",
      "> your rapid rewards anniversary points are coming\n",
      "= your rapid rewards anniversary points are coming\n",
      "< <EOS>\n",
      "\n",
      "> bills vs tampa bay duelazo de la semana !\n",
      "= bills vs tampa bay duelazo de la semana !\n",
      "< outfits no postos less <EOS>\n",
      "\n",
      "> chicago firefighter dies days after being injured battling fire in belmont central neighborhood\n",
      "= chicago firefighter dies days after being injured battling fire in belmont central neighborhood\n",
      "< <EOS>\n",
      "\n",
      "> tune in tomorrow to hear from donation dollar s award winning creators\n",
      "= tune in tomorrow to hear from donation dollar s award winning creators\n",
      "< <EOS>\n",
      "\n",
      "> garnissez la votre fa on nouvelle recette de p te biscuit tout usage base de plantes !\n",
      "= garnissez la votre fa on nouvelle recette de p te biscuit tout usage base de plantes !\n",
      "< not your postos less <EOS>\n",
      "\n",
      "> memorial day savings starts now months special financing \n",
      "= memorial day savings starts now months special financing \n",
      "< make no postos olhos make <EOS>\n",
      "\n",
      "> dealer name campaign name campaign id patterson hyundai has submitted an e strike campaign successfully .\n",
      "= dealer name campaign name campaign id patterson hyundai has submitted an e strike campaign successfully .\n",
      "< to de to de <EOS>\n",
      "\n",
      "> get excited because eclub is back ! ?\n",
      "= get excited because eclub is back ! ?\n",
      "< <EOS>\n",
      "\n",
      "> have you seen these new arrivals ?\n",
      "= have you seen these new arrivals ?\n",
      "< olhos postos olhos <EOS>\n",
      "\n"
     ]
    }
   ],
   "source": [
    "evaluateRandomly(encoder1, attn_decoder1)"
   ]
  },
  {
   "cell_type": "code",
   "execution_count": 320,
   "metadata": {
    "scrolled": true
   },
   "outputs": [
    {
     "name": "stdout",
     "output_type": "stream",
     "text": [
      "> ebook new releases start a series for under \n",
      "= ebook new releases start a series for under \n",
      "< und not t <EOS>\n",
      "\n",
      "> save big to off almost everything they need for spring !\n",
      "= save big to off almost everything they need for spring !\n",
      "< not ends or less <EOS>\n",
      "\n",
      "> got used gear ? we want to buy it\n",
      "= got used gear ? we want to buy it\n",
      "< fall <EOS>\n",
      "\n",
      "> ppp forgiveness new sba guidance is available\n",
      "= ppp forgiveness new sba guidance is available\n",
      "< <EOS>\n",
      "\n",
      "> hotel temporarily closed due to government decision radisson blu hotel prague\n",
      "= hotel temporarily closed due to government decision radisson blu hotel prague\n",
      "< <EOS>\n",
      "\n",
      ">  listo para hacer nuevos amigos ! mes .\n",
      "=  listo para hacer nuevos amigos ! mes .\n",
      "< make olhos postos <EOS>\n",
      "\n",
      "> offer upgrade ! an extra off \n",
      "= offer upgrade ! an extra off \n",
      "< make jusqu coupon seu make <EOS>\n",
      "\n",
      "> interested in talking to your doctor about self administered ig for cidp ?\n",
      "= interested in talking to your doctor about self administered ig for cidp ?\n",
      "< <EOS>\n",
      "\n",
      "> deals on extra holidays craftsy vivid seats .\n",
      "= deals on extra holidays craftsy vivid seats .\n",
      "< make de olhos for <EOS>\n",
      "\n",
      "> test recovery module content newmem nofi d byrprotection\n",
      "= test recovery module content newmem nofi d byrprotection\n",
      "< outfits no postos olhos <EOS>\n",
      "\n"
     ]
    }
   ],
   "source": [
    "evaluateRandomly(encoder1, attn_decoder1)"
   ]
  },
  {
   "cell_type": "code",
   "execution_count": 338,
   "metadata": {
    "scrolled": false
   },
   "outputs": [
    {
     "data": {
      "text/plain": [
       "<matplotlib.image.AxesImage at 0x7fae8d1da400>"
      ]
     },
     "execution_count": 338,
     "metadata": {},
     "output_type": "execute_result"
    },
    {
     "data": {
      "image/png": "[encoded data removed]",
      "text/plain": [
       "<Figure size 1152x144 with 1 Axes>"
      ]
     },
     "metadata": {
      "needs_background": "light"
     },
     "output_type": "display_data"
    }
   ],
   "source": [
    "output_words, attentions = evaluate(\n",
    "    encoder1, attn_decoder1, data[10])\n",
    "plt.matshow(attentions.numpy())"
   ]
  },
  {
   "cell_type": "code",
   "execution_count": 340,
   "metadata": {},
   "outputs": [],
   "source": [
    "def showAttention(input_sentence, output_words, attentions):\n",
    "    # Set up figure with colorbar\n",
    "    fig = plt.figure()\n",
    "    ax = fig.add_subplot(111)\n",
    "    cax = ax.matshow(attentions.numpy(), cmap='bone')\n",
    "    fig.colorbar(cax)\n",
    "\n",
    "    # Set up axes\n",
    "    ax.set_xticklabels([''] + input_sentence.split(' ') +\n",
    "                       ['<EOS>'], rotation=90)\n",
    "    ax.set_yticklabels([''] + output_words)\n",
    "\n",
    "    # Show label at every tick\n",
    "    ax.xaxis.set_major_locator(ticker.MultipleLocator(1))\n",
    "    ax.yaxis.set_major_locator(ticker.MultipleLocator(1))\n",
    "\n",
    "    plt.show()\n",
    "\n",
    "\n",
    "def evaluateAndShowAttention(input_sentence):\n",
    "    output_words, attentions = evaluate(\n",
    "        encoder1, attn_decoder1, input_sentence)\n",
    "    print('input =', input_sentence)\n",
    "    print('output =', ' '.join(output_words))\n",
    "    showAttention(input_sentence, output_words, attentions)"
   ]
  },
  {
   "cell_type": "code",
   "execution_count": 342,
   "metadata": {
    "scrolled": false
   },
   "outputs": [
    {
     "name": "stdout",
     "output_type": "stream",
     "text": [
      "input = summary report new coupon template \n",
      "output = olhos postos go make <EOS>\n",
      "input =  d j son e anniversaire ! un cadeau pour vous !\n",
      "output = outfits no coupon <EOS>\n",
      "input = just for you get off at l .l .bean . limited time offer !\n",
      "output = outfits no postos less <EOS>\n",
      "input = brauchen sie geld f r ihre unternehmensfinanzierung ?\n",
      "output = <EOS>\n"
     ]
    },
    {
     "name": "stderr",
     "output_type": "stream",
     "text": [
      "/tmp/ipykernel_31400/3159908345.py:9: UserWarning: FixedFormatter should only be used together with FixedLocator\n",
      "  ax.set_xticklabels([''] + input_sentence.split(' ') +\n",
      "/tmp/ipykernel_31400/3159908345.py:11: UserWarning: FixedFormatter should only be used together with FixedLocator\n",
      "  ax.set_yticklabels([''] + output_words)\n"
     ]
    },
    {
     "data": {
      "image/png": "[encoded data removed]",
      "text/plain": [
       "<Figure size 432x288 with 2 Axes>"
      ]
     },
     "metadata": {
      "needs_background": "light"
     },
     "output_type": "display_data"
    },
    {
     "data": {
      "image/png": "[encoded data removed]",
      "text/plain": [
       "<Figure size 432x288 with 2 Axes>"
      ]
     },
     "metadata": {
      "needs_background": "light"
     },
     "output_type": "display_data"
    },
    {
     "data": {
      "image/png": "[encoded data removed]",
      "text/plain": [
       "<Figure size 432x288 with 2 Axes>"
      ]
     },
     "metadata": {
      "needs_background": "light"
     },
     "output_type": "display_data"
    },
    {
     "data": {
      "image/png": "[encoded data removed]",
      "text/plain": [
       "<Figure size 432x288 with 2 Axes>"
      ]
     },
     "metadata": {
      "needs_background": "light"
     },
     "output_type": "display_data"
    }
   ],
   "source": [
    "evaluateAndShowAttention(data[10])\n",
    "evaluateAndShowAttention(data[11])\n",
    "evaluateAndShowAttention(data[34])\n",
    "evaluateAndShowAttention(data[53])"
   ]
  },
  {
   "cell_type": "markdown",
   "metadata": {},
   "source": [
    "### Decoder Training"
   ]
  },
  {
   "cell_type": "code",
   "execution_count": 324,
   "metadata": {},
   "outputs": [],
   "source": [
    "# Original\n",
    "\n",
    "teacher_forcing_ratio = 0.5\n",
    "\n",
    "def trainDecoder(input_tensor, target_tensor, encoder, decoder, decoder_optimizer, criterion, max_length=MAX_LENGTH):\n",
    "    encoder_hidden = encoder.initHidden()\n",
    "    decoder_optimizer.zero_grad()\n",
    "\n",
    "    input_length = input_tensor.size(0)\n",
    "    target_length = target_tensor.size(0)\n",
    "\n",
    "    encoder_outputs = torch.zeros(max_length, encoder.hidden_size, device=device)\n",
    "\n",
    "    loss = 0\n",
    "\n",
    "    for ei in range(input_length):\n",
    "        encoder_output, encoder_hidden = encoder(\n",
    "            input_tensor[ei], encoder_hidden)\n",
    "        encoder_outputs[ei] = encoder_output[0, 0]\n",
    "\n",
    "    decoder_input = torch.tensor([[SOS_token]], device=device)\n",
    "\n",
    "    decoder_hidden = encoder_hidden\n",
    "\n",
    "    use_teacher_forcing = True if random.random() < teacher_forcing_ratio else False\n",
    "\n",
    "    if use_teacher_forcing:\n",
    "        # Teacher forcing: Feed the target as the next input\n",
    "        for di in range(target_length):\n",
    "            decoder_output, decoder_hidden, decoder_attention = decoder(\n",
    "                decoder_input, decoder_hidden, encoder_outputs)\n",
    "            loss += criterion(decoder_output, target_tensor[di])\n",
    "            decoder_input = target_tensor[di]  # Teacher forcing\n",
    "\n",
    "    else:\n",
    "        # Without teacher forcing: use its own predictions as the next input\n",
    "        for di in range(target_length):\n",
    "            decoder_output, decoder_hidden, decoder_attention = decoder(\n",
    "                decoder_input, decoder_hidden, encoder_outputs)\n",
    "            topv, topi = decoder_output.topk(1)\n",
    "            decoder_input = topi.squeeze().detach()  # detach from history as input\n",
    "\n",
    "            loss += criterion(decoder_output, target_tensor[di])\n",
    "            if decoder_input.item() == EOS_token:\n",
    "                break\n",
    "\n",
    "    loss.backward()\n",
    "\n",
    "    decoder_optimizer.step()\n",
    "\n",
    "    return loss.item() / target_length"
   ]
  },
  {
   "cell_type": "code",
   "execution_count": 325,
   "metadata": {},
   "outputs": [],
   "source": [
    "## Original\n",
    "def trainItersDecoder(encoder, decoder, n_iters, print_every=1000, plot_every=100, learning_rate=0.01, k=0):\n",
    "    start = time.time()\n",
    "    plot_losses = []\n",
    "    print_loss_total = 0  # Reset every print_every\n",
    "    plot_loss_total = 0  # Reset every plot_every\n",
    "\n",
    "    decoder_optimizer = optim.SGD(decoder.parameters(), lr=learning_rate)\n",
    "    training_pairs = []\n",
    "    for i in range(n_iters):\n",
    "        inp = random.choice(input_subjects[:1000])\n",
    "        while len(inp)>20:\n",
    "            inp = random.choice(input_subjects[:1000])\n",
    "        training_pairs.append(tensorsFromSubsTar1(inp, k))\n",
    "    criterion = nn.NLLLoss()\n",
    "\n",
    "    for iter in tqdm(range(1, n_iters + 1)):\n",
    "        training_pair = training_pairs[iter - 1]\n",
    "        input_tensor = training_pair[0]\n",
    "        target_tensor = training_pair[1]\n",
    "\n",
    "        loss = trainDecoder(input_tensor, target_tensor, encoder,\n",
    "                     decoder, decoder_optimizer, criterion)\n",
    "        print_loss_total += loss\n",
    "        plot_loss_total += loss\n",
    "\n",
    "        if iter % print_every == 0:\n",
    "            print_loss_avg = print_loss_total / print_every\n",
    "            print_loss_total = 0\n",
    "            print('%s (%d %d%%) %.4f' % (timeSince(start, iter / n_iters),\n",
    "                                         iter, iter / n_iters * 100, print_loss_avg))\n",
    "\n",
    "        if iter % plot_every == 0:\n",
    "            plot_loss_avg = plot_loss_total / plot_every\n",
    "            plot_losses.append(plot_loss_avg)\n",
    "            plot_loss_total = 0\n",
    "\n",
    "    showPlot(plot_losses)"
   ]
  },
  {
   "cell_type": "code",
   "execution_count": 326,
   "metadata": {},
   "outputs": [],
   "source": [
    "hidden_size = 256\n",
    "k=1\n",
    "attn_decoder_all = [ AttnDecoderRNN(hidden_size, output_sub[i].n_words, dropout_p=0.1).to(device) \n",
    "                for i in range(5) ]\n",
    "# decoder1 = DecoderRNN(hidden_size, input_sub.n_words).to(device)"
   ]
  },
  {
   "cell_type": "code",
   "execution_count": 327,
   "metadata": {},
   "outputs": [
    {
     "name": "stderr",
     "output_type": "stream",
     "text": [
      "100%|████████████████████████████████████████████████████████████████████████████████████████████████████████████| 1000/1000 [00:22<00:00, 44.99it/s]\n"
     ]
    },
    {
     "name": "stdout",
     "output_type": "stream",
     "text": [
      "0m 22s (- 0m 0s) (1000 100%) 1.4146\n"
     ]
    },
    {
     "name": "stderr",
     "output_type": "stream",
     "text": [
      "100%|████████████████████████████████████████████████████████████████████████████████████████████████████████████| 1000/1000 [00:16<00:00, 59.60it/s]\n"
     ]
    },
    {
     "name": "stdout",
     "output_type": "stream",
     "text": [
      "0m 16s (- 0m 0s) (1000 100%) 1.2238\n"
     ]
    },
    {
     "name": "stderr",
     "output_type": "stream",
     "text": [
      "100%|████████████████████████████████████████████████████████████████████████████████████████████████████████████| 1000/1000 [00:21<00:00, 46.24it/s]\n"
     ]
    },
    {
     "name": "stdout",
     "output_type": "stream",
     "text": [
      "0m 21s (- 0m 0s) (1000 100%) 1.4145\n"
     ]
    },
    {
     "name": "stderr",
     "output_type": "stream",
     "text": [
      "100%|████████████████████████████████████████████████████████████████████████████████████████████████████████████| 1000/1000 [00:23<00:00, 42.26it/s]\n"
     ]
    },
    {
     "name": "stdout",
     "output_type": "stream",
     "text": [
      "0m 23s (- 0m 0s) (1000 100%) 1.4995\n"
     ]
    },
    {
     "name": "stderr",
     "output_type": "stream",
     "text": [
      "100%|████████████████████████████████████████████████████████████████████████████████████████████████████████████| 1000/1000 [00:20<00:00, 48.46it/s]"
     ]
    },
    {
     "name": "stdout",
     "output_type": "stream",
     "text": [
      "0m 20s (- 0m 0s) (1000 100%) 1.5027\n"
     ]
    },
    {
     "name": "stderr",
     "output_type": "stream",
     "text": [
      "\n"
     ]
    },
    {
     "data": {
      "text/plain": [
       "<Figure size 432x288 with 0 Axes>"
      ]
     },
     "metadata": {},
     "output_type": "display_data"
    },
    {
     "data": {
      "image/png": "[encoded data removed]",
      "text/plain": [
       "<Figure size 432x288 with 1 Axes>"
      ]
     },
     "metadata": {
      "needs_background": "light"
     },
     "output_type": "display_data"
    },
    {
     "data": {
      "text/plain": [
       "<Figure size 432x288 with 0 Axes>"
      ]
     },
     "metadata": {},
     "output_type": "display_data"
    },
    {
     "data": {
      "image/png": "[encoded data removed]",
      "text/plain": [
       "<Figure size 432x288 with 1 Axes>"
      ]
     },
     "metadata": {
      "needs_background": "light"
     },
     "output_type": "display_data"
    },
    {
     "data": {
      "text/plain": [
       "<Figure size 432x288 with 0 Axes>"
      ]
     },
     "metadata": {},
     "output_type": "display_data"
    },
    {
     "data": {
      "image/png": "[encoded data removed]",
      "text/plain": [
       "<Figure size 432x288 with 1 Axes>"
      ]
     },
     "metadata": {
      "needs_background": "light"
     },
     "output_type": "display_data"
    },
    {
     "data": {
      "text/plain": [
       "<Figure size 432x288 with 0 Axes>"
      ]
     },
     "metadata": {},
     "output_type": "display_data"
    },
    {
     "data": {
      "image/png": "[encoded data removed]",
      "text/plain": [
       "<Figure size 432x288 with 1 Axes>"
      ]
     },
     "metadata": {
      "needs_background": "light"
     },
     "output_type": "display_data"
    },
    {
     "data": {
      "text/plain": [
       "<Figure size 432x288 with 0 Axes>"
      ]
     },
     "metadata": {},
     "output_type": "display_data"
    },
    {
     "data": {
      "image/png": "[encoded data removed]",
      "text/plain": [
       "<Figure size 432x288 with 1 Axes>"
      ]
     },
     "metadata": {
      "needs_background": "light"
     },
     "output_type": "display_data"
    }
   ],
   "source": [
    "for i in range(5):\n",
    "    trainItersDecoder(encoder1, attn_decoder_all[i], 1000, print_every=1000, plot_every=10, k=i)"
   ]
  },
  {
   "cell_type": "code",
   "execution_count": 328,
   "metadata": {},
   "outputs": [],
   "source": [
    "def evaluateDecoder(encoder, decoder, sentence, max_length=MAX_LENGTH):\n",
    "    with torch.no_grad():\n",
    "        input_tensor = tensorFromSentence(input_sub, sentence)\n",
    "        input_length = input_tensor.size()[0]\n",
    "        encoder_hidden = encoder.initHidden()\n",
    "\n",
    "        encoder_outputs = torch.zeros(max_length, encoder.hidden_size, device=device)\n",
    "\n",
    "        for ei in range(input_length):\n",
    "            encoder_output, encoder_hidden = encoder(input_tensor[ei],\n",
    "                                                     encoder_hidden)\n",
    "            encoder_outputs[ei] += encoder_output[0, 0]\n",
    "\n",
    "        decoder_input = torch.tensor([[SOS_token]], device=device)  # SOS\n",
    "\n",
    "        decoder_hidden = encoder_hidden\n",
    "\n",
    "        decoded_words = []\n",
    "        decoder_attentions = torch.zeros(max_length, max_length)\n",
    "\n",
    "        for di in range(max_length):\n",
    "            decoder_output, decoder_hidden, decoder_attention = decoder(\n",
    "                decoder_input, decoder_hidden, encoder_outputs)\n",
    "            decoder_attentions[di] = decoder_attention.data\n",
    "            topv, topi = decoder_output.data.topk(1)\n",
    "            if topi.item() == EOS_token:\n",
    "                decoded_words.append('<EOS>')\n",
    "                break\n",
    "            else:\n",
    "                decoded_words.append(input_sub.index2word[topi.item()])\n",
    "\n",
    "            decoder_input = topi.squeeze().detach()\n",
    "\n",
    "        return decoded_words, decoder_attentions[:di + 1]"
   ]
  },
  {
   "cell_type": "code",
   "execution_count": 329,
   "metadata": {},
   "outputs": [],
   "source": [
    "def evaluateRandomlyDecoder(encoder, decoder, k=0):\n",
    "    for i in range(n):\n",
    "        inp = random.choice(input_subjects[:1000])\n",
    "        ind = input_subjects.index(inp)\n",
    "        out = output_subjects[ind][k]\n",
    "        pair = (inp, out)\n",
    "        print('>', pair[0])\n",
    "        print('=', pair[1])\n",
    "        output_words, attentions = evaluateDecoder(encoder, decoder, pair[0])\n",
    "        output_sentence = ' '.join(output_words)\n",
    "        print('<', output_sentence)\n",
    "        print('')"
   ]
  },
  {
   "cell_type": "code",
   "execution_count": null,
   "metadata": {},
   "outputs": [],
   "source": []
  },
  {
   "cell_type": "code",
   "execution_count": 330,
   "metadata": {
    "scrolled": true
   },
   "outputs": [
    {
     "name": "stdout",
     "output_type": "stream",
     "text": [
      "\n",
      "\n",
      "Part  0 \n",
      "\n",
      "> get points with a new mortgage\n",
      "= get points with a new mortgage\n",
      "< couldn t see see see see enfamil anticip <EOS>\n",
      "\n",
      "> activated . under\n",
      "= activated . under\n",
      "< <EOS>\n",
      "\n",
      "> we want to know your thoughts\n",
      "= we want to know your thoughts\n",
      "< city olhos olhos <EOS>\n",
      "\n",
      "> vous pourriez gagner de cashback sur votre prochain achat ligible \n",
      "= vous pourriez gagner de cashback sur votre prochain achat ligible \n",
      "< couldn t see see see see enfamil anticip <EOS>\n",
      "\n",
      "> gl ckwunsch zu ihren !\n",
      "= gl ckwunsch zu ihren !\n",
      "< couldn t see see see see enfamil anticip <EOS>\n",
      "\n",
      ">  argent place h tez vous . . .ouvrez d pensez et conomisez !\n",
      "=  argent place h tez vous . . .ouvrez d pensez et conomisez !\n",
      "< couldn t see see see see enfamil anticip <EOS>\n",
      "\n",
      "> your credit limit has increased see how much !\n",
      "= your credit limit has increased see how much !\n",
      "< couldn t see see see see enfamil anticip <EOS>\n",
      "\n",
      "> hurry ! off your next purchase\n",
      "= hurry ! off your next purchase\n",
      "< have late postos <EOS>\n",
      "\n",
      "> introducing panthers perks partner promotions portal get involved now !\n",
      "= introducing panthers perks partner promotions portal get involved now !\n",
      "< couldn t see see see see enfamil anticip <EOS>\n",
      "\n",
      "> would you like a gift from us ?\n",
      "= would you like a gift from us ?\n",
      "< couldn t see see see see enfamil anticip <EOS>\n",
      "\n",
      "\n",
      "\n",
      "Part  1 \n",
      "\n",
      "> offer upgrade ! an extra off \n",
      "= offer upgrade ! an extra off \n",
      "< pounds all see <EOS>\n",
      "\n",
      "> jcpenney home flash sale extra off cash back\n",
      "= jcpenney home flash sale extra off cash back\n",
      "< pounds all see <EOS>\n",
      "\n",
      "> marketinglistcampaign \n",
      "= marketinglistcampaign \n",
      "< pounds all see <EOS>\n",
      "\n",
      "> f vrier h tel pr sident wilson\n",
      "= f vrier h tel pr sident wilson\n",
      "< pounds all see <EOS>\n",
      "\n",
      "> thank you farmers !\n",
      "= thank you farmers !\n",
      "< olhos seu dinheiro olhos <EOS>\n",
      "\n",
      "> pushing through your endometriosis pain ?\n",
      "= pushing through your endometriosis pain ?\n",
      "< pounds all see <EOS>\n",
      "\n",
      "> ser du etter muligheter til ekspandere ?\n",
      "= ser du etter muligheter til ekspandere ?\n",
      "< pounds all see <EOS>\n",
      "\n",
      "> vivre confin les m thodes intrusives de singapour\n",
      "= vivre confin les m thodes intrusives de singapour\n",
      "< pounds all see <EOS>\n",
      "\n",
      ">  fname ?capitalize it s time to start packing\n",
      "=  fname ?capitalize it s time to start packing\n",
      "< pounds all see <EOS>\n",
      "\n",
      "> early access to spring\n",
      "= early access to spring\n",
      "< rs postos dinheiro postos dinheiro ita <EOS>\n",
      "\n",
      "\n",
      "\n",
      "Part  2 \n",
      "\n",
      ">  is in your account firstname ! \n",
      "=  is in your account firstname ! \n",
      "< audio encounter notification benefits see basquiat <EOS>\n",
      "\n",
      ">  mid day delight reward\n",
      "=  mid day delight reward\n",
      "< audio encounter notification benefits see basquiat <EOS>\n",
      "\n",
      "> members get early access to black friday savings .\n",
      "= members get early access to black friday savings .\n",
      "< off don don <EOS>\n",
      "\n",
      "> special message about your rewards account\n",
      "= special message about your rewards account\n",
      "< audio encounter notification benefits see basquiat <EOS>\n",
      "\n",
      "> do you know if your symptoms are due to msa or noh ?\n",
      "= do you know if your symptoms are due to msa or noh ?\n",
      "< audio encounter notification benefits see basquiat <EOS>\n",
      "\n",
      "> fda s form findings warning letters consent decree compliance issues houston tx\n",
      "= fda s form findings warning letters consent decree compliance issues houston tx\n",
      "< <EOS>\n",
      "\n",
      "> ready to roll shop alabama crimson tide gear \n",
      "= ready to roll shop alabama crimson tide gear \n",
      "< audio encounter notification benefits see basquiat <EOS>\n",
      "\n",
      "> our email address is changing\n",
      "= our email address is changing\n",
      "< sale trading seu <EOS>\n",
      "\n",
      "> up to off new phones at ebay !\n",
      "= up to off new phones at ebay !\n",
      "< basquiat <EOS>\n",
      "\n",
      "> watch today s game live with a free trial of nfl game pass !\n",
      "= watch today s game live with a free trial of nfl game pass !\n",
      "< the the the the the the the the the the the the the the the the the the the the\n",
      "\n",
      "\n",
      "\n",
      "Part  3 \n",
      "\n",
      "> helping optum bank customers get answers faster\n",
      "= helping optum bank customers get answers faster\n",
      "< see city city details <EOS>\n",
      "\n",
      "> hello this is a test mail ! !\n",
      "= hello this is a test mail ! !\n",
      "< see all all all conviction tips see cashback <EOS>\n",
      "\n",
      ">  it was flying real low pilot dies as small plane crashes into condo tower on fort lauderdale beach\n",
      "=  it was flying real low pilot dies as small plane crashes into condo tower on fort lauderdale beach\n",
      "< see all all all conviction tips see cashback <EOS>\n",
      "\n",
      "> celebrate your hispanic heritage with these movies on demand .\n",
      "= celebrate your hispanic heritage with these movies on demand .\n",
      "< ex seu bews seu <EOS>\n",
      "\n",
      "> illinois politicians react to blagojevich s sentence commutation\n",
      "= illinois politicians react to blagojevich s sentence commutation\n",
      "< see all all all conviction tips see cashback <EOS>\n",
      "\n",
      "> get excited because eclub is back ! ?\n",
      "= get excited because eclub is back ! ?\n",
      "< see all all all conviction tips see cashback <EOS>\n",
      "\n",
      "> enfamil enfacare prepare for what s ahead\n",
      "= enfamil enfacare prepare for what s ahead\n",
      "< see all all <EOS>\n",
      "\n",
      "> we re waiving your remaining lease payments\n",
      "= we re waiving your remaining lease payments\n",
      "< see all all all conviction tips see cashback <EOS>\n",
      "\n",
      "> kick start summer with these memorial day offers\n",
      "= kick start summer with these memorial day offers\n",
      "< see all all all conviction tips see cashback <EOS>\n",
      "\n",
      "> important information for people with skin cancer\n",
      "= important information for people with skin cancer\n",
      "< christmas tips see city city details details <EOS>\n",
      "\n",
      "\n",
      "\n",
      "Part  4 \n",
      "\n",
      "> it s time to set the hook !\n",
      "= it s time to set the hook !\n",
      "< see see see see see soon <EOS>\n",
      "\n",
      "> don t miss the first day of our cyber sale\n",
      "= don t miss the first day of our cyber sale\n",
      "< see see see see see soon <EOS>\n",
      "\n",
      "> um evento assim s acontece uma vez por ano .\n",
      "= um evento assim s acontece uma vez por ano .\n",
      "< you l l soon <EOS>\n",
      "\n",
      "> weihnachten die sch nste zeit des jahres . feiern sie mit uns !\n",
      "= weihnachten die sch nste zeit des jahres . feiern sie mit uns !\n",
      "< best you no no seu <EOS>\n",
      "\n",
      "> pasos fundamentales para empezar a utilizar paypal\n",
      "= pasos fundamentales para empezar a utilizar paypal\n",
      "< see see see see see soon <EOS>\n",
      "\n",
      "> hometown motors b is here to serve you !\n",
      "= hometown motors b is here to serve you !\n",
      "< no this no no don subjectline no <EOS>\n",
      "\n",
      "> get the look you ll see on game day\n",
      "= get the look you ll see on game day\n",
      "< see see see see see soon <EOS>\n",
      "\n",
      "> tips to help your gassy . month old .\n",
      "= tips to help your gassy . month old .\n",
      "< see see see see soon <EOS>\n",
      "\n",
      "> xfl gear is here !\n",
      "= xfl gear is here !\n",
      "< see see see see see soon <EOS>\n",
      "\n",
      "> your triple off is here .\n",
      "= your triple off is here .\n",
      "< is else subjectline conviction arrived is <EOS>\n",
      "\n"
     ]
    }
   ],
   "source": [
    "for i in range(5):\n",
    "    print('\\n\\nPart ', i, '\\n')\n",
    "    evaluateRandomly(encoder1, attn_decoder_all[i])"
   ]
  },
  {
   "cell_type": "code",
   "execution_count": 331,
   "metadata": {
    "scrolled": true
   },
   "outputs": [
    {
     "name": "stdout",
     "output_type": "stream",
     "text": [
      "\n",
      "\n",
      "Part  0 \n",
      "\n",
      "> hi firstname ?capitalize . here s more information\n",
      "= hi firstname ?capitalize . here s more information\n",
      "< couldn t see see see see enfamil anticip <EOS>\n",
      "\n",
      "> stick to budget with ease huge holiday deals .\n",
      "= stick to budget with ease huge holiday deals .\n",
      "< <EOS>\n",
      "\n",
      "> javier b ez turns sure out into run inning for chicago cubs\n",
      "= javier b ez turns sure out into run inning for chicago cubs\n",
      "< couldn t see see see see enfamil anticip <EOS>\n",
      "\n",
      "> buy get off all learn to swim items\n",
      "= buy get off all learn to swim items\n",
      "< couldn t see see see see enfamil anticip <EOS>\n",
      "\n",
      "> the latest buick suv has arrived\n",
      "= the latest buick suv has arrived\n",
      "< details olhos olhos <EOS>\n",
      "\n",
      "> as a private client we may be able to lower your mortgage rate\n",
      "= as a private client we may be able to lower your mortgage rate\n",
      "< couldn t see see see see enfamil anticip <EOS>\n",
      "\n",
      "> obtenez de rabais sur votre achat chez banana republic plus de remise en argent\n",
      "= obtenez de rabais sur votre achat chez banana republic plus de remise en argent\n",
      "< jetzt olhos olhos <EOS>\n",
      "\n",
      "> get off initiation at hour fitness .\n",
      "= get off initiation at hour fitness .\n",
      "< <EOS>\n",
      "\n",
      "> check out your april business report .\n",
      "= check out your april business report .\n",
      "< dinheiro dinheiro or best arrived <EOS>\n",
      "\n",
      "> baby s firsts simplified baby waves bye bye !\n",
      "= baby s firsts simplified baby waves bye bye !\n",
      "< couldn t see see see see enfamil anticip <EOS>\n",
      "\n",
      "\n",
      "\n",
      "Part  1 \n",
      "\n",
      "> more privileges . more benefits worth up to rm . just for you !\n",
      "= more privileges . more benefits worth up to rm . just for you !\n",
      "< olhos <EOS>\n",
      "\n",
      "> stir a cure help fight childhood cancer\n",
      "= stir a cure help fight childhood cancer\n",
      "< <EOS>\n",
      "\n",
      "> genera confianza con tus clientes que compran en l nea\n",
      "= genera confianza con tus clientes que compran en l nea\n",
      "< pounds all see <EOS>\n",
      "\n",
      ">  edit message subject here \n",
      "=  edit message subject here \n",
      "< pounds all see <EOS>\n",
      "\n",
      "> the city of savings is waiting for you . . .\n",
      "= the city of savings is waiting for you . . .\n",
      "< <EOS>\n",
      "\n",
      "> celebrate a magical moment with a star map from the night sky\n",
      "= celebrate a magical moment with a star map from the night sky\n",
      "< pounds all see <EOS>\n",
      "\n",
      "> don t wait check out your next offer !\n",
      "= don t wait check out your next offer !\n",
      "< pounds all see <EOS>\n",
      "\n",
      "> with deep sadness\n",
      "= with deep sadness\n",
      "< pounds all see <EOS>\n",
      "\n",
      "> enjoy the great outdoors this autumn winter\n",
      "= enjoy the great outdoors this autumn winter\n",
      "< <EOS>\n",
      "\n",
      ">  degree views days of bookings\n",
      "=  degree views days of bookings\n",
      "< pounds all see <EOS>\n",
      "\n",
      "\n",
      "\n",
      "Part  2 \n",
      "\n",
      "> thanks for snacking with us in !\n",
      "= thanks for snacking with us in !\n",
      "< olhos olhos olhos olhos don <EOS>\n",
      "\n",
      "> don t miss the first day of our cyber sale\n",
      "= don t miss the first day of our cyber sale\n",
      "< the the the the the the the the the the the the the the the the the the the the\n",
      "\n",
      "> your card reader is here\n",
      "= your card reader is here\n",
      "< audio encounter notification benefits see basquiat <EOS>\n",
      "\n",
      ">  pints for easter\n",
      "=  pints for easter\n",
      "< jones you city . bags of don <EOS>\n",
      "\n",
      "> culver city toyota home to the best deals on wheels\n",
      "= culver city toyota home to the best deals on wheels\n",
      "< olhos olhos olhos olhos olhos olhos <EOS>\n",
      "\n",
      "> skincare for a cause the sun safety kit is back\n",
      "= skincare for a cause the sun safety kit is back\n",
      "< audio encounter notification benefits see basquiat <EOS>\n",
      "\n",
      "> panasonic off modern collection massage chair cash back\n",
      "= panasonic off modern collection massage chair cash back\n",
      "< audio encounter notification benefits see basquiat <EOS>\n",
      "\n",
      "> dealer name campaign name campaign id meriden hyundai has submitted an e strike campaign successfully .\n",
      "= dealer name campaign name campaign id meriden hyundai has submitted an e strike campaign successfully .\n",
      "< basquiat don <EOS>\n",
      "\n",
      "> welcome to the savings card program\n",
      "= welcome to the savings card program\n",
      "< audio encounter notification benefits see basquiat <EOS>\n",
      "\n",
      "> new running gear collection\n",
      "= new running gear collection\n",
      "< olhos olhos olhos olhos olhos <EOS>\n",
      "\n",
      "\n",
      "\n",
      "Part  3 \n",
      "\n",
      "> il hebrew news\n",
      "= il hebrew news\n",
      "< see all all all conviction tips see cashback <EOS>\n",
      "\n",
      ">  firstname \n",
      "=  firstname \n",
      "< see all all all conviction tips see cashback <EOS>\n",
      "\n",
      "> master validation planning to meet u .s . fda cgmp iso and ich q iso requirements\n",
      "= master validation planning to meet u .s . fda cgmp iso and ich q iso requirements\n",
      "< see all all all conviction tips see cashback <EOS>\n",
      "\n",
      "> feedback id test deploymentid \n",
      "= feedback id test deploymentid \n",
      "< see all all all conviction tips see cashback <EOS>\n",
      "\n",
      "> ppp forgiveness new sba guidance is available\n",
      "= ppp forgiveness new sba guidance is available\n",
      "< see all all all conviction tips see cashback <EOS>\n",
      "\n",
      "> today only off online orders !\n",
      "= today only off online orders !\n",
      "< cashback savings tips confirmation postos cashback <EOS>\n",
      "\n",
      "> don t miss these memorial day savings\n",
      "= don t miss these memorial day savings\n",
      "< see all all all conviction tips see cashback <EOS>\n",
      "\n",
      "> we ve just launched free monthly digital firc ! get yours now !\n",
      "= we ve just launched free monthly digital firc ! get yours now !\n",
      "< see all all all conviction tips see cashback <EOS>\n",
      "\n",
      "> care for some coconut ? \n",
      "= care for some coconut ? \n",
      "< see all all all conviction tips see cashback <EOS>\n",
      "\n",
      "> take advantage of our exceptional server storage offers now !\n",
      "= take advantage of our exceptional server storage offers now !\n",
      "< see all all all conviction tips see cashback <EOS>\n",
      "\n",
      "\n",
      "\n",
      "Part  4 \n",
      "\n",
      "> celebrate a magical moment with a star map from the night sky\n",
      "= celebrate a magical moment with a star map from the night sky\n",
      "< see see see see see soon <EOS>\n",
      "\n",
      "> hoe betaal jij jouw vrienden het liefst met paypal ?\n",
      "= hoe betaal jij jouw vrienden het liefst met paypal ?\n",
      "< see see see see see soon <EOS>\n",
      "\n",
      ">  for you an extra off computers dell accessories and monitors . \n",
      "=  for you an extra off computers dell accessories and monitors . \n",
      "< see see see see see soon <EOS>\n",
      "\n",
      ">  welcome to the enfamama a club .\n",
      "=  welcome to the enfamama a club .\n",
      "< you l l soon <EOS>\n",
      "\n",
      "> welcome to a world of rewards !\n",
      "= welcome to a world of rewards !\n",
      "< see see see see see soon <EOS>\n",
      "\n",
      "> ski worry free this season approval \n",
      "= ski worry free this season approval \n",
      "< see see see see see soon <EOS>\n",
      "\n",
      "> kies de manier waarop u betalingen wilt accepteren\n",
      "= kies de manier waarop u betalingen wilt accepteren\n",
      "< see see see see see soon <EOS>\n",
      "\n",
      "> renewal prize announced . . .\n",
      "= renewal prize announced . . .\n",
      "< is else subjectline conviction arrived is <EOS>\n",
      "\n",
      ">  paypal \n",
      "=  paypal \n",
      "< see see see see see soon <EOS>\n",
      "\n",
      "> back to school perks inside\n",
      "= back to school perks inside\n",
      "< no olhos olhos no don subjectline olhos <EOS>\n",
      "\n"
     ]
    }
   ],
   "source": [
    "for i in range(5):\n",
    "    print('\\n\\nPart ', i, '\\n')\n",
    "    evaluateRandomly(encoder1, attn_decoder_all[i])"
   ]
  },
  {
   "cell_type": "code",
   "execution_count": 332,
   "metadata": {},
   "outputs": [
    {
     "data": {
      "text/plain": [
       "<matplotlib.image.AxesImage at 0x7fae8c116a30>"
      ]
     },
     "execution_count": 332,
     "metadata": {},
     "output_type": "execute_result"
    },
    {
     "data": {
      "image/png": "[encoded data removed]",
      "text/plain": [
       "<Figure size 1152x288 with 1 Axes>"
      ]
     },
     "metadata": {
      "needs_background": "light"
     },
     "output_type": "display_data"
    }
   ],
   "source": [
    "output_words, attentions = evaluate(\n",
    "    encoder1, attn_decoder1, data[10])\n",
    "plt.matshow(attentions.numpy())"
   ]
  },
  {
   "cell_type": "code",
   "execution_count": 333,
   "metadata": {},
   "outputs": [],
   "source": [
    "def showAttention(input_sentence, output_words, attentions):\n",
    "    # Set up figure with colorbar\n",
    "    fig = plt.figure()\n",
    "    ax = fig.add_subplot(111)\n",
    "    cax = ax.matshow(attentions.numpy(), cmap='bone')\n",
    "    fig.colorbar(cax)\n",
    "\n",
    "    # Set up axes\n",
    "    ax.set_xticklabels([''] + input_sentence.split(' ') +\n",
    "                       ['<EOS>'], rotation=90)\n",
    "    ax.set_yticklabels([''] + output_words)\n",
    "\n",
    "    # Show label at every tick\n",
    "    ax.xaxis.set_major_locator(ticker.MultipleLocator(1))\n",
    "    ax.yaxis.set_major_locator(ticker.MultipleLocator(1))\n",
    "\n",
    "    plt.show()\n",
    "\n",
    "\n",
    "def evaluateAndShowAttention(input_sentence):\n",
    "    output_words, attentions = evaluate(\n",
    "        encoder1, attn_decoder1, input_sentence)\n",
    "    print('input =', input_sentence)\n",
    "    print('output =', ' '.join(output_words))\n",
    "    showAttention(input_sentence, output_words, attentions)"
   ]
  },
  {
   "cell_type": "code",
   "execution_count": 334,
   "metadata": {},
   "outputs": [
    {
     "name": "stdout",
     "output_type": "stream",
     "text": [
      "input = summary report new coupon template \n",
      "output = olhos postos de olhos <EOS>\n",
      "input = test jm military dtv \n",
      "output = go <EOS>\n",
      "input = celebrate a magical moment with a star map from the night sky\n",
      "output = <EOS>\n",
      "input = willkommen zur ck mit exklusiven angeboten f r\n",
      "output = <EOS>\n"
     ]
    },
    {
     "name": "stderr",
     "output_type": "stream",
     "text": [
      "/tmp/ipykernel_31400/3159908345.py:9: UserWarning: FixedFormatter should only be used together with FixedLocator\n",
      "  ax.set_xticklabels([''] + input_sentence.split(' ') +\n",
      "/tmp/ipykernel_31400/3159908345.py:11: UserWarning: FixedFormatter should only be used together with FixedLocator\n",
      "  ax.set_yticklabels([''] + output_words)\n"
     ]
    },
    {
     "data": {
      "image/png": "[encoded data removed]",
      "text/plain": [
       "<Figure size 432x288 with 2 Axes>"
      ]
     },
     "metadata": {
      "needs_background": "light"
     },
     "output_type": "display_data"
    },
    {
     "data": {
      "image/png": "[encoded data removed]",
      "text/plain": [
       "<Figure size 432x288 with 2 Axes>"
      ]
     },
     "metadata": {
      "needs_background": "light"
     },
     "output_type": "display_data"
    },
    {
     "data": {
      "image/png": "[encoded data removed]",
      "text/plain": [
       "<Figure size 432x288 with 2 Axes>"
      ]
     },
     "metadata": {
      "needs_background": "light"
     },
     "output_type": "display_data"
    },
    {
     "data": {
      "image/png": "[encoded data removed]",
      "text/plain": [
       "<Figure size 432x288 with 2 Axes>"
      ]
     },
     "metadata": {
      "needs_background": "light"
     },
     "output_type": "display_data"
    }
   ],
   "source": [
    "evaluateAndShowAttention(data[10])\n",
    "evaluateAndShowAttention(data[244])\n",
    "evaluateAndShowAttention(data[345])\n",
    "evaluateAndShowAttention(data[543])"
   ]
  },
  {
   "cell_type": "markdown",
   "metadata": {},
   "source": [
    "## Save Models"
   ]
  },
  {
   "cell_type": "code",
   "execution_count": 288,
   "metadata": {},
   "outputs": [],
   "source": [
    "import pickle"
   ]
  },
  {
   "cell_type": "code",
   "execution_count": 294,
   "metadata": {},
   "outputs": [],
   "source": [
    "f = open('encoder','wb')\n",
    "pickle.dump(encoder1,f)\n",
    "f.close()\n",
    "f = open('decoder','wb')\n",
    "pickle.dump(attn_decoder, f)\n",
    "f.close()"
   ]
  },
  {
   "cell_type": "code",
   "execution_count": 298,
   "metadata": {},
   "outputs": [],
   "source": [
    "f = open('encoder','rb')\n",
    "e = pickle.load(f)\n",
    "f.close()"
   ]
  },
  {
   "cell_type": "code",
   "execution_count": 299,
   "metadata": {
    "scrolled": true
   },
   "outputs": [
    {
     "data": {
      "text/plain": [
       "[AttnDecoderRNN(\n",
       "   (embedding): Embedding(2370, 256)\n",
       "   (attn): Linear(in_features=512, out_features=20, bias=True)\n",
       "   (attn_combine): Linear(in_features=512, out_features=256, bias=True)\n",
       "   (dropout): Dropout(p=0.1, inplace=False)\n",
       "   (gru): GRU(256, 256)\n",
       "   (out): Linear(in_features=256, out_features=2370, bias=True)\n",
       " ),\n",
       " AttnDecoderRNN(\n",
       "   (embedding): Embedding(2194, 256)\n",
       "   (attn): Linear(in_features=512, out_features=20, bias=True)\n",
       "   (attn_combine): Linear(in_features=512, out_features=256, bias=True)\n",
       "   (dropout): Dropout(p=0.1, inplace=False)\n",
       "   (gru): GRU(256, 256)\n",
       "   (out): Linear(in_features=256, out_features=2194, bias=True)\n",
       " ),\n",
       " AttnDecoderRNN(\n",
       "   (embedding): Embedding(2135, 256)\n",
       "   (attn): Linear(in_features=512, out_features=20, bias=True)\n",
       "   (attn_combine): Linear(in_features=512, out_features=256, bias=True)\n",
       "   (dropout): Dropout(p=0.1, inplace=False)\n",
       "   (gru): GRU(256, 256)\n",
       "   (out): Linear(in_features=256, out_features=2135, bias=True)\n",
       " ),\n",
       " AttnDecoderRNN(\n",
       "   (embedding): Embedding(2137, 256)\n",
       "   (attn): Linear(in_features=512, out_features=20, bias=True)\n",
       "   (attn_combine): Linear(in_features=512, out_features=256, bias=True)\n",
       "   (dropout): Dropout(p=0.1, inplace=False)\n",
       "   (gru): GRU(256, 256)\n",
       "   (out): Linear(in_features=256, out_features=2137, bias=True)\n",
       " ),\n",
       " AttnDecoderRNN(\n",
       "   (embedding): Embedding(2095, 256)\n",
       "   (attn): Linear(in_features=512, out_features=20, bias=True)\n",
       "   (attn_combine): Linear(in_features=512, out_features=256, bias=True)\n",
       "   (dropout): Dropout(p=0.1, inplace=False)\n",
       "   (gru): GRU(256, 256)\n",
       "   (out): Linear(in_features=256, out_features=2095, bias=True)\n",
       " )]"
      ]
     },
     "execution_count": 299,
     "metadata": {},
     "output_type": "execute_result"
    }
   ],
   "source": [
    "d"
   ]
  },
  {
   "cell_type": "code",
   "execution_count": 297,
   "metadata": {},
   "outputs": [],
   "source": [
    "f = open('decoder','rb')\n",
    "d = pickle.load(f)\n",
    "f.close()"
   ]
  },
  {
   "cell_type": "code",
   "execution_count": null,
   "metadata": {},
   "outputs": [],
   "source": []
  },
  {
   "cell_type": "code",
   "execution_count": 5,
   "metadata": {
    "scrolled": true
   },
   "outputs": [
    {
     "name": "stdout",
     "output_type": "stream",
     "text": [
      "--2022-02-03 21:45:22--  http://nlp.stanford.edu/data/glove.6B.zip\n",
      "Resolving nlp.stanford.edu (nlp.stanford.edu)... 171.64.67.140\n",
      "Connecting to nlp.stanford.edu (nlp.stanford.edu)|171.64.67.140|:80... connected.\n",
      "HTTP request sent, awaiting response... 302 Found\n",
      "Location: https://nlp.stanford.edu/data/glove.6B.zip [following]\n",
      "--2022-02-03 21:45:23--  https://nlp.stanford.edu/data/glove.6B.zip\n",
      "Connecting to nlp.stanford.edu (nlp.stanford.edu)|171.64.67.140|:443... connected.\n",
      "HTTP request sent, awaiting response... 301 Moved Permanently\n",
      "Location: http://downloads.cs.stanford.edu/nlp/data/glove.6B.zip [following]\n",
      "--2022-02-03 21:45:23--  http://downloads.cs.stanford.edu/nlp/data/glove.6B.zip\n",
      "Resolving downloads.cs.stanford.edu (downloads.cs.stanford.edu)... 171.64.64.22\n",
      "Connecting to downloads.cs.stanford.edu (downloads.cs.stanford.edu)|171.64.64.22|:80... connected.\n",
      "HTTP request sent, awaiting response... 200 OK\n",
      "Length: 862182613 (822M) [application/zip]\n",
      "Saving to: ‘glove.6B.zip’\n",
      "\n",
      "100%[======================================>] 862,182,613 5.06MB/s   in 2m 41s \n",
      "\n",
      "2022-02-03 21:48:04 (5.12 MB/s) - ‘glove.6B.zip’ saved [862182613/862182613]\n",
      "\n"
     ]
    }
   ],
   "source": [
    "# !wget http://nlp.stanford.edu/data/glove.6B.zip"
   ]
  },
  {
   "cell_type": "code",
   "execution_count": 6,
   "metadata": {
    "scrolled": true
   },
   "outputs": [
    {
     "name": "stdout",
     "output_type": "stream",
     "text": [
      "Archive:  glove.6B.zip\n",
      "  inflating: glove.6B.50d.txt        \n",
      "  inflating: glove.6B.100d.txt       \n",
      "  inflating: glove.6B.200d.txt       \n",
      "  inflating: glove.6B.300d.txt       \n"
     ]
    }
   ],
   "source": [
    "# !unzip glove.6B.zip"
   ]
  },
  {
   "cell_type": "code",
   "execution_count": 5,
   "metadata": {
    "scrolled": true
   },
   "outputs": [
    {
     "name": "stdout",
     "output_type": "stream",
     "text": [
      "--2022-02-03 21:45:22--  http://nlp.stanford.edu/data/glove.6B.zip\n",
      "Resolving nlp.stanford.edu (nlp.stanford.edu)... 171.64.67.140\n",
      "Connecting to nlp.stanford.edu (nlp.stanford.edu)|171.64.67.140|:80... connected.\n",
      "HTTP request sent, awaiting response... 302 Found\n",
      "Location: https://nlp.stanford.edu/data/glove.6B.zip [following]\n",
      "--2022-02-03 21:45:23--  https://nlp.stanford.edu/data/glove.6B.zip\n",
      "Connecting to nlp.stanford.edu (nlp.stanford.edu)|171.64.67.140|:443... connected.\n",
      "HTTP request sent, awaiting response... 301 Moved Permanently\n",
      "Location: http://downloads.cs.stanford.edu/nlp/data/glove.6B.zip [following]\n",
      "--2022-02-03 21:45:23--  http://downloads.cs.stanford.edu/nlp/data/glove.6B.zip\n",
      "Resolving downloads.cs.stanford.edu (downloads.cs.stanford.edu)... 171.64.64.22\n",
      "Connecting to downloads.cs.stanford.edu (downloads.cs.stanford.edu)|171.64.64.22|:80... connected.\n",
      "HTTP request sent, awaiting response... 200 OK\n",
      "Length: 862182613 (822M) [application/zip]\n",
      "Saving to: ‘glove.6B.zip’\n",
      "\n",
      "100%[======================================>] 862,182,613 5.06MB/s   in 2m 41s \n",
      "\n",
      "2022-02-03 21:48:04 (5.12 MB/s) - ‘glove.6B.zip’ saved [862182613/862182613]\n",
      "\n"
     ]
    }
   ],
   "source": [
    "# !wget http://nlp.stanford.edu/data/glove.6B.zip"
   ]
  },
  {
   "cell_type": "code",
   "execution_count": 6,
   "metadata": {},
   "outputs": [
    {
     "name": "stdout",
     "output_type": "stream",
     "text": [
      "Archive:  glove.6B.zip\n",
      "  inflating: glove.6B.50d.txt        \n",
      "  inflating: glove.6B.100d.txt       \n",
      "  inflating: glove.6B.200d.txt       \n",
      "  inflating: glove.6B.300d.txt       \n"
     ]
    }
   ],
   "source": [
    "# !unzip glove.6B.zip"
   ]
  }
 ],
 "metadata": {
  "kernelspec": {
   "display_name": "Python 3 (ipykernel)",
   "language": "python",
   "name": "python3"
  },
  "language_info": {
   "codemirror_mode": {
    "name": "ipython",
    "version": 3
   },
   "file_extension": ".py",
   "mimetype": "text/x-python",
   "name": "python",
   "nbconvert_exporter": "python",
   "pygments_lexer": "ipython3",
   "version": "3.8.5"
  }
 },
 "nbformat": 4,
 "nbformat_minor": 4
}
