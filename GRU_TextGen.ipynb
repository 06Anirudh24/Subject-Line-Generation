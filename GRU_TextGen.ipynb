{
  "nbformat": 4,
  "nbformat_minor": 0,
  "metadata": {
    "colab": {
      "name": "GRU_TextGen.ipynb",
      "provenance": [],
      "collapsed_sections": []
    },
    "kernelspec": {
      "name": "python3",
      "display_name": "Python 3"
    },
    "language_info": {
      "name": "python"
    }
  },
  "cells": [
    {
      "cell_type": "code",
      "execution_count": 1,
      "metadata": {
        "id": "kOLTTV97Zwas"
      },
      "outputs": [],
      "source": [
        "from keras.preprocessing.sequence import pad_sequences\n",
        "from keras.layers import Embedding, LSTM, Dense, Dropout, GRU\n",
        "from keras.preprocessing.text import Tokenizer\n",
        "from keras.callbacks import EarlyStopping\n",
        "from keras.models import Sequential\n",
        "import keras.utils as ku \n",
        "from keras.utils import np_utils\n",
        "\n",
        "import pandas as pd\n",
        "import numpy as np\n",
        "import string, os \n",
        "\n",
        "import warnings\n",
        "warnings.filterwarnings(\"ignore\")\n",
        "warnings.simplefilter(action='ignore', category=FutureWarning)"
      ]
    },
    {
      "cell_type": "code",
      "source": [
        "from google.colab import drive\n",
        "drive.mount('/content/drive')"
      ],
      "metadata": {
        "colab": {
          "base_uri": "https://localhost:8080/"
        },
        "id": "vo10uDn5aAB9",
        "outputId": "09eb8541-871a-4239-ed28-feb47acfe1fe"
      },
      "execution_count": 2,
      "outputs": [
        {
          "output_type": "stream",
          "name": "stdout",
          "text": [
            "Drive already mounted at /content/drive; to attempt to forcibly remount, call drive.mount(\"/content/drive\", force_remount=True).\n"
          ]
        }
      ]
    },
    {
      "cell_type": "code",
      "source": [
        "#path = \"/content/drive/MyDrive/subject_lines_final.csv\"\n",
        "path = \"/content/drive/MyDrive/tweet_dataset.csv\"\n",
        "df = pd.read_csv(path)\n",
        "df"
      ],
      "metadata": {
        "colab": {
          "base_uri": "https://localhost:8080/",
          "height": 658
        },
        "id": "EDkSiuSOaKBS",
        "outputId": "50200dd8-7af5-4249-c529-6851e6b63e82"
      },
      "execution_count": 3,
      "outputs": [
        {
          "output_type": "execute_result",
          "data": {
            "text/html": [
              "\n",
              "  <div id=\"df-7ce2dafb-b487-4a53-9c5c-37734d5d9bce\">\n",
              "    <div class=\"colab-df-container\">\n",
              "      <div>\n",
              "<style scoped>\n",
              "    .dataframe tbody tr th:only-of-type {\n",
              "        vertical-align: middle;\n",
              "    }\n",
              "\n",
              "    .dataframe tbody tr th {\n",
              "        vertical-align: top;\n",
              "    }\n",
              "\n",
              "    .dataframe thead th {\n",
              "        text-align: right;\n",
              "    }\n",
              "</style>\n",
              "<table border=\"1\" class=\"dataframe\">\n",
              "  <thead>\n",
              "    <tr style=\"text-align: right;\">\n",
              "      <th></th>\n",
              "      <th>textID</th>\n",
              "      <th>sentiment</th>\n",
              "      <th>author</th>\n",
              "      <th>text</th>\n",
              "      <th>old_text</th>\n",
              "      <th>aux_id</th>\n",
              "      <th>new_sentiment</th>\n",
              "      <th>selected_text</th>\n",
              "    </tr>\n",
              "  </thead>\n",
              "  <tbody>\n",
              "    <tr>\n",
              "      <th>0</th>\n",
              "      <td>1956967341</td>\n",
              "      <td>empty</td>\n",
              "      <td>xoshayzers</td>\n",
              "      <td>i know  i was listenin to bad habit earlier a...</td>\n",
              "      <td>@tiffanylue i know  i was listenin to bad habi...</td>\n",
              "      <td>p1000000000</td>\n",
              "      <td>NaN</td>\n",
              "      <td>NaN</td>\n",
              "    </tr>\n",
              "    <tr>\n",
              "      <th>1</th>\n",
              "      <td>1956967666</td>\n",
              "      <td>sadness</td>\n",
              "      <td>wannamama</td>\n",
              "      <td>Layin n bed with a headache  ughhhh...waitin o...</td>\n",
              "      <td>Layin n bed with a headache  ughhhh...waitin o...</td>\n",
              "      <td>c811396dc2</td>\n",
              "      <td>negative</td>\n",
              "      <td>headache</td>\n",
              "    </tr>\n",
              "    <tr>\n",
              "      <th>2</th>\n",
              "      <td>1956967696</td>\n",
              "      <td>sadness</td>\n",
              "      <td>coolfunky</td>\n",
              "      <td>Funeral ceremony...gloomy friday...</td>\n",
              "      <td>Funeral ceremony...gloomy friday...</td>\n",
              "      <td>9063631ab1</td>\n",
              "      <td>negative</td>\n",
              "      <td>gloomy</td>\n",
              "    </tr>\n",
              "    <tr>\n",
              "      <th>3</th>\n",
              "      <td>1956967789</td>\n",
              "      <td>enthusiasm</td>\n",
              "      <td>czareaquino</td>\n",
              "      <td>wants to hang out with friends SOON!</td>\n",
              "      <td>wants to hang out with friends SOON!</td>\n",
              "      <td>2a815f151d</td>\n",
              "      <td>positive</td>\n",
              "      <td>wants to hang out with friends SOON!</td>\n",
              "    </tr>\n",
              "    <tr>\n",
              "      <th>4</th>\n",
              "      <td>1956968416</td>\n",
              "      <td>neutral</td>\n",
              "      <td>xkilljoyx</td>\n",
              "      <td>We want to trade with someone who has Houston...</td>\n",
              "      <td>@dannycastillo We want to trade with someone w...</td>\n",
              "      <td>82565a56d3</td>\n",
              "      <td>neutral</td>\n",
              "      <td>We want to trade with someone who has Houston ...</td>\n",
              "    </tr>\n",
              "    <tr>\n",
              "      <th>...</th>\n",
              "      <td>...</td>\n",
              "      <td>...</td>\n",
              "      <td>...</td>\n",
              "      <td>...</td>\n",
              "      <td>...</td>\n",
              "      <td>...</td>\n",
              "      <td>...</td>\n",
              "      <td>...</td>\n",
              "    </tr>\n",
              "    <tr>\n",
              "      <th>39995</th>\n",
              "      <td>1753918954</td>\n",
              "      <td>neutral</td>\n",
              "      <td>showMe_Heaven</td>\n",
              "      <td>NaN</td>\n",
              "      <td>@JohnLloydTaylor</td>\n",
              "      <td>p1000008985</td>\n",
              "      <td>neutral</td>\n",
              "      <td>NaN</td>\n",
              "    </tr>\n",
              "    <tr>\n",
              "      <th>39996</th>\n",
              "      <td>1753919001</td>\n",
              "      <td>love</td>\n",
              "      <td>drapeaux</td>\n",
              "      <td>Happy Mothers Day  All my love</td>\n",
              "      <td>Happy Mothers Day  All my love</td>\n",
              "      <td>0b62ea4f2d</td>\n",
              "      <td>positive</td>\n",
              "      <td>Happy</td>\n",
              "    </tr>\n",
              "    <tr>\n",
              "      <th>39997</th>\n",
              "      <td>1753919005</td>\n",
              "      <td>love</td>\n",
              "      <td>JenniRox</td>\n",
              "      <td>Happy Mother`s Day to all the mommies out ther...</td>\n",
              "      <td>Happy Mother's Day to all the mommies out ther...</td>\n",
              "      <td>1adaa3519d</td>\n",
              "      <td>positive</td>\n",
              "      <td>Happy Mother`s Day</td>\n",
              "    </tr>\n",
              "    <tr>\n",
              "      <th>39998</th>\n",
              "      <td>1753919043</td>\n",
              "      <td>happiness</td>\n",
              "      <td>ipdaman1</td>\n",
              "      <td>WASSUP BEAUTIFUL!!! FOLLOW ME!!  PEEP OUT MY ...</td>\n",
              "      <td>@niariley WASSUP BEAUTIFUL!!! FOLLOW ME!!  PEE...</td>\n",
              "      <td>d63253be9a</td>\n",
              "      <td>neutral</td>\n",
              "      <td>WASSUP BEAUTIFUL!!! FOLLOW ME!!  PEEP OUT MY N...</td>\n",
              "    </tr>\n",
              "    <tr>\n",
              "      <th>39999</th>\n",
              "      <td>1753919049</td>\n",
              "      <td>love</td>\n",
              "      <td>Alpharalpha</td>\n",
              "      <td>bullet train from tokyo    the gf and i have ...</td>\n",
              "      <td>@mopedronin bullet train from tokyo    the gf ...</td>\n",
              "      <td>879f64f30d</td>\n",
              "      <td>neutral</td>\n",
              "      <td>bullet train from tokyo    the gf and i have b...</td>\n",
              "    </tr>\n",
              "  </tbody>\n",
              "</table>\n",
              "<p>40000 rows × 8 columns</p>\n",
              "</div>\n",
              "      <button class=\"colab-df-convert\" onclick=\"convertToInteractive('df-7ce2dafb-b487-4a53-9c5c-37734d5d9bce')\"\n",
              "              title=\"Convert this dataframe to an interactive table.\"\n",
              "              style=\"display:none;\">\n",
              "        \n",
              "  <svg xmlns=\"http://www.w3.org/2000/svg\" height=\"24px\"viewBox=\"0 0 24 24\"\n",
              "       width=\"24px\">\n",
              "    <path d=\"M0 0h24v24H0V0z\" fill=\"none\"/>\n",
              "    <path d=\"M18.56 5.44l.94 2.06.94-2.06 2.06-.94-2.06-.94-.94-2.06-.94 2.06-2.06.94zm-11 1L8.5 8.5l.94-2.06 2.06-.94-2.06-.94L8.5 2.5l-.94 2.06-2.06.94zm10 10l.94 2.06.94-2.06 2.06-.94-2.06-.94-.94-2.06-.94 2.06-2.06.94z\"/><path d=\"M17.41 7.96l-1.37-1.37c-.4-.4-.92-.59-1.43-.59-.52 0-1.04.2-1.43.59L10.3 9.45l-7.72 7.72c-.78.78-.78 2.05 0 2.83L4 21.41c.39.39.9.59 1.41.59.51 0 1.02-.2 1.41-.59l7.78-7.78 2.81-2.81c.8-.78.8-2.07 0-2.86zM5.41 20L4 18.59l7.72-7.72 1.47 1.35L5.41 20z\"/>\n",
              "  </svg>\n",
              "      </button>\n",
              "      \n",
              "  <style>\n",
              "    .colab-df-container {\n",
              "      display:flex;\n",
              "      flex-wrap:wrap;\n",
              "      gap: 12px;\n",
              "    }\n",
              "\n",
              "    .colab-df-convert {\n",
              "      background-color: #E8F0FE;\n",
              "      border: none;\n",
              "      border-radius: 50%;\n",
              "      cursor: pointer;\n",
              "      display: none;\n",
              "      fill: #1967D2;\n",
              "      height: 32px;\n",
              "      padding: 0 0 0 0;\n",
              "      width: 32px;\n",
              "    }\n",
              "\n",
              "    .colab-df-convert:hover {\n",
              "      background-color: #E2EBFA;\n",
              "      box-shadow: 0px 1px 2px rgba(60, 64, 67, 0.3), 0px 1px 3px 1px rgba(60, 64, 67, 0.15);\n",
              "      fill: #174EA6;\n",
              "    }\n",
              "\n",
              "    [theme=dark] .colab-df-convert {\n",
              "      background-color: #3B4455;\n",
              "      fill: #D2E3FC;\n",
              "    }\n",
              "\n",
              "    [theme=dark] .colab-df-convert:hover {\n",
              "      background-color: #434B5C;\n",
              "      box-shadow: 0px 1px 3px 1px rgba(0, 0, 0, 0.15);\n",
              "      filter: drop-shadow(0px 1px 2px rgba(0, 0, 0, 0.3));\n",
              "      fill: #FFFFFF;\n",
              "    }\n",
              "  </style>\n",
              "\n",
              "      <script>\n",
              "        const buttonEl =\n",
              "          document.querySelector('#df-7ce2dafb-b487-4a53-9c5c-37734d5d9bce button.colab-df-convert');\n",
              "        buttonEl.style.display =\n",
              "          google.colab.kernel.accessAllowed ? 'block' : 'none';\n",
              "\n",
              "        async function convertToInteractive(key) {\n",
              "          const element = document.querySelector('#df-7ce2dafb-b487-4a53-9c5c-37734d5d9bce');\n",
              "          const dataTable =\n",
              "            await google.colab.kernel.invokeFunction('convertToInteractive',\n",
              "                                                     [key], {});\n",
              "          if (!dataTable) return;\n",
              "\n",
              "          const docLinkHtml = 'Like what you see? Visit the ' +\n",
              "            '<a target=\"_blank\" href=https://colab.research.google.com/notebooks/data_table.ipynb>data table notebook</a>'\n",
              "            + ' to learn more about interactive tables.';\n",
              "          element.innerHTML = '';\n",
              "          dataTable['output_type'] = 'display_data';\n",
              "          await google.colab.output.renderOutput(dataTable, element);\n",
              "          const docLink = document.createElement('div');\n",
              "          docLink.innerHTML = docLinkHtml;\n",
              "          element.appendChild(docLink);\n",
              "        }\n",
              "      </script>\n",
              "    </div>\n",
              "  </div>\n",
              "  "
            ],
            "text/plain": [
              "           textID  ...                                      selected_text\n",
              "0      1956967341  ...                                                NaN\n",
              "1      1956967666  ...                                           headache\n",
              "2      1956967696  ...                                             gloomy\n",
              "3      1956967789  ...               wants to hang out with friends SOON!\n",
              "4      1956968416  ...  We want to trade with someone who has Houston ...\n",
              "...           ...  ...                                                ...\n",
              "39995  1753918954  ...                                                NaN\n",
              "39996  1753919001  ...                                              Happy\n",
              "39997  1753919005  ...                                 Happy Mother`s Day\n",
              "39998  1753919043  ...  WASSUP BEAUTIFUL!!! FOLLOW ME!!  PEEP OUT MY N...\n",
              "39999  1753919049  ...  bullet train from tokyo    the gf and i have b...\n",
              "\n",
              "[40000 rows x 8 columns]"
            ]
          },
          "metadata": {},
          "execution_count": 3
        }
      ]
    },
    {
      "cell_type": "code",
      "source": [
        "df_sub = df[\"text\"] #Remove source, serial number columns\n",
        "#df_sub = df[\"subjects\"]\n",
        "df_sub = df_sub.dropna()\n",
        "df_sub = df_sub.iloc[:15000]\n",
        "df_sub"
      ],
      "metadata": {
        "colab": {
          "base_uri": "https://localhost:8080/"
        },
        "id": "k3Hyeqd3aTUU",
        "outputId": "dd16e19b-82fd-49d1-f46c-0775bbff61d7"
      },
      "execution_count": 4,
      "outputs": [
        {
          "output_type": "execute_result",
          "data": {
            "text/plain": [
              "0         i know  i was listenin to bad habit earlier a...\n",
              "1        Layin n bed with a headache  ughhhh...waitin o...\n",
              "2                      Funeral ceremony...gloomy friday...\n",
              "3                     wants to hang out with friends SOON!\n",
              "4         We want to trade with someone who has Houston...\n",
              "                               ...                        \n",
              "15020         haha wtf is that! You don`t want me to leave\n",
              "15021    Computer pissing me off. 4 gig ram 2.5ghz Dual...\n",
              "15022    IN PAIN. my big toe got stamped on during the ...\n",
              "15023    Latest: Saw Animal Collective in Oakland and t...\n",
              "15024    I h8 this weather!! It`s the be gloomy & rainy...\n",
              "Name: text, Length: 15000, dtype: object"
            ]
          },
          "metadata": {},
          "execution_count": 4
        }
      ]
    },
    {
      "cell_type": "code",
      "source": [
        "len(df_sub)"
      ],
      "metadata": {
        "colab": {
          "base_uri": "https://localhost:8080/"
        },
        "id": "X7ac1bmsaVGV",
        "outputId": "f9243921-6f10-4ebd-9236-de30e595b271"
      },
      "execution_count": 5,
      "outputs": [
        {
          "output_type": "execute_result",
          "data": {
            "text/plain": [
              "15000"
            ]
          },
          "metadata": {},
          "execution_count": 5
        }
      ]
    },
    {
      "cell_type": "code",
      "source": [
        "def clean_text(txt):\n",
        "  txt = \"\".join(v for v in txt if v not in string.punctuation).lower()\n",
        "  txt = txt.encode(\"utf8\").decode(\"ascii\",'ignore')\n",
        "  return txt "
      ],
      "metadata": {
        "id": "ke2y_Li7ace1"
      },
      "execution_count": 6,
      "outputs": []
    },
    {
      "cell_type": "code",
      "source": [
        "corpus = [clean_text(x) for x in df_sub]\n",
        "corpus[:10] "
      ],
      "metadata": {
        "colab": {
          "base_uri": "https://localhost:8080/"
        },
        "id": "4PXNrUD8ad8f",
        "outputId": "57b5f6f6-9436-479d-9db7-952f09dfd776"
      },
      "execution_count": 7,
      "outputs": [
        {
          "output_type": "execute_result",
          "data": {
            "text/plain": [
              "[' i know  i was listenin to bad habit earlier and i started freakin at his part ',\n",
              " 'layin n bed with a headache  ughhhhwaitin on your call',\n",
              " 'funeral ceremonygloomy friday',\n",
              " 'wants to hang out with friends soon',\n",
              " ' we want to trade with someone who has houston tickets but no one will',\n",
              " 'repinging  why didnt you go to prom bc my bf didnt like my friends',\n",
              " 'i should be sleep but im not thinking about an old friend who i want but hes married now   he wants me 2 scandalous',\n",
              " 'hmmm httpwwwdjherocom is down',\n",
              " ' charlene my love i miss you',\n",
              " ' im sorry  at least its friday']"
            ]
          },
          "metadata": {},
          "execution_count": 7
        }
      ]
    },
    {
      "cell_type": "code",
      "source": [
        "type(corpus)"
      ],
      "metadata": {
        "colab": {
          "base_uri": "https://localhost:8080/"
        },
        "id": "bWRXgwsBfsST",
        "outputId": "8638c274-325c-4a30-8624-d4539c8f5271"
      },
      "execution_count": 8,
      "outputs": [
        {
          "output_type": "execute_result",
          "data": {
            "text/plain": [
              "list"
            ]
          },
          "metadata": {},
          "execution_count": 8
        }
      ]
    },
    {
      "cell_type": "markdown",
      "source": [
        "#Generate Seq of n-grams"
      ],
      "metadata": {
        "id": "OY5x0lZ7azMm"
      }
    },
    {
      "cell_type": "code",
      "source": [
        "vocab = []\n",
        "for line in corpus:\n",
        "    words = line.split()\n",
        "    for word in words:\n",
        "        vocab.append(word)\n",
        "\n",
        "vocabraly = set(vocab)"
      ],
      "metadata": {
        "id": "H5iGb9fEalKA"
      },
      "execution_count": 9,
      "outputs": []
    },
    {
      "cell_type": "code",
      "source": [
        "len(vocabraly)"
      ],
      "metadata": {
        "colab": {
          "base_uri": "https://localhost:8080/"
        },
        "id": "PZax4QH-a3gC",
        "outputId": "1bf7ad42-d165-4d7b-96da-0c4d663585cd"
      },
      "execution_count": 10,
      "outputs": [
        {
          "output_type": "execute_result",
          "data": {
            "text/plain": [
              "19034"
            ]
          },
          "metadata": {},
          "execution_count": 10
        }
      ]
    },
    {
      "cell_type": "code",
      "source": [
        "tokenizer = Tokenizer(2000)\n",
        "tokenizer.fit_on_texts(corpus)\n",
        "word2index = tokenizer.word_index\n",
        "len(word2index)"
      ],
      "metadata": {
        "colab": {
          "base_uri": "https://localhost:8080/"
        },
        "id": "bFhLXqOJa4-N",
        "outputId": "bff43cf8-482b-4c6a-aa9e-59c7edeac1a1"
      },
      "execution_count": 11,
      "outputs": [
        {
          "output_type": "execute_result",
          "data": {
            "text/plain": [
              "19034"
            ]
          },
          "metadata": {},
          "execution_count": 11
        }
      ]
    },
    {
      "cell_type": "code",
      "source": [
        "word2index"
      ],
      "metadata": {
        "colab": {
          "base_uri": "https://localhost:8080/"
        },
        "id": "X304wFNZbBxC",
        "outputId": "e40f5a75-0297-45e6-8bc1-1bec4494d799"
      },
      "execution_count": 12,
      "outputs": [
        {
          "output_type": "execute_result",
          "data": {
            "text/plain": [
              "{'i': 1,\n",
              " 'to': 2,\n",
              " 'the': 3,\n",
              " 'my': 4,\n",
              " 'a': 5,\n",
              " 'and': 6,\n",
              " 'is': 7,\n",
              " 'it': 8,\n",
              " 'in': 9,\n",
              " 'im': 10,\n",
              " 'for': 11,\n",
              " 'you': 12,\n",
              " 'me': 13,\n",
              " 'of': 14,\n",
              " 'so': 15,\n",
              " 'but': 16,\n",
              " 'have': 17,\n",
              " 'on': 18,\n",
              " 'that': 19,\n",
              " 'not': 20,\n",
              " 'its': 21,\n",
              " 'just': 22,\n",
              " 'be': 23,\n",
              " 'at': 24,\n",
              " 'was': 25,\n",
              " 'no': 26,\n",
              " 'this': 27,\n",
              " 'get': 28,\n",
              " 'with': 29,\n",
              " 'work': 30,\n",
              " 'now': 31,\n",
              " 'up': 32,\n",
              " 'dont': 33,\n",
              " 'out': 34,\n",
              " 'go': 35,\n",
              " 'cant': 36,\n",
              " 'like': 37,\n",
              " 'all': 38,\n",
              " 'got': 39,\n",
              " 'today': 40,\n",
              " 'day': 41,\n",
              " 'too': 42,\n",
              " 'do': 43,\n",
              " 'are': 44,\n",
              " 'going': 45,\n",
              " 'really': 46,\n",
              " 'one': 47,\n",
              " 'good': 48,\n",
              " 'miss': 49,\n",
              " 'back': 50,\n",
              " 'know': 51,\n",
              " 'want': 52,\n",
              " 'from': 53,\n",
              " 'what': 54,\n",
              " 'time': 55,\n",
              " 'am': 56,\n",
              " 'sad': 57,\n",
              " 'still': 58,\n",
              " 'will': 59,\n",
              " 'about': 60,\n",
              " 'had': 61,\n",
              " 'think': 62,\n",
              " 'when': 63,\n",
              " 'your': 64,\n",
              " 'last': 65,\n",
              " '2': 66,\n",
              " 'they': 67,\n",
              " 'oh': 68,\n",
              " 'we': 69,\n",
              " 'home': 70,\n",
              " 'there': 71,\n",
              " 'u': 72,\n",
              " 'feel': 73,\n",
              " 'sorry': 74,\n",
              " 'need': 75,\n",
              " 'wish': 76,\n",
              " 'bad': 77,\n",
              " 'has': 78,\n",
              " 'here': 79,\n",
              " 'see': 80,\n",
              " 'why': 81,\n",
              " 'how': 82,\n",
              " 'didnt': 83,\n",
              " 'been': 84,\n",
              " 'lol': 85,\n",
              " 'much': 86,\n",
              " 'if': 87,\n",
              " 'can': 88,\n",
              " 'as': 89,\n",
              " 'well': 90,\n",
              " 'an': 91,\n",
              " 'off': 92,\n",
              " 'only': 93,\n",
              " 'more': 94,\n",
              " 'some': 95,\n",
              " 'her': 96,\n",
              " 'again': 97,\n",
              " 'new': 98,\n",
              " 'he': 99,\n",
              " 'love': 100,\n",
              " 'hate': 101,\n",
              " 'night': 102,\n",
              " 'tonight': 103,\n",
              " 'or': 104,\n",
              " 'ill': 105,\n",
              " 'could': 106,\n",
              " 'over': 107,\n",
              " 'though': 108,\n",
              " 'she': 109,\n",
              " 'thats': 110,\n",
              " 'would': 111,\n",
              " 'gonna': 112,\n",
              " 'right': 113,\n",
              " 'tomorrow': 114,\n",
              " 'getting': 115,\n",
              " 'ive': 116,\n",
              " 'weekend': 117,\n",
              " 'sleep': 118,\n",
              " 'then': 119,\n",
              " 'wont': 120,\n",
              " 'sick': 121,\n",
              " 'hope': 122,\n",
              " 'were': 123,\n",
              " 'by': 124,\n",
              " 'them': 125,\n",
              " 'week': 126,\n",
              " 'working': 127,\n",
              " 'come': 128,\n",
              " 'even': 129,\n",
              " 'make': 130,\n",
              " 'did': 131,\n",
              " '3': 132,\n",
              " 'never': 133,\n",
              " 'very': 134,\n",
              " 'being': 135,\n",
              " 'way': 136,\n",
              " 'days': 137,\n",
              " 'down': 138,\n",
              " 'people': 139,\n",
              " 'sucks': 140,\n",
              " 'twitter': 141,\n",
              " 'should': 142,\n",
              " 'better': 143,\n",
              " 'next': 144,\n",
              " 'school': 145,\n",
              " 'wanna': 146,\n",
              " 'doesnt': 147,\n",
              " 'him': 148,\n",
              " 'feeling': 149,\n",
              " 'because': 150,\n",
              " 'fun': 151,\n",
              " 'yeah': 152,\n",
              " 'morning': 153,\n",
              " 'phone': 154,\n",
              " 'his': 155,\n",
              " 'tired': 156,\n",
              " 'haha': 157,\n",
              " 'long': 158,\n",
              " 'any': 159,\n",
              " 'find': 160,\n",
              " 'friday': 161,\n",
              " 'having': 162,\n",
              " 'left': 163,\n",
              " 'yet': 164,\n",
              " 'away': 165,\n",
              " 'after': 166,\n",
              " 'take': 167,\n",
              " 'already': 168,\n",
              " 'ugh': 169,\n",
              " 'wait': 170,\n",
              " 'thing': 171,\n",
              " '4': 172,\n",
              " 'another': 173,\n",
              " 'please': 174,\n",
              " 'hours': 175,\n",
              " 'poor': 176,\n",
              " 'man': 177,\n",
              " 'great': 178,\n",
              " 'show': 179,\n",
              " 'nice': 180,\n",
              " 'little': 181,\n",
              " 'where': 182,\n",
              " 'soon': 183,\n",
              " 'something': 184,\n",
              " 'missed': 185,\n",
              " 'our': 186,\n",
              " 'say': 187,\n",
              " 'doing': 188,\n",
              " 'trying': 189,\n",
              " 'someone': 190,\n",
              " 'lost': 191,\n",
              " 'year': 192,\n",
              " 'guys': 193,\n",
              " 'car': 194,\n",
              " 'havent': 195,\n",
              " 'hurts': 196,\n",
              " 'gone': 197,\n",
              " 'friends': 198,\n",
              " 'always': 199,\n",
              " 'ok': 200,\n",
              " 'life': 201,\n",
              " 'bed': 202,\n",
              " 'than': 203,\n",
              " 'bored': 204,\n",
              " 'done': 205,\n",
              " 'house': 206,\n",
              " 'before': 207,\n",
              " 'sun': 208,\n",
              " 'until': 209,\n",
              " 'guess': 210,\n",
              " 'hard': 211,\n",
              " 'omg': 212,\n",
              " 'ready': 213,\n",
              " 'who': 214,\n",
              " 'happy': 215,\n",
              " 'look': 216,\n",
              " 'isnt': 217,\n",
              " 'went': 218,\n",
              " 'weather': 219,\n",
              " 'nothing': 220,\n",
              " 'sure': 221,\n",
              " 'job': 222,\n",
              " 'thought': 223,\n",
              " 'hot': 224,\n",
              " 'youre': 225,\n",
              " 'into': 226,\n",
              " 'girl': 227,\n",
              " 'looks': 228,\n",
              " 'old': 229,\n",
              " 'watch': 230,\n",
              " 'missing': 231,\n",
              " 'stuck': 232,\n",
              " 'let': 233,\n",
              " 'live': 234,\n",
              " 'gotta': 235,\n",
              " 'maybe': 236,\n",
              " 'us': 237,\n",
              " 'stupid': 238,\n",
              " 'first': 239,\n",
              " 'ever': 240,\n",
              " 'lunch': 241,\n",
              " 'help': 242,\n",
              " 'while': 243,\n",
              " 'summer': 244,\n",
              " 'other': 245,\n",
              " 'same': 246,\n",
              " 'rain': 247,\n",
              " 'everyone': 248,\n",
              " 'wanted': 249,\n",
              " 'cause': 250,\n",
              " 'leave': 251,\n",
              " 'ur': 252,\n",
              " '1': 253,\n",
              " 'hair': 254,\n",
              " 'hey': 255,\n",
              " 'n': 256,\n",
              " 'things': 257,\n",
              " 'headache': 258,\n",
              " 'said': 259,\n",
              " 'does': 260,\n",
              " 'looking': 261,\n",
              " 'cold': 262,\n",
              " 'waiting': 263,\n",
              " 'yes': 264,\n",
              " 'hear': 265,\n",
              " 'without': 266,\n",
              " 'till': 267,\n",
              " 'since': 268,\n",
              " 'friend': 269,\n",
              " 'anything': 270,\n",
              " 'bit': 271,\n",
              " 'watching': 272,\n",
              " 'two': 273,\n",
              " 'x': 274,\n",
              " 'head': 275,\n",
              " 'thanks': 276,\n",
              " 'keep': 277,\n",
              " 'aww': 278,\n",
              " 'might': 279,\n",
              " 'anymore': 280,\n",
              " 'around': 281,\n",
              " 'money': 282,\n",
              " 'big': 283,\n",
              " 'early': 284,\n",
              " 'office': 285,\n",
              " 'anyone': 286,\n",
              " 'hour': 287,\n",
              " 'those': 288,\n",
              " 'made': 289,\n",
              " 'yesterday': 290,\n",
              " '5': 291,\n",
              " 'wants': 292,\n",
              " 'baby': 293,\n",
              " 'best': 294,\n",
              " 'call': 295,\n",
              " 'also': 296,\n",
              " 'id': 297,\n",
              " 'myself': 298,\n",
              " 'found': 299,\n",
              " 'may': 300,\n",
              " 'such': 301,\n",
              " 'hes': 302,\n",
              " 'mean': 303,\n",
              " 'cry': 304,\n",
              " 'put': 305,\n",
              " 'play': 306,\n",
              " 'almost': 307,\n",
              " 'tho': 308,\n",
              " 'stop': 309,\n",
              " 'late': 310,\n",
              " 'stuff': 311,\n",
              " 'end': 312,\n",
              " 'tweet': 313,\n",
              " 'start': 314,\n",
              " 'makes': 315,\n",
              " 'wrong': 316,\n",
              " 'pretty': 317,\n",
              " 'probably': 318,\n",
              " 'forgot': 319,\n",
              " 'food': 320,\n",
              " 'their': 321,\n",
              " 'wasnt': 322,\n",
              " 'actually': 323,\n",
              " 'give': 324,\n",
              " 'must': 325,\n",
              " 'enough': 326,\n",
              " 'buy': 327,\n",
              " 'broke': 328,\n",
              " 'coming': 329,\n",
              " 'least': 330,\n",
              " 'whats': 331,\n",
              " 'wow': 332,\n",
              " 'weeks': 333,\n",
              " 'these': 334,\n",
              " 'took': 335,\n",
              " 'god': 336,\n",
              " 'later': 337,\n",
              " 'outside': 338,\n",
              " 'shes': 339,\n",
              " 'making': 340,\n",
              " 'try': 341,\n",
              " 'couldnt': 342,\n",
              " 'through': 343,\n",
              " 'alone': 344,\n",
              " 'movie': 345,\n",
              " 'class': 346,\n",
              " 'totally': 347,\n",
              " 'taking': 348,\n",
              " 'saw': 349,\n",
              " 'far': 350,\n",
              " 'mom': 351,\n",
              " 'mine': 352,\n",
              " 'boo': 353,\n",
              " 'few': 354,\n",
              " 'woke': 355,\n",
              " 'hurt': 356,\n",
              " 'believe': 357,\n",
              " 'eat': 358,\n",
              " 'many': 359,\n",
              " 'internet': 360,\n",
              " 'follow': 361,\n",
              " 'computer': 362,\n",
              " 'b': 363,\n",
              " 'read': 364,\n",
              " 'hell': 365,\n",
              " 'finally': 366,\n",
              " 'playing': 367,\n",
              " 'able': 368,\n",
              " 'pain': 369,\n",
              " 'every': 370,\n",
              " 'stay': 371,\n",
              " 'thinking': 372,\n",
              " 'sooo': 373,\n",
              " 'tried': 374,\n",
              " 'lot': 375,\n",
              " 'talk': 376,\n",
              " 'yay': 377,\n",
              " 'says': 378,\n",
              " 'ya': 379,\n",
              " 'theres': 380,\n",
              " 'game': 381,\n",
              " 'half': 382,\n",
              " 'most': 383,\n",
              " 'place': 384,\n",
              " 'came': 385,\n",
              " 'awww': 386,\n",
              " 'news': 387,\n",
              " 'dead': 388,\n",
              " 'seems': 389,\n",
              " 'either': 390,\n",
              " 'else': 391,\n",
              " 'full': 392,\n",
              " 'sitting': 393,\n",
              " 'online': 394,\n",
              " 'whole': 395,\n",
              " 'feels': 396,\n",
              " 'close': 397,\n",
              " '10': 398,\n",
              " 'ago': 399,\n",
              " 'fail': 400,\n",
              " 'awesome': 401,\n",
              " 'dog': 402,\n",
              " 'party': 403,\n",
              " 'which': 404,\n",
              " 'everything': 405,\n",
              " 'kinda': 406,\n",
              " 'raining': 407,\n",
              " 'w': 408,\n",
              " 'room': 409,\n",
              " 'okay': 410,\n",
              " 'finished': 411,\n",
              " 'tv': 412,\n",
              " 'break': 413,\n",
              " 'monday': 414,\n",
              " 'once': 415,\n",
              " 'sore': 416,\n",
              " 'tell': 417,\n",
              " 'asleep': 418,\n",
              " 'used': 419,\n",
              " 'suck': 420,\n",
              " 'hungry': 421,\n",
              " 'beautiful': 422,\n",
              " 'leaving': 423,\n",
              " 'real': 424,\n",
              " 'hi': 425,\n",
              " 'music': 426,\n",
              " 'happened': 427,\n",
              " 'years': 428,\n",
              " 'gets': 429,\n",
              " 'told': 430,\n",
              " 'til': 431,\n",
              " 'cuz': 432,\n",
              " 'times': 433,\n",
              " 'family': 434,\n",
              " 'bgt': 435,\n",
              " '6': 436,\n",
              " 'minutes': 437,\n",
              " 'cool': 438,\n",
              " 'song': 439,\n",
              " 'theyre': 440,\n",
              " 'kids': 441,\n",
              " 'busy': 442,\n",
              " 'hit': 443,\n",
              " 'vote': 444,\n",
              " 'arent': 445,\n",
              " 'use': 446,\n",
              " 'video': 447,\n",
              " 'awake': 448,\n",
              " 'died': 449,\n",
              " 'needs': 450,\n",
              " 'luck': 451,\n",
              " 'r': 452,\n",
              " 'broken': 453,\n",
              " 'move': 454,\n",
              " 'moving': 455,\n",
              " 'starting': 456,\n",
              " 'seen': 457,\n",
              " 'sunday': 458,\n",
              " 's': 459,\n",
              " 'drive': 460,\n",
              " 'soo': 461,\n",
              " 'horrible': 462,\n",
              " 'forward': 463,\n",
              " 'shopping': 464,\n",
              " 'cut': 465,\n",
              " 'instead': 466,\n",
              " 'trip': 467,\n",
              " 'excited': 468,\n",
              " 'dad': 469,\n",
              " 'birthday': 470,\n",
              " 'd': 471,\n",
              " 'o': 472,\n",
              " 'run': 473,\n",
              " 'face': 474,\n",
              " 'fell': 475,\n",
              " 'jealous': 476,\n",
              " 'slow': 477,\n",
              " 'sadly': 478,\n",
              " 'throat': 479,\n",
              " 'set': 480,\n",
              " 'followers': 481,\n",
              " 'supposed': 482,\n",
              " 'guy': 483,\n",
              " 'seeing': 484,\n",
              " 'worse': 485,\n",
              " 'unfortunately': 486,\n",
              " 'cat': 487,\n",
              " 'dude': 488,\n",
              " 'sigh': 489,\n",
              " '8': 490,\n",
              " 'change': 491,\n",
              " 'turn': 492,\n",
              " 'free': 493,\n",
              " 'eating': 494,\n",
              " 'aw': 495,\n",
              " 'high': 496,\n",
              " 'heart': 497,\n",
              " 'super': 498,\n",
              " 'called': 499,\n",
              " 'laptop': 500,\n",
              " 'part': 501,\n",
              " 'send': 502,\n",
              " 'email': 503,\n",
              " 'red': 504,\n",
              " 'seriously': 505,\n",
              " 'la': 506,\n",
              " 'remember': 507,\n",
              " 'listening': 508,\n",
              " 'funny': 509,\n",
              " 'amazing': 510,\n",
              " 'open': 511,\n",
              " 'beach': 512,\n",
              " 'check': 513,\n",
              " 'eyes': 514,\n",
              " 'lots': 515,\n",
              " 'tour': 516,\n",
              " 'exams': 517,\n",
              " 'own': 518,\n",
              " 'boring': 519,\n",
              " 'lucky': 520,\n",
              " 'site': 521,\n",
              " 'upset': 522,\n",
              " 'june': 523,\n",
              " 'talking': 524,\n",
              " 'month': 525,\n",
              " 'due': 526,\n",
              " 'win': 527,\n",
              " 'heard': 528,\n",
              " 'worst': 529,\n",
              " 'stomach': 530,\n",
              " 'hopefully': 531,\n",
              " 'meet': 532,\n",
              " 'moment': 533,\n",
              " 'shame': 534,\n",
              " 'bye': 535,\n",
              " 'bout': 536,\n",
              " 'months': 537,\n",
              " 'soooo': 538,\n",
              " 'goes': 539,\n",
              " 'mind': 540,\n",
              " 'inside': 541,\n",
              " 'iphone': 542,\n",
              " 'mad': 543,\n",
              " 'running': 544,\n",
              " 'tickets': 545,\n",
              " 'fb': 546,\n",
              " 'means': 547,\n",
              " 'text': 548,\n",
              " 'wtf': 549,\n",
              " 'aint': 550,\n",
              " 'started': 551,\n",
              " 'problem': 552,\n",
              " 'lil': 553,\n",
              " 'idea': 554,\n",
              " 'reason': 555,\n",
              " 'sometimes': 556,\n",
              " 'world': 557,\n",
              " 'glad': 558,\n",
              " 'link': 559,\n",
              " 'list': 560,\n",
              " 'ask': 561,\n",
              " 'die': 562,\n",
              " 'test': 563,\n",
              " 'concert': 564,\n",
              " 'hates': 565,\n",
              " 'lonely': 566,\n",
              " 'watched': 567,\n",
              " 'wake': 568,\n",
              " 'fair': 569,\n",
              " 'sunny': 570,\n",
              " 'ipod': 571,\n",
              " 'reply': 572,\n",
              " 'meeting': 573,\n",
              " 'bc': 574,\n",
              " 'cute': 575,\n",
              " '7': 576,\n",
              " 'nap': 577,\n",
              " 'ones': 578,\n",
              " 'fast': 579,\n",
              " 'person': 580,\n",
              " 'comes': 581,\n",
              " 'except': 582,\n",
              " 'exam': 583,\n",
              " 'name': 584,\n",
              " 'following': 585,\n",
              " 'rest': 586,\n",
              " 'girls': 587,\n",
              " 'post': 588,\n",
              " 'spent': 589,\n",
              " 'weird': 590,\n",
              " 'tweets': 591,\n",
              " 'happen': 592,\n",
              " 'final': 593,\n",
              " 'saying': 594,\n",
              " 'loved': 595,\n",
              " 'uk': 596,\n",
              " 'spend': 597,\n",
              " 'pic': 598,\n",
              " 'ah': 599,\n",
              " 'ate': 600,\n",
              " 'da': 601,\n",
              " 'both': 602,\n",
              " 'hoping': 603,\n",
              " 'water': 604,\n",
              " 'dream': 605,\n",
              " 'book': 606,\n",
              " 'hug': 607,\n",
              " 'sold': 608,\n",
              " 'wishing': 609,\n",
              " 'crying': 610,\n",
              " 'hang': 611,\n",
              " 'less': 612,\n",
              " 'hahaha': 613,\n",
              " 'thank': 614,\n",
              " 'gutted': 615,\n",
              " 'felt': 616,\n",
              " 'parents': 617,\n",
              " 'drink': 618,\n",
              " 'catch': 619,\n",
              " 'garden': 620,\n",
              " 'youtube': 621,\n",
              " 'lovely': 622,\n",
              " 'earlier': 623,\n",
              " 'bus': 624,\n",
              " 'flu': 625,\n",
              " '2day': 626,\n",
              " 'past': 627,\n",
              " '30': 628,\n",
              " 'goin': 629,\n",
              " 'answer': 630,\n",
              " 'using': 631,\n",
              " 'forget': 632,\n",
              " 'saturday': 633,\n",
              " 'chance': 634,\n",
              " 'lmao': 635,\n",
              " 'dinner': 636,\n",
              " 'crazy': 637,\n",
              " 'second': 638,\n",
              " 'sounds': 639,\n",
              " 'write': 640,\n",
              " 'rip': 641,\n",
              " '100': 642,\n",
              " 'facebook': 643,\n",
              " '12': 644,\n",
              " 'wear': 645,\n",
              " 'plans': 646,\n",
              " 'tummy': 647,\n",
              " 'black': 648,\n",
              " 'middle': 649,\n",
              " 'beer': 650,\n",
              " 'coffee': 651,\n",
              " 'bummer': 652,\n",
              " 'idk': 653,\n",
              " 'yea': 654,\n",
              " 'dang': 655,\n",
              " 'sleeping': 656,\n",
              " 'apparently': 657,\n",
              " 'killing': 658,\n",
              " 'care': 659,\n",
              " 'cleaning': 660,\n",
              " 'longer': 661,\n",
              " 'google': 662,\n",
              " 'ice': 663,\n",
              " 'kid': 664,\n",
              " 'writing': 665,\n",
              " 'three': 666,\n",
              " 'rather': 667,\n",
              " 'guitar': 668,\n",
              " 'quite': 669,\n",
              " 'ahh': 670,\n",
              " 'chocolate': 671,\n",
              " 'enjoy': 672,\n",
              " 'under': 673,\n",
              " 'cannot': 674,\n",
              " 'airport': 675,\n",
              " 'sound': 676,\n",
              " 'driving': 677,\n",
              " 'none': 678,\n",
              " 'disappointed': 679,\n",
              " 'store': 680,\n",
              " 'cos': 681,\n",
              " 'town': 682,\n",
              " 'heading': 683,\n",
              " 'wondering': 684,\n",
              " 'short': 685,\n",
              " 'realized': 686,\n",
              " 'gave': 687,\n",
              " 'finish': 688,\n",
              " 'kind': 689,\n",
              " 'gym': 690,\n",
              " 'lame': 691,\n",
              " 'songs': 692,\n",
              " 'sent': 693,\n",
              " 'walk': 694,\n",
              " 'sunshine': 695,\n",
              " 'city': 696,\n",
              " 'fml': 697,\n",
              " 'anyway': 698,\n",
              " 'seem': 699,\n",
              " 'different': 700,\n",
              " 'near': 701,\n",
              " 'fall': 702,\n",
              " 'knew': 703,\n",
              " 'account': 704,\n",
              " 'ouch': 705,\n",
              " 'btw': 706,\n",
              " 'clean': 707,\n",
              " 'y': 708,\n",
              " 'meant': 709,\n",
              " 'dear': 710,\n",
              " 'traffic': 711,\n",
              " 'warm': 712,\n",
              " 'london': 713,\n",
              " 'sleepy': 714,\n",
              " 'annoying': 715,\n",
              " 'slept': 716,\n",
              " 'favorite': 717,\n",
              " 'shift': 718,\n",
              " '20': 719,\n",
              " 'pizza': 720,\n",
              " 'course': 721,\n",
              " 'update': 722,\n",
              " 'together': 723,\n",
              " 'keeps': 724,\n",
              " 'sister': 725,\n",
              " '1st': 726,\n",
              " 'project': 727,\n",
              " 'fan': 728,\n",
              " 'during': 729,\n",
              " 'shop': 730,\n",
              " 'thinks': 731,\n",
              " 'graduation': 732,\n",
              " 'photo': 733,\n",
              " 'tweeting': 734,\n",
              " 'failed': 735,\n",
              " 'works': 736,\n",
              " 'study': 737,\n",
              " 'mac': 738,\n",
              " 'agree': 739,\n",
              " 'boy': 740,\n",
              " 'happens': 741,\n",
              " 'goodbye': 742,\n",
              " 'true': 743,\n",
              " 'couple': 744,\n",
              " 'evening': 745,\n",
              " 'picture': 746,\n",
              " 'bike': 747,\n",
              " 'mood': 748,\n",
              " 'kill': 749,\n",
              " 'park': 750,\n",
              " 'brother': 751,\n",
              " 'hand': 752,\n",
              " 'problems': 753,\n",
              " 'drinking': 754,\n",
              " 'afternoon': 755,\n",
              " 'packing': 756,\n",
              " 'paid': 757,\n",
              " 'depressed': 758,\n",
              " 'cried': 759,\n",
              " 'pics': 760,\n",
              " 'heat': 761,\n",
              " 'bring': 762,\n",
              " 'bummed': 763,\n",
              " 'closed': 764,\n",
              " 'plus': 765,\n",
              " 'top': 766,\n",
              " 'nope': 767,\n",
              " 'save': 768,\n",
              " 'fever': 769,\n",
              " 'page': 770,\n",
              " 'ppl': 771,\n",
              " 'behind': 772,\n",
              " 'card': 773,\n",
              " 'xd': 774,\n",
              " 'camera': 775,\n",
              " 'figure': 776,\n",
              " 'ha': 777,\n",
              " 'fine': 778,\n",
              " 'load': 779,\n",
              " 'forever': 780,\n",
              " 'burnt': 781,\n",
              " 'pay': 782,\n",
              " 'bet': 783,\n",
              " 'bday': 784,\n",
              " 'pictures': 785,\n",
              " 'huge': 786,\n",
              " 'nite': 787,\n",
              " 'tom': 788,\n",
              " 'blog': 789,\n",
              " 'story': 790,\n",
              " 'visit': 791,\n",
              " 'math': 792,\n",
              " 'yall': 793,\n",
              " 'changed': 794,\n",
              " 'messages': 795,\n",
              " 'empty': 796,\n",
              " 'looked': 797,\n",
              " 'plan': 798,\n",
              " 'wearing': 799,\n",
              " 'cream': 800,\n",
              " 'sit': 801,\n",
              " '2nd': 802,\n",
              " 'killed': 803,\n",
              " 'company': 804,\n",
              " 'c': 805,\n",
              " 'fact': 806,\n",
              " 'pool': 807,\n",
              " 'history': 808,\n",
              " 'feet': 809,\n",
              " 'freakin': 810,\n",
              " 'pass': 811,\n",
              " 'dentist': 812,\n",
              " 'expensive': 813,\n",
              " 'terrible': 814,\n",
              " 'sat': 815,\n",
              " 'movies': 816,\n",
              " 'season': 817,\n",
              " 'gosh': 818,\n",
              " 'sign': 819,\n",
              " 'completely': 820,\n",
              " 'wonder': 821,\n",
              " 'sweet': 822,\n",
              " 'depressing': 823,\n",
              " 'wishes': 824,\n",
              " 'box': 825,\n",
              " 'club': 826,\n",
              " 'small': 827,\n",
              " 'worth': 828,\n",
              " 'ended': 829,\n",
              " 'bought': 830,\n",
              " 'train': 831,\n",
              " 'air': 832,\n",
              " 'listen': 833,\n",
              " 'white': 834,\n",
              " 'jus': 835,\n",
              " 'nyc': 836,\n",
              " 'dunno': 837,\n",
              " 'ff': 838,\n",
              " 'p': 839,\n",
              " 'wouldnt': 840,\n",
              " 'revision': 841,\n",
              " 'definitely': 842,\n",
              " 'available': 843,\n",
              " 'blood': 844,\n",
              " 'ohh': 845,\n",
              " 'needed': 846,\n",
              " 'hugs': 847,\n",
              " 'line': 848,\n",
              " 'body': 849,\n",
              " 'cancelled': 850,\n",
              " 'neck': 851,\n",
              " 'stopped': 852,\n",
              " 'm': 853,\n",
              " 'awful': 854,\n",
              " 'july': 855,\n",
              " 'ride': 856,\n",
              " 'talent': 857,\n",
              " 'worked': 858,\n",
              " 'vegas': 859,\n",
              " 'web': 860,\n",
              " 'date': 861,\n",
              " 'machine': 862,\n",
              " 'feelin': 863,\n",
              " 'front': 864,\n",
              " 'point': 865,\n",
              " 'wheres': 866,\n",
              " 'yep': 867,\n",
              " 'bless': 868,\n",
              " 'clothes': 869,\n",
              " 'starts': 870,\n",
              " 'mum': 871,\n",
              " 'brothers': 872,\n",
              " 'cats': 873,\n",
              " 'windows': 874,\n",
              " 'dance': 875,\n",
              " 'decided': 876,\n",
              " 'suppose': 877,\n",
              " 'walking': 878,\n",
              " 'staying': 879,\n",
              " 'min': 880,\n",
              " 'officially': 881,\n",
              " 'shower': 882,\n",
              " 'nights': 883,\n",
              " 'afraid': 884,\n",
              " 'low': 885,\n",
              " 'surgery': 886,\n",
              " 'worried': 887,\n",
              " 'tuesday': 888,\n",
              " 'understand': 889,\n",
              " 'serious': 890,\n",
              " 'although': 891,\n",
              " 'moved': 892,\n",
              " 'scared': 893,\n",
              " 'via': 894,\n",
              " 'deal': 895,\n",
              " 'radio': 896,\n",
              " 'played': 897,\n",
              " 'mobile': 898,\n",
              " 'ran': 899,\n",
              " 'access': 900,\n",
              " 'especially': 901,\n",
              " 'homework': 902,\n",
              " 'shouldnt': 903,\n",
              " 'jonas': 904,\n",
              " 'philippines': 905,\n",
              " 'mr': 906,\n",
              " 'english': 907,\n",
              " 'ima': 908,\n",
              " 'dying': 909,\n",
              " 'somebody': 910,\n",
              " 'state': 911,\n",
              " 'classes': 912,\n",
              " '15': 913,\n",
              " 'however': 914,\n",
              " 'jay': 915,\n",
              " 'giving': 916,\n",
              " 'service': 917,\n",
              " '25': 918,\n",
              " 'ahhh': 919,\n",
              " 'hello': 920,\n",
              " 'green': 921,\n",
              " 'entire': 922,\n",
              " 'extra': 923,\n",
              " 'enjoying': 924,\n",
              " 'foot': 925,\n",
              " 'rainy': 926,\n",
              " 'paper': 927,\n",
              " 'darn': 928,\n",
              " 'sux': 929,\n",
              " 'reading': 930,\n",
              " 'finger': 931,\n",
              " 'wife': 932,\n",
              " '9': 933,\n",
              " 'lose': 934,\n",
              " 'quick': 935,\n",
              " 'living': 936,\n",
              " 'breaking': 937,\n",
              " 'dm': 938,\n",
              " 'eye': 939,\n",
              " 'across': 940,\n",
              " 'taken': 941,\n",
              " 'number': 942,\n",
              " 'lazy': 943,\n",
              " 'add': 944,\n",
              " 'em': 945,\n",
              " 'fly': 946,\n",
              " 'breakfast': 947,\n",
              " 'hasnt': 948,\n",
              " 'everyday': 949,\n",
              " 'private': 950,\n",
              " 'perfect': 951,\n",
              " 'eh': 952,\n",
              " 'checked': 953,\n",
              " 'knee': 954,\n",
              " 'miles': 955,\n",
              " 'each': 956,\n",
              " 'young': 957,\n",
              " 'along': 958,\n",
              " 'shows': 959,\n",
              " 'barely': 960,\n",
              " 'waking': 961,\n",
              " 'tea': 962,\n",
              " 'exactly': 963,\n",
              " 'bloody': 964,\n",
              " 'tix': 965,\n",
              " 'passed': 966,\n",
              " 'boys': 967,\n",
              " 'holly': 968,\n",
              " 'lady': 969,\n",
              " 'lately': 970,\n",
              " 'son': 971,\n",
              " 'wednesday': 972,\n",
              " 'pack': 973,\n",
              " 'scary': 974,\n",
              " 'case': 975,\n",
              " 'somewhere': 976,\n",
              " 'fans': 977,\n",
              " 'ugly': 978,\n",
              " 'teeth': 979,\n",
              " 'afford': 980,\n",
              " 'headed': 981,\n",
              " 'caught': 982,\n",
              " 'battery': 983,\n",
              " 'smh': 984,\n",
              " 'normal': 985,\n",
              " 'absolutely': 986,\n",
              " 'episode': 987,\n",
              " 'nobody': 988,\n",
              " 'shut': 989,\n",
              " 'shoes': 990,\n",
              " 'hmm': 991,\n",
              " 'stand': 992,\n",
              " 'words': 993,\n",
              " 'ruined': 994,\n",
              " 'fixed': 995,\n",
              " 'mouth': 996,\n",
              " 'itunes': 997,\n",
              " 'pick': 998,\n",
              " 'doctors': 999,\n",
              " 'tgif': 1000,\n",
              " ...}"
            ]
          },
          "metadata": {},
          "execution_count": 12
        }
      ]
    },
    {
      "cell_type": "code",
      "source": [
        "dictionary = {}\n",
        "rev_dictionary = {}\n",
        "for word, idx in word2index.items():\n",
        "    if idx > 1406:\n",
        "        continue\n",
        "    dictionary[word] = idx\n",
        "    rev_dictionary[idx] = word"
      ],
      "metadata": {
        "id": "wNp4eHBfbENt"
      },
      "execution_count": 13,
      "outputs": []
    },
    {
      "cell_type": "code",
      "source": [
        "max(rev_dictionary.keys())"
      ],
      "metadata": {
        "colab": {
          "base_uri": "https://localhost:8080/"
        },
        "id": "n5yVmRXgbNme",
        "outputId": "49e87f2d-b558-400e-88a0-ce277ab3c3ce"
      },
      "execution_count": 14,
      "outputs": [
        {
          "output_type": "execute_result",
          "data": {
            "text/plain": [
              "1406"
            ]
          },
          "metadata": {},
          "execution_count": 14
        }
      ]
    },
    {
      "cell_type": "code",
      "source": [
        "input_seqences = tokenizer.texts_to_sequences(corpus)"
      ],
      "metadata": {
        "id": "vsZulsWqbQdX"
      },
      "execution_count": 15,
      "outputs": []
    },
    {
      "cell_type": "code",
      "source": [
        "input_seqences[:10]"
      ],
      "metadata": {
        "colab": {
          "base_uri": "https://localhost:8080/"
        },
        "id": "sDYJgWFHbTSi",
        "outputId": "fd66abbd-d377-4abb-c500-77bbc2dddf33"
      },
      "execution_count": 16,
      "outputs": [
        {
          "output_type": "execute_result",
          "data": {
            "text/plain": [
              "[[1, 51, 1, 25, 2, 77, 623, 6, 1, 551, 810, 24, 155, 501],\n",
              " [256, 202, 29, 5, 258, 18, 64, 295],\n",
              " [1486, 161],\n",
              " [292, 2, 611, 34, 29, 198, 183],\n",
              " [69, 52, 2, 29, 190, 214, 78, 545, 16, 26, 47, 59],\n",
              " [81, 83, 12, 35, 2, 1003, 574, 4, 1574, 83, 37, 4, 198],\n",
              " [1,\n",
              "  142,\n",
              "  23,\n",
              "  118,\n",
              "  16,\n",
              "  10,\n",
              "  20,\n",
              "  372,\n",
              "  60,\n",
              "  91,\n",
              "  229,\n",
              "  269,\n",
              "  214,\n",
              "  1,\n",
              "  52,\n",
              "  16,\n",
              "  302,\n",
              "  1388,\n",
              "  31,\n",
              "  99,\n",
              "  292,\n",
              "  13,\n",
              "  66],\n",
              " [1047, 7, 138],\n",
              " [4, 100, 1, 49, 12],\n",
              " [10, 74, 24, 330, 21, 161]]"
            ]
          },
          "metadata": {},
          "execution_count": 16
        }
      ]
    },
    {
      "cell_type": "code",
      "source": [
        "len(input_seqences)"
      ],
      "metadata": {
        "colab": {
          "base_uri": "https://localhost:8080/"
        },
        "id": "2gOrYOL9bUh3",
        "outputId": "8ba90bda-1064-42fb-af9c-f00cebbddf92"
      },
      "execution_count": 17,
      "outputs": [
        {
          "output_type": "execute_result",
          "data": {
            "text/plain": [
              "15000"
            ]
          },
          "metadata": {},
          "execution_count": 17
        }
      ]
    },
    {
      "cell_type": "markdown",
      "source": [
        "#Padding the Sequences and obtain Variables"
      ],
      "metadata": {
        "id": "8ljOOTUjbgKn"
      }
    },
    {
      "cell_type": "code",
      "source": [
        "input_data = []\n",
        "target = []\n",
        "for line in input_seqences:\n",
        "    for i in range(1, len(line)-1):\n",
        "        input_data.append(line[:i])\n",
        "        target.append(line[i+1])"
      ],
      "metadata": {
        "id": "AmCRSSPqbdVR"
      },
      "execution_count": 18,
      "outputs": []
    },
    {
      "cell_type": "code",
      "source": [
        "input_data[:5]"
      ],
      "metadata": {
        "colab": {
          "base_uri": "https://localhost:8080/"
        },
        "id": "78TPYhoHbi8V",
        "outputId": "f697c0ca-21cc-4149-df0b-727ea0ffd666"
      },
      "execution_count": 19,
      "outputs": [
        {
          "output_type": "execute_result",
          "data": {
            "text/plain": [
              "[[1], [1, 51], [1, 51, 1], [1, 51, 1, 25], [1, 51, 1, 25, 2]]"
            ]
          },
          "metadata": {},
          "execution_count": 19
        }
      ]
    },
    {
      "cell_type": "code",
      "source": [
        "target[:5]"
      ],
      "metadata": {
        "colab": {
          "base_uri": "https://localhost:8080/"
        },
        "id": "C1UVEflQblGn",
        "outputId": "12f040d6-81d9-47c8-8dd6-c9b977844f29"
      },
      "execution_count": 20,
      "outputs": [
        {
          "output_type": "execute_result",
          "data": {
            "text/plain": [
              "[1, 25, 2, 77, 623]"
            ]
          },
          "metadata": {},
          "execution_count": 20
        }
      ]
    },
    {
      "cell_type": "code",
      "source": [
        "MAX_LEN = 0\n",
        "for seq in input_data:\n",
        "    if len(seq) > MAX_LEN:\n",
        "        MAX_LEN = len(seq)\n",
        "MAX_LEN"
      ],
      "metadata": {
        "colab": {
          "base_uri": "https://localhost:8080/"
        },
        "id": "uVgQ2Dixbn0K",
        "outputId": "b63d9898-b311-4792-fb50-7e03c088f998"
      },
      "execution_count": 21,
      "outputs": [
        {
          "output_type": "execute_result",
          "data": {
            "text/plain": [
              "29"
            ]
          },
          "metadata": {},
          "execution_count": 21
        }
      ]
    },
    {
      "cell_type": "code",
      "source": [
        "input_data = pad_sequences(input_data, maxlen=MAX_LEN, padding=\"post\", truncating=\"post\")"
      ],
      "metadata": {
        "id": "RWHRJc-tbpxp"
      },
      "execution_count": 22,
      "outputs": []
    },
    {
      "cell_type": "code",
      "source": [
        "len(input_data[0])"
      ],
      "metadata": {
        "colab": {
          "base_uri": "https://localhost:8080/"
        },
        "id": "SlK93TKubsL9",
        "outputId": "2012c004-9683-4669-e8b5-f200f0a9b18b"
      },
      "execution_count": 23,
      "outputs": [
        {
          "output_type": "execute_result",
          "data": {
            "text/plain": [
              "29"
            ]
          },
          "metadata": {},
          "execution_count": 23
        }
      ]
    },
    {
      "cell_type": "code",
      "source": [
        "input_data.shape"
      ],
      "metadata": {
        "colab": {
          "base_uri": "https://localhost:8080/"
        },
        "id": "irNTLlClbto9",
        "outputId": "f28e7dbb-3588-4864-cbb3-2f3ac89e08ea"
      },
      "execution_count": 24,
      "outputs": [
        {
          "output_type": "execute_result",
          "data": {
            "text/plain": [
              "(140459, 29)"
            ]
          },
          "metadata": {},
          "execution_count": 24
        }
      ]
    },
    {
      "cell_type": "code",
      "source": [
        "total_words = len(tokenizer.word_index) + 1"
      ],
      "metadata": {
        "id": "eQwI5VL4cW3c"
      },
      "execution_count": 25,
      "outputs": []
    },
    {
      "cell_type": "code",
      "source": [
        "target = ku.np_utils.to_categorical(target, num_classes=total_words)"
      ],
      "metadata": {
        "id": "KmeaXS24bv51"
      },
      "execution_count": 26,
      "outputs": []
    },
    {
      "cell_type": "code",
      "source": [
        "target"
      ],
      "metadata": {
        "colab": {
          "base_uri": "https://localhost:8080/"
        },
        "id": "cH_U-BLtbx59",
        "outputId": "1e814bb7-6383-4f47-ccfa-0e739966e6c1"
      },
      "execution_count": 27,
      "outputs": [
        {
          "output_type": "execute_result",
          "data": {
            "text/plain": [
              "array([[0., 1., 0., ..., 0., 0., 0.],\n",
              "       [0., 0., 0., ..., 0., 0., 0.],\n",
              "       [0., 0., 1., ..., 0., 0., 0.],\n",
              "       ...,\n",
              "       [0., 0., 0., ..., 0., 0., 0.],\n",
              "       [0., 0., 0., ..., 0., 0., 0.],\n",
              "       [0., 0., 0., ..., 0., 0., 0.]], dtype=float32)"
            ]
          },
          "metadata": {},
          "execution_count": 27
        }
      ]
    },
    {
      "cell_type": "code",
      "source": [
        "VOCAB_SIZE = 2001\n",
        "VOCAB_SIZE"
      ],
      "metadata": {
        "colab": {
          "base_uri": "https://localhost:8080/"
        },
        "id": "KZE1AO5vcabW",
        "outputId": "f0c104f8-660d-4eda-eb59-ae31942d802c"
      },
      "execution_count": 28,
      "outputs": [
        {
          "output_type": "execute_result",
          "data": {
            "text/plain": [
              "2001"
            ]
          },
          "metadata": {},
          "execution_count": 28
        }
      ]
    },
    {
      "cell_type": "code",
      "source": [
        "#LSTM For Text Gen\n",
        "model = Sequential()\n",
        "model.add(Embedding(input_dim=VOCAB_SIZE, output_dim=100, input_length=MAX_LEN))\n",
        "model.add(LSTM(units=100))\n",
        "model.add(Dropout(rate=0.1))\n",
        "model.add(Dense(units=target.shape[1], activation=\"softmax\"))"
      ],
      "metadata": {
        "id": "CC5qJxnkckUc"
      },
      "execution_count": null,
      "outputs": []
    },
    {
      "cell_type": "code",
      "source": [
        "model.compile(loss=\"categorical_crossentropy\", optimizer=\"adam\")"
      ],
      "metadata": {
        "id": "eiQbb8CUcm8M"
      },
      "execution_count": null,
      "outputs": []
    },
    {
      "cell_type": "code",
      "source": [
        "model.summary()"
      ],
      "metadata": {
        "colab": {
          "base_uri": "https://localhost:8080/"
        },
        "id": "JdWThtwfcpAV",
        "outputId": "4840a05f-1aa6-4f9a-8e21-cffd63433b44"
      },
      "execution_count": null,
      "outputs": [
        {
          "output_type": "stream",
          "name": "stdout",
          "text": [
            "Model: \"sequential\"\n",
            "_________________________________________________________________\n",
            " Layer (type)                Output Shape              Param #   \n",
            "=================================================================\n",
            " embedding (Embedding)       (None, 29, 100)           200100    \n",
            "                                                                 \n",
            " lstm (LSTM)                 (None, 100)               80400     \n",
            "                                                                 \n",
            " dropout (Dropout)           (None, 100)               0         \n",
            "                                                                 \n",
            " dense (Dense)               (None, 14787)             1493487   \n",
            "                                                                 \n",
            "=================================================================\n",
            "Total params: 1,773,987\n",
            "Trainable params: 1,773,987\n",
            "Non-trainable params: 0\n",
            "_________________________________________________________________\n"
          ]
        }
      ]
    },
    {
      "cell_type": "code",
      "source": [
        "model.fit(input_data, target, batch_size=32, epochs=5, verbose=1)"
      ],
      "metadata": {
        "colab": {
          "base_uri": "https://localhost:8080/"
        },
        "id": "0BmmunDKcqox",
        "outputId": "f139758a-0832-4b4b-cfed-b1854c0eb296"
      },
      "execution_count": null,
      "outputs": [
        {
          "output_type": "stream",
          "name": "stdout",
          "text": [
            "Epoch 1/5\n",
            "2933/2933 [==============================] - 145s 48ms/step - loss: 6.2093\n",
            "Epoch 2/5\n",
            "2933/2933 [==============================] - 137s 47ms/step - loss: 6.0680\n",
            "Epoch 3/5\n",
            "2933/2933 [==============================] - 141s 48ms/step - loss: 6.0596\n",
            "Epoch 4/5\n",
            "2933/2933 [==============================] - 139s 47ms/step - loss: 6.0353\n",
            "Epoch 5/5\n",
            "2933/2933 [==============================] - 137s 47ms/step - loss: 5.9949\n"
          ]
        },
        {
          "output_type": "execute_result",
          "data": {
            "text/plain": [
              "<keras.callbacks.History at 0x7f83c396dcd0>"
            ]
          },
          "metadata": {},
          "execution_count": 34
        }
      ]
    },
    {
      "cell_type": "markdown",
      "source": [
        "#GRU Model"
      ],
      "metadata": {
        "id": "LI1hXy0rcw5e"
      }
    },
    {
      "cell_type": "code",
      "source": [
        "gru_model = Sequential()\n",
        "gru_model.add(Embedding(input_dim=VOCAB_SIZE, output_dim=100, input_length=MAX_LEN))\n",
        "gru_model.add(GRU(units=100))\n",
        "gru_model.add(Dropout(rate=0.1))\n",
        "gru_model.add(Dense(units=target.shape[1], activation=\"softmax\"))"
      ],
      "metadata": {
        "id": "lzlVfrX8csmx"
      },
      "execution_count": 29,
      "outputs": []
    },
    {
      "cell_type": "code",
      "source": [
        "gru_model.compile(loss=\"categorical_crossentropy\", optimizer=\"adam\")"
      ],
      "metadata": {
        "id": "yAbzPQksczye"
      },
      "execution_count": 30,
      "outputs": []
    },
    {
      "cell_type": "code",
      "source": [
        "gru_model.summary()"
      ],
      "metadata": {
        "colab": {
          "base_uri": "https://localhost:8080/"
        },
        "id": "rBhQz1w4c1G7",
        "outputId": "535b53c8-5ba2-4a51-939e-8befbb28f1a4"
      },
      "execution_count": 31,
      "outputs": [
        {
          "output_type": "stream",
          "name": "stdout",
          "text": [
            "Model: \"sequential\"\n",
            "_________________________________________________________________\n",
            " Layer (type)                Output Shape              Param #   \n",
            "=================================================================\n",
            " embedding (Embedding)       (None, 29, 100)           200100    \n",
            "                                                                 \n",
            " gru (GRU)                   (None, 100)               60600     \n",
            "                                                                 \n",
            " dropout (Dropout)           (None, 100)               0         \n",
            "                                                                 \n",
            " dense (Dense)               (None, 19035)             1922535   \n",
            "                                                                 \n",
            "=================================================================\n",
            "Total params: 2,183,235\n",
            "Trainable params: 2,183,235\n",
            "Non-trainable params: 0\n",
            "_________________________________________________________________\n"
          ]
        }
      ]
    },
    {
      "cell_type": "code",
      "source": [
        "gru_model.fit(input_data, target, batch_size=32, epochs=5, verbose=1)"
      ],
      "metadata": {
        "colab": {
          "base_uri": "https://localhost:8080/"
        },
        "id": "osPgAfNPc2TO",
        "outputId": "8457f18f-65ed-446f-d623-5b069efe6cd1"
      },
      "execution_count": 32,
      "outputs": [
        {
          "output_type": "stream",
          "name": "stdout",
          "text": [
            "Epoch 1/5\n",
            "4390/4390 [==============================] - 283s 64ms/step - loss: 6.1696\n",
            "Epoch 2/5\n",
            "4390/4390 [==============================] - 265s 60ms/step - loss: 5.9879\n",
            "Epoch 3/5\n",
            "4390/4390 [==============================] - 265s 60ms/step - loss: 5.8940\n",
            "Epoch 4/5\n",
            "4390/4390 [==============================] - 263s 60ms/step - loss: 5.8275\n",
            "Epoch 5/5\n",
            "4390/4390 [==============================] - 253s 58ms/step - loss: 5.7648\n"
          ]
        },
        {
          "output_type": "execute_result",
          "data": {
            "text/plain": [
              "<keras.callbacks.History at 0x7fc4c2321210>"
            ]
          },
          "metadata": {},
          "execution_count": 32
        }
      ]
    },
    {
      "cell_type": "markdown",
      "source": [
        "#Text Generation"
      ],
      "metadata": {
        "id": "6tHXu3Gic55h"
      }
    },
    {
      "cell_type": "code",
      "source": [
        "from numpy.random import seed\n",
        "import tensorflow\n",
        "tensorflow.random.set_seed(2)\n",
        "seed(1)"
      ],
      "metadata": {
        "id": "TSvsAO0Tc4YC"
      },
      "execution_count": 33,
      "outputs": []
    },
    {
      "cell_type": "code",
      "source": [
        "def text_generater(seed_text, next_words, model, max_sequence_len):\n",
        "    for _ in range(next_words):\n",
        "        token_list = tokenizer.texts_to_sequences([seed_text])[0]\n",
        "        token_list = pad_sequences([token_list], maxlen=max_sequence_len, padding=\"post\")\n",
        "        predicted = gru_model.predict(token_list, verbose=0)\n",
        "        \n",
        "        output_word = \"\"\n",
        "        for word,index in tokenizer.word_index.items():\n",
        "            if index == predicted.all():\n",
        "                output_word = word\n",
        "                break\n",
        "        seed_text += \" \"+output_word\n",
        "    return seed_text.title()"
      ],
      "metadata": {
        "id": "E-A3xzA-c8pg"
      },
      "execution_count": 34,
      "outputs": []
    },
    {
      "cell_type": "code",
      "source": [
        "text1 = \"trade with\"\n",
        "text_generater(text1, 5, gru_model, MAX_LEN)"
      ],
      "metadata": {
        "colab": {
          "base_uri": "https://localhost:8080/",
          "height": 35
        },
        "id": "FWW0u9jFdOq8",
        "outputId": "5a4d2d26-ef17-4c9a-f425-8f8f3543486f"
      },
      "execution_count": 35,
      "outputs": [
        {
          "output_type": "execute_result",
          "data": {
            "application/vnd.google.colaboratory.intrinsic+json": {
              "type": "string"
            },
            "text/plain": [
              "'Trade I I'"
            ]
          },
          "metadata": {},
          "execution_count": 35
        }
      ]
    }
  ]
}